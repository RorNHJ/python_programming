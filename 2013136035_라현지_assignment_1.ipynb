{
 "cells": [
  {
   "cell_type": "markdown",
   "metadata": {},
   "source": [
    "# 2013136035 라현지    Assignment_1"
   ]
  },
  {
   "cell_type": "markdown",
   "metadata": {},
   "source": [
    "### a=\"Hello Python\" 문자열을 Slicing과 연결 연산자 (+)를 사용하여 \"Python Hello\"로 변경하시오.  \n",
    "#### [주의] a 변수 자체에 \"Python Hello\" 문자열이 저장되어야 함\n",
    "> 코드 해석\n",
    "\n",
    "> Hello는 0번째 부터 6번째 까지이고 Python 은 6번째부터 마지막자리까지 메모리를 차지하고 있다. \n",
    "> 그리고 띄어쓰기(공백)은 5번째자리이다.\n",
    "> 그럼으로 이것들을 자리에 맞게 슬라이싱하여서 다시 조합하면 a[6:] +a[5]+ a[:6] 이다."
   ]
  },
  {
   "cell_type": "code",
   "execution_count": 1,
   "metadata": {
    "collapsed": false
   },
   "outputs": [
    {
     "name": "stdout",
     "output_type": "stream",
     "text": [
      "Python Hello \n"
     ]
    }
   ],
   "source": [
    "a = \"Hello Python\"\n",
    "a = a[6:] +a[5]+ a[:6]\n",
    "print a"
   ]
  },
  {
   "cell_type": "markdown",
   "metadata": {},
   "source": [
    "### b=\"Hello Python World\" 문자열을 Slicing과 연결 연산자 (+)를 사용하여 \"World Python Hello\"로 변경하시오.\n",
    "#### [주의] b 변수 자체에 \"Python Hello\" 문자열이 저장되어야 함\n",
    "> 코드해석\n",
    "\n",
    "> World는 끝에서 5번째에 부터 마지막 자리까지이고 Hello는 첫번째부터 5번째짜리 까지, Python은 공백을 포함해서 5째부터 13째에 위치해 있다. "
   ]
  },
  {
   "cell_type": "code",
   "execution_count": 2,
   "metadata": {
    "collapsed": false
   },
   "outputs": [
    {
     "name": "stdout",
     "output_type": "stream",
     "text": [
      "World Python Hello\n"
     ]
    }
   ],
   "source": [
    "b=\"Hello Python World\"\n",
    "b =b[-5:]+b[5:13] + b[:5] \n",
    "print b"
   ]
  },
  {
   "cell_type": "markdown",
   "metadata": {},
   "source": [
    "### c=\"Hello\"를 \"olleH\"로 변경하시오\n",
    "#### [주의] c 변수 자체에 \"olleH\" 문자열이 저장되어야 함\n",
    "> 코드해석 \n",
    "\n",
    "> 거꾸로 출력하려면 문자 사이의 간격이 -1이 되어야한다."
   ]
  },
  {
   "cell_type": "code",
   "execution_count": 3,
   "metadata": {
    "collapsed": false
   },
   "outputs": [
    {
     "name": "stdout",
     "output_type": "stream",
     "text": [
      "olleH\n"
     ]
    }
   ],
   "source": [
    "c = \"Hello\"\n",
    "c = c[::-1]\n",
    "print c"
   ]
  },
  {
   "cell_type": "markdown",
   "metadata": {},
   "source": [
    "### s=\"python\"에 대해 다음 문제를 풀어보시오.\n",
    "\n",
    ">1. s[0], s[0][0], s[0][0][0]은 각각 어떤 값이 나오는지 확인하고 그 이유를 나름대로 설명해 보시오.\n",
    ">> 모두 p가 출력된다. s[0]은 p라는 단어를 가리킨다. s[0], s[0][0] , s[0][0][0]의 id값, 즉 식별자 값을 알아보면 모두 같은 값이 나온다. 즉, s[0]의 [0]의 [0]의 값은 모두 하나의 값을 가리키고 s[0][1] 이라고 입력하면 오류가 뜨는 것을 보아 하나의 문자열에서는 s[]의 값의 []를 알아볼 땐 0 값으로 제한 되어있다. \n",
    ">2. s[-100], s[100]은 값이 나오는지 에러가 나오는지 확인하고 그 결과에 대한 이유를 나름대로 설명해 보시오.\n",
    ">> s의 크기는 6이기 때문에 0,1,2,3,4,5 이내의 숫자만 확인이 가능하다.\n",
    "  \n",
    ">3. s[-100, 100]은 값이 나오는지 에러가 나오는지 확인하고 그 결과에 대한 이유를 나름대로 설명해 보시오.\n",
    ">> 위의 문자열은 0,1,2,3,4,5의 범위값을 가지며 총 6의 길이를 가지고 있다 그 이상과 이하의 범위에서는 할당된 메모리가 없기 때문에 값을 읽지 못한다.\n",
    "\n",
    ">4. s[1:-1]의 결과를 확인하고 그 결과에 대한 이유를 정확하게 설명하시오.\n",
    ">> s[1]의 값은 y이고 s[-1]은 n이다. 그래서 y부터 n 전까지 자르면 ytho 라는 답을 얻을 수 있다.\n",
    "\n",
    ">5. s[3:-3]의 결과를 확인하고 그 결과에 대한 이유를 정확하게 설명하시오.\n",
    ">>s[3] = h이고 s[-3] = h이다. h부터 h직전까지 자르면 그 사이에 남는 글자는 없기 때문에 아무런 값도 출력되지 않는다"
   ]
  },
  {
   "cell_type": "code",
   "execution_count": 4,
   "metadata": {
    "collapsed": false
   },
   "outputs": [
    {
     "name": "stdout",
     "output_type": "stream",
     "text": [
      "p p p\n"
     ]
    }
   ],
   "source": [
    "s = \"python\"\n",
    "print s[0], s[0][0], s[0][0][0]\n",
    "\n"
   ]
  },
  {
   "cell_type": "code",
   "execution_count": 5,
   "metadata": {
    "collapsed": false
   },
   "outputs": [
    {
     "ename": "IndexError",
     "evalue": "string index out of range",
     "output_type": "error",
     "traceback": [
      "\u001b[0;31m---------------------------------------------------------------------------\u001b[0m",
      "\u001b[0;31mIndexError\u001b[0m                                Traceback (most recent call last)",
      "\u001b[0;32m<ipython-input-5-c97a097d1de0>\u001b[0m in \u001b[0;36m<module>\u001b[0;34m()\u001b[0m\n\u001b[1;32m      1\u001b[0m \u001b[0ms\u001b[0m \u001b[1;33m=\u001b[0m \u001b[1;34m\"python\"\u001b[0m\u001b[1;33m\u001b[0m\u001b[0m\n\u001b[0;32m----> 2\u001b[0;31m \u001b[1;32mprint\u001b[0m \u001b[0ms\u001b[0m\u001b[1;33m[\u001b[0m\u001b[1;33m-\u001b[0m\u001b[1;36m100\u001b[0m\u001b[1;33m]\u001b[0m\u001b[1;33m,\u001b[0m \u001b[0ms\u001b[0m\u001b[1;33m[\u001b[0m\u001b[1;36m100\u001b[0m\u001b[1;33m]\u001b[0m\u001b[1;33m\u001b[0m\u001b[0m\n\u001b[0m",
      "\u001b[0;31mIndexError\u001b[0m: string index out of range"
     ]
    }
   ],
   "source": [
    "s = \"python\"\n",
    "print s[-100], s[100]\n"
   ]
  },
  {
   "cell_type": "code",
   "execution_count": 6,
   "metadata": {
    "collapsed": false
   },
   "outputs": [
    {
     "ename": "TypeError",
     "evalue": "string indices must be integers, not tuple",
     "output_type": "error",
     "traceback": [
      "\u001b[0;31m---------------------------------------------------------------------------\u001b[0m",
      "\u001b[0;31mTypeError\u001b[0m                                 Traceback (most recent call last)",
      "\u001b[0;32m<ipython-input-6-bba26eacd08e>\u001b[0m in \u001b[0;36m<module>\u001b[0;34m()\u001b[0m\n\u001b[1;32m      1\u001b[0m \u001b[0ms\u001b[0m \u001b[1;33m=\u001b[0m \u001b[1;34m\"python\"\u001b[0m\u001b[1;33m\u001b[0m\u001b[0m\n\u001b[0;32m----> 2\u001b[0;31m \u001b[1;32mprint\u001b[0m \u001b[0ms\u001b[0m\u001b[1;33m[\u001b[0m\u001b[1;33m-\u001b[0m\u001b[1;36m100\u001b[0m\u001b[1;33m,\u001b[0m\u001b[1;36m100\u001b[0m\u001b[1;33m]\u001b[0m\u001b[1;33m\u001b[0m\u001b[0m\n\u001b[0m",
      "\u001b[0;31mTypeError\u001b[0m: string indices must be integers, not tuple"
     ]
    }
   ],
   "source": [
    "s = \"python\"\n",
    "print s[-100,100]"
   ]
  },
  {
   "cell_type": "code",
   "execution_count": 7,
   "metadata": {
    "collapsed": false
   },
   "outputs": [
    {
     "name": "stdout",
     "output_type": "stream",
     "text": [
      "ytho\n"
     ]
    }
   ],
   "source": [
    "s = \"python\"\n",
    "print s[1:-1]"
   ]
  },
  {
   "cell_type": "code",
   "execution_count": 8,
   "metadata": {
    "collapsed": false
   },
   "outputs": [
    {
     "name": "stdout",
     "output_type": "stream",
     "text": [
      "\n"
     ]
    }
   ],
   "source": [
    "s = \"python\"\n",
    "print s[3:-3]"
   ]
  },
  {
   "cell_type": "markdown",
   "metadata": {},
   "source": [
    "### for문을 활용하여 1부터 100사이의 홀수를 출력하시오.\n",
    "> 코드해석 \n",
    "\n",
    "> 홀수는 2로 나누었을 때 나머지가 1인 숫자이므로 조건문을 사용하여 나머지 계산에서 값이 1일 경우 홀수이다."
   ]
  },
  {
   "cell_type": "code",
   "execution_count": 9,
   "metadata": {
    "collapsed": false
   },
   "outputs": [
    {
     "name": "stdout",
     "output_type": "stream",
     "text": [
      "1\n",
      "3\n",
      "5\n",
      "7\n",
      "9\n",
      "11\n",
      "13\n",
      "15\n",
      "17\n",
      "19\n",
      "21\n",
      "23\n",
      "25\n",
      "27\n",
      "29\n",
      "31\n",
      "33\n",
      "35\n",
      "37\n",
      "39\n",
      "41\n",
      "43\n",
      "45\n",
      "47\n",
      "49\n",
      "51\n",
      "53\n",
      "55\n",
      "57\n",
      "59\n",
      "61\n",
      "63\n",
      "65\n",
      "67\n",
      "69\n",
      "71\n",
      "73\n",
      "75\n",
      "77\n",
      "79\n",
      "81\n",
      "83\n",
      "85\n",
      "87\n",
      "89\n",
      "91\n",
      "93\n",
      "95\n",
      "97\n",
      "99\n"
     ]
    }
   ],
   "source": [
    "for x in range(100):\n",
    "    x = x+1\n",
    "    if (x%2) == 1 :\n",
    "        print x\n",
    "        "
   ]
  },
  {
   "cell_type": "markdown",
   "metadata": {},
   "source": [
    "### while문을 활용하여 1부터 100사이의 짝수의 합을 계산하여 출력하시오.\n",
    "> 코드해석 \n",
    "\n",
    "> x와 sum을 모두 0으로 초기화 하고 while문을 이용하여 100까지 반복하고, 나머지 계산에서 값이 2일 경우 짝수이므로 이들을\n",
    "> 더하여서 출력한다."
   ]
  },
  {
   "cell_type": "code",
   "execution_count": 10,
   "metadata": {
    "collapsed": false
   },
   "outputs": [
    {
     "name": "stdout",
     "output_type": "stream",
     "text": [
      "2550\n"
     ]
    }
   ],
   "source": [
    "x = 0\n",
    "sum = 0\n",
    "while x < 100:\n",
    "    x = x + 1\n",
    "    if (x%2) == 0 :\n",
    "        sum = x + sum\n",
    "print sum\n"
   ]
  },
  {
   "cell_type": "markdown",
   "metadata": {},
   "source": [
    "### 사용자로 부터 임의의 정수를 입력받고, 해당 숫자를 역순으로 출력하는 프로그램을 작성하시오.\n",
    "\n",
    "#### [실행 예]\n",
    "\n",
    "#### 정수를 입력하세요: 3125\n",
    "#### 숫자 역순은 5213 입니다.\n",
    "> 코드해석 \n",
    "\n",
    "> s에 사용자로부터 입력받은 정수를 가리키게 하고, p에는 0을 가리키게 한다. 그리고 s를 10으로 나누어서 나온 나머지 값에 10을 곱한 P값을 다시 더하고 s의 몫값을 다시 또 10으로 나누고 이 작업을 반복하면 역순으로 출력된다. "
   ]
  },
  {
   "cell_type": "code",
   "execution_count": 3,
   "metadata": {
    "collapsed": false
   },
   "outputs": [
    {
     "name": "stdout",
     "output_type": "stream",
     "text": [
      "�뺤닔瑜��낅젰�섏꽭��: 930583\n",
      "385039\n"
     ]
    }
   ],
   "source": [
    "\n",
    "p = 0\n",
    "s = input (\"정수를 입력하세요 : \")\n",
    "while s != 0 :\n",
    "    p = (s%10)+ p*10\n",
    "    s = s/10\n",
    "print p "
   ]
  },
  {
   "cell_type": "markdown",
   "metadata": {},
   "source": [
    "### 사용자로 부터 정수를 입력받아서 1부터 그 사이에 존재하는 소수 (Prime number)를 출력하는 파이썬 프로그램을 작성하시오.\n",
    "> 코드 해설 \n",
    "\n",
    "> 이중 for문을 사용하였다. 1과 자기 자신의 수를 제외한 다른 숫자들로 나누었을 경우 소수가 아님을 아는 방법이다. 첫번 째 반복문은 사용자에게 입력받은 정수 만큼 반복시키는 반복문이고, 두번째 반복문은 x에 y를 나누어서 나온 나머지 값이 0일 경우 소수가 아니니까 break로 그 반복문을 끝낸다.   "
   ]
  },
  {
   "cell_type": "code",
   "execution_count": 8,
   "metadata": {
    "collapsed": false
   },
   "outputs": [
    {
     "name": "stdout",
     "output_type": "stream",
     "text": [
      "-->50\n",
      "2\n",
      "3\n",
      "5\n",
      "7\n",
      "11\n",
      "13\n",
      "17\n",
      "19\n",
      "23\n",
      "29\n",
      "31\n",
      "37\n",
      "41\n",
      "43\n",
      "47\n"
     ]
    }
   ],
   "source": [
    "num = input(\"-->\")\n",
    "for x in range(1,num):\n",
    "    x = x+1\n",
    "    for y in range(1,x-1):\n",
    "        y = y+1\n",
    "        if(x%y == 0) :\n",
    "            break\n",
    "\n",
    "    else:\n",
    "        print x\n",
    "        \n",
    "        \n",
    "    \n",
    "        "
   ]
  },
  {
   "cell_type": "markdown",
   "metadata": {
    "collapsed": true
   },
   "source": [
    "### 프로젝트 오일러 1\n",
    "#### 10보다 작은 자연수 중에서 3 또는 5의 배수는 3, 5, 6, 9 이고, 이것을 모두 더하면 23입니다.\n",
    "#### 1000보다 작은 자연수 중에서 3 또는 5의 배수를 모두 더하면 얼마일까요?\n",
    "> 코드해석\n",
    "\n",
    "> or문을 이용하여서 3 또는 5의 배수 또는 3과 5의 배수의 숫자들을 모두 더한다."
   ]
  },
  {
   "cell_type": "code",
   "execution_count": 3,
   "metadata": {
    "collapsed": false
   },
   "outputs": [
    {
     "name": "stdout",
     "output_type": "stream",
     "text": [
      "233168\n"
     ]
    }
   ],
   "source": [
    "sum = 0\n",
    "for x in range(1000):\n",
    "\n",
    "    if((x%3 ==0) or (x%5 == 0)):\n",
    "        sum = sum + x\n",
    "print sum\n"
   ]
  },
  {
   "cell_type": "markdown",
   "metadata": {},
   "source": [
    "### 프로젝트 오일러2\n",
    "#### 피보나치 수열의 각 항은 바로 앞의 항 두 개를 더한 것이 됩니다. 1과 2로 시작하는 경우 이 수열은 아래와 같습니다.\n",
    "\n",
    "#### 1, 2, 3, 5, 8, 13, 21, 34, 55, 89, ...\n",
    "#### 짝수이면서 4백만 이하인 모든 항을 더하면 얼마가 됩니까?\n",
    ">코드 해석\n",
    "\n",
    ">피보나치 수열은 기본적으로 1과 2의 값을 가리키는 변수 2개가 필요하다 그리고 이 둘을 더한 값을 가리키는 변수도 필요하다.\n",
    ">3가지 변수를 선언하고 각각 초기화 시켜준다. while문을 사용하여 이 둘을 더한 값이 400만 이하일 경우 2로 나누어서 짝수 이면 sum에 더하고 다시 변수들을 새로운 값들로 대입한다. "
   ]
  },
  {
   "cell_type": "code",
   "execution_count": 4,
   "metadata": {
    "collapsed": false
   },
   "outputs": [
    {
     "name": "stdout",
     "output_type": "stream",
     "text": [
      "4613732\n"
     ]
    }
   ],
   "source": [
    "temp = 4000000\n",
    "after = 1 # 첫번째 수는 1\n",
    "before = 2 # 두번째 수는 2\n",
    "sum = 2 # 총 합계\n",
    "now = after + before # 두 수를 더한 값\n",
    "while now <= temp :\n",
    "    if ((now)% 2) == 0 : # 짝수일 경우 sum에 더함.\n",
    "        sum = sum + now\n",
    "    after = before # 첫번째수에 두번째 수 대입\n",
    "    before = now # 두번째 수에는 두개의 더한 값을 대입.\n",
    "    now = after + before #다시 첫번째수와 두번째수를 더한 값을 대입\n",
    "    \n",
    "print sum\n",
    "    \n",
    "    "
   ]
  },
  {
   "cell_type": "markdown",
   "metadata": {},
   "source": [
    "### 프로젝트 오일러3\n",
    "#### 어떤 수를 소수의 곱으로만 나타내는 것을 소인수분해라 하고, 이 소수들을 그 수의 소인수라고 합니다.\n",
    "#### 예를 들면 13195의 소인수는 5, 7, 13, 29 입니다.\n",
    "\n",
    "#### 600851475143의 소인수 중에서 가장 큰 수를 구하세요.\n",
    "\n",
    ">코드해석\n",
    "\n",
    ">소인수 분해의 값들은 모두 소수이다. 더이상 분해가 되지 않기 때문에 소수들로 이루어져있다. 먼저 제시된 조건 수인 600851475143의 \n",
    "> 소수들을 차례대로 구한다. 이때 차례대로 구해질 때마다 조건수로 나누었을 경우 나누어 떨어지면 소인수이다.\n",
    ">그 때의 소수 값을 max에 대입하고 다시 또 구해지면 대입한다. \n",
    "> 최종 값은 가장 큰 소수가 max에 저장되고 이것은 곧 가장 큰 소인수 값이다."
   ]
  },
  {
   "cell_type": "code",
   "execution_count": 9,
   "metadata": {
    "collapsed": false
   },
   "outputs": [
    {
     "ename": "KeyboardInterrupt",
     "evalue": "",
     "output_type": "error",
     "traceback": [
      "\u001b[0;31m---------------------------------------------------------------------------\u001b[0m",
      "\u001b[0;31mKeyboardInterrupt\u001b[0m                         Traceback (most recent call last)",
      "\u001b[0;32m<ipython-input-9-eac008354c49>\u001b[0m in \u001b[0;36m<module>\u001b[0;34m()\u001b[0m\n\u001b[1;32m      3\u001b[0m \u001b[1;32mwhile\u001b[0m \u001b[0mx\u001b[0m \u001b[1;33m<=\u001b[0m \u001b[1;36m600851475143\u001b[0m \u001b[1;33m:\u001b[0m\u001b[1;33m\u001b[0m\u001b[0m\n\u001b[1;32m      4\u001b[0m \u001b[1;33m\u001b[0m\u001b[0m\n\u001b[0;32m----> 5\u001b[0;31m     \u001b[1;32mfor\u001b[0m \u001b[0my\u001b[0m \u001b[1;32min\u001b[0m \u001b[0mrange\u001b[0m\u001b[1;33m(\u001b[0m\u001b[1;36m1\u001b[0m\u001b[1;33m,\u001b[0m\u001b[0mx\u001b[0m\u001b[1;33m-\u001b[0m\u001b[1;36m1\u001b[0m\u001b[1;33m)\u001b[0m\u001b[1;33m:\u001b[0m\u001b[1;33m\u001b[0m\u001b[0m\n\u001b[0m\u001b[1;32m      6\u001b[0m         \u001b[0my\u001b[0m \u001b[1;33m=\u001b[0m \u001b[0my\u001b[0m\u001b[1;33m+\u001b[0m\u001b[1;36m1\u001b[0m\u001b[1;33m\u001b[0m\u001b[0m\n\u001b[1;32m      7\u001b[0m         \u001b[1;32mif\u001b[0m \u001b[0mx\u001b[0m\u001b[1;33m%\u001b[0m\u001b[0my\u001b[0m \u001b[1;33m==\u001b[0m \u001b[1;36m0\u001b[0m \u001b[1;33m:\u001b[0m\u001b[1;33m\u001b[0m\u001b[0m\n",
      "\u001b[0;31mKeyboardInterrupt\u001b[0m: "
     ]
    }
   ],
   "source": [
    "max = 0\n",
    "x = 2\n",
    "while x <= 600851475143 :\n",
    "\n",
    "    for y in range(1,x-1):\n",
    "        y = y+1\n",
    "        if x%y == 0 :\n",
    "            \n",
    "            break\n",
    "    else:\n",
    "        if 600851475143%x == 0 :\n",
    "            max = x\n",
    "    x = x+1\n",
    "            \n",
    "print max\n",
    "        "
   ]
  },
  {
   "cell_type": "markdown",
   "metadata": {},
   "source": [
    "## 소감\n",
    "> 이번 과제를 통해서 파이썬의 가장 기본적인 문법들을 제대로 공부하게 되었습니다. 온라인강의 또한 굉장히 설명이 잘 되어있고 지루하지 않아서 공부하기에 아주 좋았습니다. 오일러문제를 풀면서 알고리즘에 대해서 다시 공부하게 되었던 좋은 계기가 되었습니다. \n",
    "> 그런데 프로젝트 오일러 3번 문제의 제시된 수가 너무 커서 그런지 결과값이 너무 느리게 나옵니다.... 13195를 넣으면 29가 제대로 나온는데\n",
    "> 수가 너무 커서 그런지 계산 값이 느리게 나옵니다... 코드와 알고리즘은 별문제가 없는것 같은데 제가 틀린건가요?"
   ]
  }
 ],
 "metadata": {
  "kernelspec": {
   "display_name": "Python 2",
   "language": "python",
   "name": "python2"
  },
  "language_info": {
   "codemirror_mode": {
    "name": "ipython",
    "version": 2
   },
   "file_extension": ".py",
   "mimetype": "text/x-python",
   "name": "python",
   "nbconvert_exporter": "python",
   "pygments_lexer": "ipython2",
   "version": "2.7.12"
  }
 },
 "nbformat": 4,
 "nbformat_minor": 1
}
