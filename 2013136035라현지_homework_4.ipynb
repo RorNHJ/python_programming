{
 "cells": [
  {
   "cell_type": "markdown",
   "metadata": {},
   "source": [
    "## 2013136035 라현지 Assignment – 4"
   ]
  },
  {
   "cell_type": "markdown",
   "metadata": {},
   "source": [
    "### [1번 문제] (1)\n",
    ">1) 파일 s.txt을 읽어서 각 라인에 있는 첫 번째 단어(문자열) 자체들을 기준으로 라인별 정렬후 파일 s1.txt에 그 결과를 기록하는 코드를 작성하시오. 즉, 프로그램 수행 후 s1.txt에 있는 파일 내용은 다음과 같다."
   ]
  },
  {
   "cell_type": "code",
   "execution_count": 101,
   "metadata": {
    "collapsed": false
   },
   "outputs": [
    {
     "name": "stdout",
     "output_type": "stream",
     "text": [
      "cat dog\n",
      "dog pig\n",
      "ham bird\n",
      "pig ham\n",
      "\n"
     ]
    }
   ],
   "source": [
    "def cmp_1(a1, a2):#첫번째 단어로 정렬\n",
    "    return cmp(a1[0], a2[0])\n",
    "\n",
    "def cmp_2(a1, a2):#두번째 단어로 정렬\n",
    "    return cmp(a1[1], a2[1])\n",
    "\n",
    "s = \"\"\"pig ham\n",
    "cat dog\n",
    "ham bird\n",
    "dog pig\n",
    "\"\"\"\n",
    "\n",
    "word=[]\n",
    "f = open('s.txt', 'w') # s.txt 파일에 쓰기모드로 s 내용을 입력하고 저장.\n",
    "f.write(s) # 문자열을 파일에 기록\n",
    "f = open('s.txt') # s.txt 파일 객체 생성\n",
    "\n",
    "for line in f:\n",
    "    w=line.split()\n",
    "    word.append(w)\n",
    "\n",
    "word.sort(cmp_1) # 단어 첫번째 기준으로 정렬\n",
    "\n",
    "f1 = open('s1.txt', 'w') # s1파일 을 생성하고 쓰기모드로 word 리스트의 내용들을 라인 단위로 파일 쓰기\n",
    "for i in word:\n",
    "    new_s = i[0]+' '+i[1] + '\\n' # new_s 변수에 보기좋게 문자열을 만들고 파일에 라인단위로 쓴다\n",
    "    f1.writelines(new_s )\n",
    "\n",
    "f1 = open('s1.txt')\n",
    "\n",
    "print f1.read()\n",
    "f1.close()\n",
    "f.close"
   ]
  },
  {
   "cell_type": "markdown",
   "metadata": {},
   "source": [
    "### [1번 문제] (2)\n",
    ">2) 파일 s.txt을 읽어서 각 라인에 있는 두 번째 단어(문자열) 자체들을 기준으로 라인별 정렬후 파일 s2.txt에 그 결과를 기록하는 코드를 작성하시오. 즉, 프로그램 수행 후 s2.txt에 있는 파일 내용은 다음과 같다."
   ]
  },
  {
   "cell_type": "code",
   "execution_count": 118,
   "metadata": {
    "collapsed": false,
    "scrolled": true
   },
   "outputs": [
    {
     "name": "stdout",
     "output_type": "stream",
     "text": [
      "ham bird\n",
      "cat dog\n",
      "pig ham\n",
      "dog pig\n",
      "\n"
     ]
    }
   ],
   "source": [
    "f = open('s.txt')\n",
    "word =[]\n",
    "for line in f:\n",
    "    w=line.split()\n",
    "    word.append(w)\n",
    "word.sort(cmp_2) # 단어 두번째 기준으로 정렬\n",
    "\n",
    "f2 = open('s2.txt','w') # s2파일 을 생성하고 쓰기모드로 word 리스트의 내용들을 라인 단위로 파일 쓰기\n",
    "new_s =[]\n",
    "for i in word:\n",
    "    new_s = i[0]+' '+i[1] + '\\n'# new_s 변수에 보기좋게 문자열을 만들고 파일에 라인단위로 쓴다\n",
    "    f2.writelines(new_s )\n",
    "\n",
    "f2 = open('s2.txt')\n",
    "\n",
    "print f2.read()\n",
    "f2.close()\n",
    "f.close()"
   ]
  },
  {
   "cell_type": "markdown",
   "metadata": {},
   "source": [
    "### [1번 문제] (3)\n",
    ">3) 파일 s.txt을 읽어서 각 라인들에 있는 모든 단어들을 순차적으로 다시 나열하되 각 라인에 세 개의 단어들이 오도록 하여 s3.txt에 기록하는 코드를 작성하시오. 즉, 프로그램 수행 후 s3.txt에 있는 파일 내용은 다음과 같다."
   ]
  },
  {
   "cell_type": "code",
   "execution_count": null,
   "metadata": {
    "collapsed": false
   },
   "outputs": [],
   "source": [
    "f = open('s.txt') # s.txt 파일 객체 생성\n",
    "f3 = open('s3.txt', 'w') # s3파일 을 생성하고 쓰기모드로 word 리스트의 내용들을 라인 단위로 파일 쓰기\n",
    "l = f.readline() # 일단 한줄 먼저 읽어와서 line에 문자열로 저장\n",
    "line = l\n",
    "\n",
    "while (l):\n",
    "    l = f.readline() \n",
    "    line = line + l # 읽어온 라인을 한줄의 문자열로 저장\n",
    "splitedLine = line.split() # 공백으로 분리\n",
    "for k,v in enumerate(splitedLine):\n",
    "    if (k%3) == 0 and (k!=0): # 3개 단위로 줄바꿈\n",
    "        f3.writelines('\\n')\n",
    "    f3.writelines(v+' ')\n",
    "\n",
    "f3 = open('s3.txt')\n",
    "print f3.read()\n",
    "f3.close()\n",
    "f.close()"
   ]
  },
  {
   "cell_type": "markdown",
   "metadata": {},
   "source": [
    "### [2번 문제]"
   ]
  },
  {
   "cell_type": "code",
   "execution_count": 10,
   "metadata": {
    "collapsed": false
   },
   "outputs": [
    {
     "name": "stdout",
     "output_type": "stream",
     "text": [
      "\n",
      "===========================\n",
      "Welcome to Our Service\n",
      "1. Sign Up\n",
      "2. Sign In\n",
      "3. Quit\n",
      "===========================\n",
      "\n",
      "Input : 2\n",
      "\n",
      "***********Login************\n",
      "\n",
      "Id: helloworld\n",
      "Password: abc\n",
      "\n",
      "Error : Sorry, the entered password is not correct.\n",
      "\n",
      "***********Login************\n",
      "\n",
      "Id: helloworld\n",
      "Password: abcABC1234\n",
      "\n",
      "Hello [ j i m i n ]\n",
      "\n",
      "===========================\n",
      "Welcome to Our Service\n",
      "1. Sign Up\n",
      "2. Sign In\n",
      "3. Quit\n",
      "===========================\n",
      "\n",
      "Input : 3\n",
      "\n",
      "<프로그램을 종료합니다.>\n"
     ]
    }
   ],
   "source": [
    "import sha\n",
    "\n",
    "#### 회원가입함수###\n",
    "def signUp() :\n",
    "    flag = 0 ## 정상 가입이 되면 1로 바꿔준다 .만약 계속 회원가입에 실패하면 정상 가입될때까지 반복문을 돌린다\n",
    "    while(flag == 0):\n",
    "        print '\\n***********Form************\\n'\n",
    "        Id = raw_input(\"Id: \")\n",
    "        Password = raw_input(\"Password: \")\n",
    "        Name = raw_input(\"Name: \")\n",
    "        School = raw_input(\"school: \")\n",
    "\n",
    "        password_encrypted = sha.new(Password).hexdigest() # 암호화한다\n",
    "        f = open('access.txt')\n",
    "\n",
    "        access_file = f.read()\n",
    "\n",
    "\n",
    "        if Id in access_file: ## id 값이 파일에 있는 값이라면 회원가입 실패\n",
    "            print '\\n<Error : Sorry, the entered ID is already used.>'\n",
    "        else: ## 예쁘게 출력\n",
    "            user_profile = '['+ Id + ']:[' + password_encrypted  +'],[' + Name+ '],['+ School+']\\n'\n",
    "            f = open('access.txt','a')\n",
    "            f.writelines(user_profile)\n",
    "            flag = 1 ## 정상 가입되면 1로 바꿔준다\n",
    "            print u'\\n<회원가입이 완료되었습니다.> '\n",
    "            f.close()\n",
    "##### 로그인 함수 ####\n",
    "def signIn():\n",
    "    flag = 0\n",
    "    while(flag == 0):\n",
    "        print '\\n***********Login************\\n'\n",
    "        \n",
    "        Id = raw_input(\"Id: \")\n",
    "        Password = raw_input(\"Password: \")\n",
    "        password_encrypted = sha.new(Password).hexdigest()\n",
    "        \n",
    "        f = open('access.txt')\n",
    "        for line in f: # id가 일치하는 먼저 검사\n",
    "            if Id in line:\n",
    "                if password_encrypted in line: # 비밀번호가 일치하면 index에 저장\n",
    "                     # 파일에 저장된 형식이 [비밀번호],[이름] 임으로 이름을 참조하려면 비밀번호 index값에 ],[ 만큼인 3을 더해주고 \n",
    "                    #  index+3의 값인 위치부터 문자열을 출력하고 ]를 만나면 break를 한다\n",
    "                    index = line.find(password_encrypted) # 암호화된 비밀번호\n",
    "                    s = len(password_encrypted)+3\n",
    "                    s= index +s\n",
    "                    print '\\nHello [',\n",
    "                    for i in line[s:]:\n",
    "                        if i ==']':\n",
    "                            break\n",
    "                        else:\n",
    "                            print i,\n",
    "                    print ']'\n",
    "                    flag = 1\n",
    "                    f.close()\n",
    "                    break\n",
    "                else :\n",
    "                    print '\\n<Error : Sorry, the entered password is not correct.>'\n",
    "                    break\n",
    "        else:\n",
    "            print '\\n<Error : Sorry, you are not a registered member.>'\n",
    "\n",
    "notice = '''\n",
    "===========================\n",
    "Welcome to Our Service\n",
    "1. Sign Up\n",
    "2. Sign In\n",
    "3. Quit\n",
    "===========================\n",
    "'''\n",
    "flag = 0\n",
    "while(flag == 0):\n",
    "    print notice\n",
    "    num = input(\"Input : \")\n",
    "    if num == 1 :\n",
    "        signUp()\n",
    "    elif num == 2:\n",
    "        signIn()\n",
    "    elif num == 3:\n",
    "        flag = 1\n",
    "        print u'\\n<프로그램을 종료합니다.>'\n",
    "    else:\n",
    "        print u\"\\n<Error : 잘못된 입력입니다.>\"\n"
   ]
  },
  {
   "cell_type": "markdown",
   "metadata": {},
   "source": [
    "### [3번 문제]"
   ]
  },
  {
   "cell_type": "code",
   "execution_count": 65,
   "metadata": {
    "collapsed": false
   },
   "outputs": [
    {
     "name": "stdout",
     "output_type": "stream",
     "text": [
      "[0.0, 0.1, 0.2, 0.30000000000000004, 0.4]\n",
      "[1.0, 1.1, 1.2000000000000002, 1.3000000000000003, 1.4000000000000004, 1.5000000000000004, 1.6000000000000005, 1.7000000000000006, 1.8000000000000007, 1.9000000000000008]\n",
      "[2.2, 2.7, 3.2, 3.7]\n"
     ]
    }
   ],
   "source": [
    "def frange(start,stop=0.0,step=0.1):\n",
    "    result =[]\n",
    "    \n",
    "    if(stop == 0.0):\n",
    "        i = stop\n",
    "        while(i < start):\n",
    "            result.append(i)\n",
    "            i = i+ step\n",
    "    else:\n",
    "        i= start\n",
    "        while(i < stop):\n",
    "            result.append(i)\n",
    "            i = i+ step\n",
    "            \n",
    "    return result\n",
    "print frange(0.5)\n",
    "print frange(1.0, 2.0)\n",
    "print frange(2.2, 4.0, 0.5)\n",
    "## 근데 이거 왜 연산결과가 이런가요...??"
   ]
  },
  {
   "cell_type": "markdown",
   "metadata": {},
   "source": [
    "### [4번 문제]"
   ]
  },
  {
   "cell_type": "code",
   "execution_count": 63,
   "metadata": {
    "collapsed": false
   },
   "outputs": [
    {
     "name": "stdout",
     "output_type": "stream",
     "text": [
      "0\n",
      "3\n",
      "15\n",
      "5\n"
     ]
    }
   ],
   "source": [
    "def sum(*args):\n",
    "    result = 0\n",
    "    \n",
    "    for i in args:\n",
    "        result = result + i\n",
    "    return result\n",
    "\n",
    "print sum()\n",
    "print sum(1,2)\n",
    "print sum(1, 2, 3, 4, 5)\n",
    "print sum(1, 5, 7, 2, -10)\n",
    "        "
   ]
  },
  {
   "cell_type": "markdown",
   "metadata": {},
   "source": [
    "### [5번 문제]"
   ]
  },
  {
   "cell_type": "code",
   "execution_count": 15,
   "metadata": {
    "collapsed": false
   },
   "outputs": [
    {
     "name": "stdout",
     "output_type": "stream",
     "text": [
      "ASAP\n"
     ]
    }
   ],
   "source": [
    "def myinitial(s):\n",
    "    w = s.title() # 매개변수로 들어오는 단어를 title 함수를 사용하여 대문자로 변환,\n",
    "    return w[0] # 가장 첫 단어만 리턴\n",
    "\n",
    "s = 'as soon as possible'\n",
    "result_str = ''.join(map(myinitial,s.split())) # s 문자열을 split 함수로 나누고 myinitial 함수에 map을 이용하여 원소 하나씩 함수호출\n",
    "# 그리고 ioin 함수를 이용하여 map함수 호출로 나온 리스트의 원소들을 연결\n",
    "print result_str"
   ]
  },
  {
   "cell_type": "markdown",
   "metadata": {},
   "source": [
    "### [6번 문제]"
   ]
  },
  {
   "cell_type": "code",
   "execution_count": 23,
   "metadata": {
    "collapsed": false
   },
   "outputs": [
    {
     "name": "stdout",
     "output_type": "stream",
     "text": [
      "maximum recursion depth exceeded\n",
      "500500\n"
     ]
    }
   ],
   "source": [
    "import sys\n",
    "def myfact(n): # n! 팩토리얼 재귀함수\n",
    "    if n==1:\n",
    "        return n\n",
    "    return n + myfact(n-1)\n",
    "try:\n",
    "    print myfact(1000)\n",
    "except:\n",
    "    print \"maximum recursion depth exceeded\"\n",
    "sys.setrecursionlimit(1500)\n",
    "print myfact(1000)\n",
    "# 수가 많이 커지면 maximum recursion depth exceeded 라는 오류가 생긴다 \n",
    "# 파이썬은 재귀함수 호출(되부름 =recursion)에 한계값을 정해놓고 그 값이 넘어가면 더이상 재귀함수 호출을 하지 않는다 \n",
    "# 이 한계치는 변경이 가능하며 sys.setrecursionlimit(한계값)를 사용하여 변경이 가능하다"
   ]
  },
  {
   "cell_type": "markdown",
   "metadata": {},
   "source": [
    "### [7번 문제]   (서술형) import string 과 from string import * 의 차이점을 설명하시오.\n",
    "> import string : string 이라는 모듈 안에  test()라는 함수가 있다면 사용할 때 모듈.을 붙여서  string.test() 구문으로 사용할 수 있다.   \n",
    "> from string import test : 사용할 때  test() 라고만 써도 사용할 수 있다.  \n",
    "> from string import * : test 뿐만 아니라 string 모듈 안의 모든 함수들 함수 이름만 써도 사용할 수 있다. "
   ]
  },
  {
   "cell_type": "markdown",
   "metadata": {},
   "source": [
    "### 오일러 Problem 10"
   ]
  },
  {
   "cell_type": "code",
   "execution_count": 5,
   "metadata": {
    "collapsed": false
   },
   "outputs": [
    {
     "name": "stdout",
     "output_type": "stream",
     "text": [
      "142913828922\n"
     ]
    }
   ],
   "source": [
    "import math\n",
    "\n",
    "sum = 2 # 2가 소수라는것은 명백함으로 2를 먼저 SUM에 넣는다\n",
    "for i in range(3,2000001,2): # 3부터 시작해서 홀수만 대입\n",
    "    n = int(math.sqrt(i))\n",
    "    for j in range(2,n+1):  # 제곱근까지만 반복\n",
    "        if(i%j == 0):\n",
    "            break\n",
    "    else: # if문에 대응하는게 아니고 for문에 대한 else 에요! \n",
    "        sum = i + sum # 소수이면 SUM에 합한다\n",
    "        \n",
    "    \n",
    "print sum"
   ]
  },
  {
   "cell_type": "markdown",
   "metadata": {},
   "source": [
    "### 오일러 Problem 11"
   ]
  },
  {
   "cell_type": "code",
   "execution_count": 11,
   "metadata": {
    "collapsed": false
   },
   "outputs": [
    {
     "name": "stdout",
     "output_type": "stream",
     "text": [
      "max value :  70600674\n"
     ]
    }
   ],
   "source": [
    "num = 400\n",
    "a = 17\n",
    "\n",
    "# 가장 큰 결과값\n",
    "max_result = 0\n",
    "temp = '08 02 22 97 38 15 00 40 00 75 04 05 07 78 52 12 50 77 91 08 49 49 99 40 17 81 18 57 60 87 17 40 98 43 69 48 04 56 62 00 81 49 31 73 55 79 14 29 93 71 40 67 53 88 30 03 49 13 36 65 52 70 95 23 04 60 11 42 69 24 68 56 01 32 56 71 37 02 36 91 22 31 16 71 51 67 63 89 41 92 36 54 22 40 40 28 66 33 13 80 24 47 32 60 99 03 45 02 44 75 33 53 78 36 84 20 35 17 12 50 32 98 81 28 64 23 67 10 26 38 40 67 59 54 70 66 18 38 64 70 67 26 20 68 02 62 12 20 95 63 94 39 63 08 40 91 66 49 94 21 24 55 58 05 66 73 99 26 97 17 78 78 96 83 14 88 34 89 63 72 21 36 23 09 75 00 76 44 20 45 35 14 00 61 33 97 34 31 33 95 78 17 53 28 22 75 31 67 15 94 03 80 04 62 16 14 09 53 56 92 16 39 05 42 96 35 31 47 55 58 88 24 00 17 54 24 36 29 85 57 86 56 00 48 35 71 89 07 05 44 44 37 44 60 21 58 51 54 17 58 19 80 81 68 05 94 47 69 28 73 92 13 86 52 17 77 04 89 55 40 04 52 08 83 97 35 99 16 07 97 57 32 16 26 26 79 33 27 98 66 88 36 68 87 57 62 20 72 03 46 33 67 46 55 12 32 63 93 53 69 04 42 16 73 38 25 39 11 24 94 72 18 08 46 29 32 40 62 76 36 20 69 36 41 72 30 23 88 34 62 99 69 82 67 59 85 74 04 36 16 20 73 35 29 78 31 90 01 74 31 49 71 48 86 81 16 23 57 05 54 01 70 54 71 83 51 54 69 16 92 33 48 61 43 52 01 89 19 67 48'\n",
    "temp = temp.split() # 공백으로 \n",
    "\n",
    "# 리스트안의 모든 원소를 int형식으로 바꾼다\n",
    "for k,x in enumerate(temp):\n",
    "    temp[k] = int(x)\n",
    "\n",
    "\n",
    "for k,x in enumerate(temp):\n",
    "    if (k < a) and (k <337): # 수평과 대각선 곱셈은 17,37,57...337번째 인덱스까지만 곱셈이가능.. \n",
    "        x_result = temp[k]* temp[k+1] * temp[k+2] *temp[k+3] # 수평 곱셈\n",
    "        z1_result = temp[k]*temp[k+21] * temp[k+42] *temp[k+63] # 오른쪽방향 대각선 곱셈\n",
    "        z2_result = temp[k+3]* temp[k+22]* temp[k+41] *temp[k+60] #  왼쪽방향 대각선 곱셈\n",
    "        a= a+20\n",
    "    if(k < 340): # 수직 곱셈은 17번째줄 부터는 불가하니까 인덱스 340번까지만 곱셈연산\n",
    "        y_result = temp[k]* temp[k+20]* temp[k+40] *temp[k+60] # 수직 곱셈\n",
    "    \n",
    "    arr = [x_result,y_result,z1_result,z2_result] # 네가지 곱셈들을 리스트에 차례로 저장\n",
    "    temp_result=max(arr) # 네가지 들중 가장 큰 값을 max함수로 추출\n",
    "    if max_result <= temp_result : # 비교해서 가장 크면 max에 저장\n",
    "        max_result = temp_result\n",
    "        \n",
    "print \"max value : \" , max_result\n",
    "        \n"
   ]
  },
  {
   "cell_type": "markdown",
   "metadata": {},
   "source": [
    "### 오일러 problem 12  [포기요 ㅠㅠ..]"
   ]
  },
  {
   "cell_type": "code",
   "execution_count": 52,
   "metadata": {
    "collapsed": false
   },
   "outputs": [
    {
     "name": "stdout",
     "output_type": "stream",
     "text": [
      "73920 :  112\n"
     ]
    }
   ],
   "source": [
    "import math\n",
    "\n",
    "def sosu(param): # 소수 구하는 함수 \n",
    "    i = 3\n",
    "    sosu = [2,3]\n",
    "    while(i<=param):\n",
    "        i = i+2\n",
    "        n = int(math.sqrt(i))\n",
    "        for j in range(2,n+1):\n",
    "            if(i%j == 0):\n",
    "                break\n",
    "        else:\n",
    "            sosu.append(i)\n",
    "    return sosu\n",
    "\n",
    "                \n",
    "prime =[]\n",
    "i=0\n",
    "n=2\n",
    "x= 0\n",
    "while (n):\n",
    "    x= n*(n+1)/2\n",
    "    k= x\n",
    "    i=0\n",
    "    prime = []\n",
    "    p=sosu(x)\n",
    "    while(x!=1):\n",
    "        if(x%p[i]==0):\n",
    "            x=x/p[i]\n",
    "            prime.append(p[i])\n",
    "        else:\n",
    "            i = i+1\n",
    "            \n",
    "\n",
    "    temp = []\n",
    "    m = 1\n",
    "    for i in set(prime):\n",
    "        temp.append(prime.count(i)+1)\n",
    "\n",
    "    for i in temp:\n",
    "        m = m*i\n",
    "\n",
    "    if m>=100:\n",
    "        print k,': ' ,m\n",
    "        break\n",
    "    else:\n",
    "        n= n+1\n",
    "    \n",
    "\n",
    "\n",
    "    \n",
    "    \n",
    "\n"
   ]
  },
  {
   "cell_type": "code",
   "execution_count": 25,
   "metadata": {
    "collapsed": false
   },
   "outputs": [
    {
     "name": "stdout",
     "output_type": "stream",
     "text": [
      "[2, 2, 2, 2, 2, 2, 2, 2, 2]\n",
      "223092870.0\n",
      "[3, 3, 2, 2, 2, 2, 2, 2]\n",
      "58198140.0\n",
      "[3, 3, 3, 3, 2, 2, 2]\n",
      "107207100.0\n",
      "[3, 3, 3, 3, 3, 3]\n",
      "901800900.0\n",
      "[4, 4, 4, 3, 3]\n",
      "160083000.0\n",
      "[5, 5, 5, 4]\n",
      "277830000.0\n",
      "[8, 8, 8]\n",
      "21870000000.0\n",
      "[23, 22]\n",
      "4.38739012808e+16\n"
     ]
    }
   ],
   "source": [
    "import math\n",
    "\n",
    "def fun(jisu,i):\n",
    "    for k,v in enumerate(jisu):\n",
    "        jisu[k] = v-1\n",
    "    m=1\n",
    "    mini = 0\n",
    "    sosu = [2, 3, 5, 7, 11, 13, 17, 19, 23]\n",
    "#     while(True):\n",
    "    for k,v in enumerate(sosu):\n",
    "        if k==len(jisu):\n",
    "            break   \n",
    "        m = math.pow(v,jisu[k])*m\n",
    "    return m    \n",
    "#         n=0\n",
    "#         while (True):\n",
    "#             if n*(n+1)/2 == m:\n",
    "#                 if mini > =m :\n",
    "#                     mini = m\n",
    "#                 break\n",
    "#             n = n+1\n",
    "            \n",
    "#         for k,v in enumerate(jisu):\n",
    "#             jisu[i] = jisu[i]+1\n",
    "    #     print m\n",
    "\n",
    "    #     print (-1+math.sqrt(8*m))/2\n",
    "\n",
    "    #         n2+n-2m\n",
    "\n",
    "\n",
    "\n",
    "flag = True\n",
    "\n",
    "jisu = [2,2,2,2,2,2,2,2,2]\n",
    "# jisu = [2,2,2,2]\n",
    "m=1\n",
    "n=0\n",
    "i=0\n",
    "j=0\n",
    "result = []\n",
    "while(flag):\n",
    "    if( len(jisu) ==1):\n",
    "        flag = False\n",
    "    for k,v in enumerate(jisu):\n",
    "        m = m*v\n",
    "    if(m>=500 ):\n",
    "        print jisu\n",
    "        print fun(jisu,i)\n",
    "        del jisu[len(jisu)-1]\n",
    "    else :\n",
    "        jisu[i] = jisu[i]+1\n",
    "        i= i+1\n",
    "          \n",
    "    m=1\n",
    "    if( i ==len(jisu)):\n",
    "        i = 0\n",
    "\n",
    "\n",
    "    \n"
   ]
  },
  {
   "cell_type": "code",
   "execution_count": 23,
   "metadata": {
    "collapsed": false
   },
   "outputs": [
    {
     "name": "stdout",
     "output_type": "stream",
     "text": [
      "12375\n"
     ]
    }
   ],
   "source": [
    "import math\n",
    "\n",
    "def sosu(param): # 소수 구하는 함수 \n",
    "    i = 3\n",
    "    sosu = [2,3]\n",
    "    while(i<=param):\n",
    "        i = i+2\n",
    "        n = int(math.sqrt(i))\n",
    "        for j in range(2,n+1):\n",
    "            if(i%j == 0):\n",
    "                break\n",
    "        else:\n",
    "            sosu.append(i)\n",
    "    return sosu\n",
    "\n",
    "prime =[]\n",
    "i=0\n",
    "n=2\n",
    "x= 0\n",
    "\n",
    "\n",
    "\n",
    "\n"
   ]
  },
  {
   "cell_type": "markdown",
   "metadata": {},
   "source": [
    "### 오일러 problem 13"
   ]
  },
  {
   "cell_type": "code",
   "execution_count": 12,
   "metadata": {
    "collapsed": false
   },
   "outputs": [
    {
     "name": "stdout",
     "output_type": "stream",
     "text": [
      "5537376230\n"
     ]
    }
   ],
   "source": [
    "arr  = '''37107287533902102798797998220837590246510135740250\n",
    "46376937677490009712648124896970078050417018260538\n",
    "74324986199524741059474233309513058123726617309629\n",
    "91942213363574161572522430563301811072406154908250\n",
    "23067588207539346171171980310421047513778063246676\n",
    "89261670696623633820136378418383684178734361726757\n",
    "28112879812849979408065481931592621691275889832738\n",
    "44274228917432520321923589422876796487670272189318\n",
    "47451445736001306439091167216856844588711603153276\n",
    "70386486105843025439939619828917593665686757934951\n",
    "62176457141856560629502157223196586755079324193331\n",
    "64906352462741904929101432445813822663347944758178\n",
    "92575867718337217661963751590579239728245598838407\n",
    "58203565325359399008402633568948830189458628227828\n",
    "80181199384826282014278194139940567587151170094390\n",
    "35398664372827112653829987240784473053190104293586\n",
    "86515506006295864861532075273371959191420517255829\n",
    "71693888707715466499115593487603532921714970056938\n",
    "54370070576826684624621495650076471787294438377604\n",
    "53282654108756828443191190634694037855217779295145\n",
    "36123272525000296071075082563815656710885258350721\n",
    "45876576172410976447339110607218265236877223636045\n",
    "17423706905851860660448207621209813287860733969412\n",
    "81142660418086830619328460811191061556940512689692\n",
    "51934325451728388641918047049293215058642563049483\n",
    "62467221648435076201727918039944693004732956340691\n",
    "15732444386908125794514089057706229429197107928209\n",
    "55037687525678773091862540744969844508330393682126\n",
    "18336384825330154686196124348767681297534375946515\n",
    "80386287592878490201521685554828717201219257766954\n",
    "78182833757993103614740356856449095527097864797581\n",
    "16726320100436897842553539920931837441497806860984\n",
    "48403098129077791799088218795327364475675590848030\n",
    "87086987551392711854517078544161852424320693150332\n",
    "59959406895756536782107074926966537676326235447210\n",
    "69793950679652694742597709739166693763042633987085\n",
    "41052684708299085211399427365734116182760315001271\n",
    "65378607361501080857009149939512557028198746004375\n",
    "35829035317434717326932123578154982629742552737307\n",
    "94953759765105305946966067683156574377167401875275\n",
    "88902802571733229619176668713819931811048770190271\n",
    "25267680276078003013678680992525463401061632866526\n",
    "36270218540497705585629946580636237993140746255962\n",
    "24074486908231174977792365466257246923322810917141\n",
    "91430288197103288597806669760892938638285025333403\n",
    "34413065578016127815921815005561868836468420090470\n",
    "23053081172816430487623791969842487255036638784583\n",
    "11487696932154902810424020138335124462181441773470\n",
    "63783299490636259666498587618221225225512486764533\n",
    "67720186971698544312419572409913959008952310058822\n",
    "95548255300263520781532296796249481641953868218774\n",
    "76085327132285723110424803456124867697064507995236\n",
    "37774242535411291684276865538926205024910326572967\n",
    "23701913275725675285653248258265463092207058596522\n",
    "29798860272258331913126375147341994889534765745501\n",
    "18495701454879288984856827726077713721403798879715\n",
    "38298203783031473527721580348144513491373226651381\n",
    "34829543829199918180278916522431027392251122869539\n",
    "40957953066405232632538044100059654939159879593635\n",
    "29746152185502371307642255121183693803580388584903\n",
    "41698116222072977186158236678424689157993532961922\n",
    "62467957194401269043877107275048102390895523597457\n",
    "23189706772547915061505504953922979530901129967519\n",
    "86188088225875314529584099251203829009407770775672\n",
    "11306739708304724483816533873502340845647058077308\n",
    "82959174767140363198008187129011875491310547126581\n",
    "97623331044818386269515456334926366572897563400500\n",
    "42846280183517070527831839425882145521227251250327\n",
    "55121603546981200581762165212827652751691296897789\n",
    "32238195734329339946437501907836945765883352399886\n",
    "75506164965184775180738168837861091527357929701337\n",
    "62177842752192623401942399639168044983993173312731\n",
    "32924185707147349566916674687634660915035914677504\n",
    "99518671430235219628894890102423325116913619626622\n",
    "73267460800591547471830798392868535206946944540724\n",
    "76841822524674417161514036427982273348055556214818\n",
    "97142617910342598647204516893989422179826088076852\n",
    "87783646182799346313767754307809363333018982642090\n",
    "10848802521674670883215120185883543223812876952786\n",
    "71329612474782464538636993009049310363619763878039\n",
    "62184073572399794223406235393808339651327408011116\n",
    "66627891981488087797941876876144230030984490851411\n",
    "60661826293682836764744779239180335110989069790714\n",
    "85786944089552990653640447425576083659976645795096\n",
    "66024396409905389607120198219976047599490197230297\n",
    "64913982680032973156037120041377903785566085089252\n",
    "16730939319872750275468906903707539413042652315011\n",
    "94809377245048795150954100921645863754710598436791\n",
    "78639167021187492431995700641917969777599028300699\n",
    "15368713711936614952811305876380278410754449733078\n",
    "40789923115535562561142322423255033685442488917353\n",
    "44889911501440648020369068063960672322193204149535\n",
    "41503128880339536053299340368006977710650566631954\n",
    "81234880673210146739058568557934581403627822703280\n",
    "82616570773948327592232845941706525094512325230608\n",
    "22918802058777319719839450180888072429661980811197\n",
    "77158542502016545090413245809786882778948721859617\n",
    "72107838435069186155435662884062257473692284509516\n",
    "20849603980134001723930671666823555245252804609722\n",
    "53503534226472524250874054075591789781264330331690'''\n",
    "\n",
    "arr =arr.split('\\n')\n",
    "result = 0\n",
    "for i in arr:\n",
    "    result = result + int(i)\n",
    "\n",
    "result = str(result)\n",
    "print result[0:10]"
   ]
  },
  {
   "cell_type": "markdown",
   "metadata": {
    "collapsed": true
   },
   "source": [
    "### 오일러 problem 14"
   ]
  },
  {
   "cell_type": "code",
   "execution_count": 66,
   "metadata": {
    "collapsed": false
   },
   "outputs": [
    {
     "name": "stdout",
     "output_type": "stream",
     "text": [
      "   정답 :  837799\n",
      "경로 수 :  524\n"
     ]
    }
   ],
   "source": [
    "route = 0 # 최대 경로의 수 \n",
    "oobak = 0 # 최대 경로의 수를 가진 우박수\n",
    "for x in range(1,1000000):\n",
    "    n=x\n",
    "    count = 0\n",
    "    while(n!=1):\n",
    "        if(n%2 == 0): # 짝수일때\n",
    "            n = n/2\n",
    "        else : # 홀수일때\n",
    "            n = (3*n) + 1\n",
    "        count = count+1 # 경로 하나 추가\n",
    "    if route < count :\n",
    "        oobak = x\n",
    "        route = count\n",
    "print '   정답 : ', oobak \n",
    "print '경로 수 : ', route"
   ]
  },
  {
   "cell_type": "markdown",
   "metadata": {
    "collapsed": true
   },
   "source": [
    "### 오일러 Problem 15\n",
    "> 이 문제는 조합문제라고 함. 2 * 2 배열에서   \n",
    "R : 오른쪽, D : 아래 라고하면   \n",
    "RRDD   \n",
    "RDRD   \n",
    "RDDR  \n",
    "DRDR  \n",
    "DRRD  \n",
    "DDRR  \n",
    "이라는 경로가 나온다 이것은 오른쪽 20칸, 아래쪽 20칸을 순서를 고려하며 중복을 허용하지 않는 조합문제와 같다  \n",
    "\n",
    "\n",
    ">조합 공식은 n!/r!(n-r)! 이다   \n",
    ">참고 사이트 : http://sdev.tistory.com/158"
   ]
  },
  {
   "cell_type": "code",
   "execution_count": 38,
   "metadata": {
    "collapsed": false
   },
   "outputs": [
    {
     "name": "stdout",
     "output_type": "stream",
     "text": [
      "815915283247897734345611269596115894272000000000\n"
     ]
    }
   ],
   "source": [
    "def factori(n):\n",
    "    if(n == 1) :\n",
    "        return 1\n",
    "    return n*factori(n-1)\n",
    "\n",
    "n=40 # 오른쪽으로 20칸, 아래쪽으로 20칸 ,총 40칸\n",
    "r = 20 # 오른쪽 기준 20칸\n",
    "print factori(n) / factori(r)*factori(n-r)"
   ]
  },
  {
   "cell_type": "markdown",
   "metadata": {},
   "source": [
    "### [Incremental Project]"
   ]
  },
  {
   "cell_type": "code",
   "execution_count": 14,
   "metadata": {
    "collapsed": false
   },
   "outputs": [
    {
     "name": "stdout",
     "output_type": "stream",
     "text": [
      "C:\\Users\\hyun ji Ra\\Implement\n",
      "www.nytimes.com\n",
      "[34, 'raquo'] [28, 'times'] [27, 'trump']\n",
      "en.wikipedia.org\n",
      "[17, 'wikipedia'] [11, '\\xe2\\x80\\x93'] [8, 'page']\n",
      "zeroturnaround.com\n",
      "[8, 'jrebel'] [7, 'var'] [6, 'development']\n",
      "stackoverflow.com\n",
      "[149, '0'] [96, 'ago'] [95, 'views']\n",
      "www.bbc.com\n",
      "[20, 'bbc'] [14, 'amp'] [13, 'var']\n",
      "\n",
      "search Word: var\n",
      "\n",
      "유사도 순위 (앞의 숫자가 클수록  유사도가 크다 )\n",
      "4 .  www.nytimes.com\n",
      "4 .  en.wikipedia.org\n",
      "3 .  www.bbc.com\n",
      "3 .  stackoverflow.com\n",
      "2 .  zeroturnaround.com\n"
     ]
    }
   ],
   "source": [
    "#-*- coding: utf-8 -*-\n",
    "# nytimes 홈페이지\n",
    "import string\n",
    "import urllib2\n",
    "import pickle\n",
    "import os\n",
    "\n",
    "os.chdir('\\Users\\hyun ji Ra\\Implement') # 작업할 폴더 변경\n",
    "print os.getcwd()\n",
    "url_list =['http://www.nytimes.com','https://en.wikipedia.org','https://zeroturnaround.com','http://stackoverflow.com','http://www.bbc.com']\n",
    "\n",
    "for key,v in enumerate(url_list):\n",
    "#     source 변수에 페이지 소스를 읽어온다.\n",
    "    source = urllib2.urlopen(v).read()\n",
    "    # http:// Ehsms https://가 문자열에 있으면 제거한다.\n",
    "    if 'https://' in url_list[key] or 'http://' in url_list[key]:\n",
    "        url_list[key]=url_list[key].replace('https://','')\n",
    "        url_list[key]=url_list[key].replace('http://','')\n",
    "        print url_list[key]\n",
    "    \n",
    "\n",
    "    # 읽어온 페이지의 줄띄움, 탭, 빈 공간을 모두 없애주고 한줄로 깔끔하게 정리한다.\n",
    "    source = source.replace('\\n','')\n",
    "    source =  source.replace('\\t','')\n",
    "    f =  open(url_list[key]+'.html', 'w') # html로 저장하기 위해 파일 생성\n",
    "    pickle.dump(source,f) #pickle로 저장\n",
    "    new=[]\n",
    "    dic = dict()\n",
    "    \n",
    "    \n",
    "\n",
    "    while 1:\n",
    "        # <의 위치값\n",
    "        start = source.find('<')\n",
    "        # >의 위치값은 항상 <보다 커야한다. 그래야 html 태그라고 볼 수 있다.\n",
    "        end = source.find('>',start)\n",
    "\n",
    "        # html 태그가 아닌 순수한 문자열 중에서도 <와 >가 있을 수 있다. 그것을 구분하기 위한 코드이다.\n",
    "        # html 태그라면 <의 위치값이 >의 위치값 보다 항상 낮다. 만약 크다면 순수한 문자열이라고 볼 수 있다.\n",
    "        if (start-end) >= 1 :\n",
    "            continue     \n",
    "\n",
    "        # html 태그가 맞다면 태그 부분을 빈 공간으로 대체한다.\n",
    "        if ( start != -1) and (end != -1):\n",
    "            source =  source.replace(source[start:end+1],\" \")       \n",
    "\n",
    "        # html 태그를 모두 찾고 더이상 없으면 반복문을 종료\n",
    "        if ( start == -1) and (end == -1):\n",
    "            break\n",
    "\n",
    "    new = source.split() # 공백으로 단어 분리 해서 new에 리스트로 저장\n",
    "    for i,s in enumerate(new):\n",
    "        for k in s:\n",
    "            if k in string.punctuation: # 글자 외의 기호들을 모두 ''로 치환.\n",
    "                s= s.replace(k,'')\n",
    "        else :\n",
    "            new[i] = s\n",
    "\n",
    "    #################################################################\n",
    "    # 불용어 리스트 생성\n",
    "    stop_words =['a', 'about', 'above', 'across', 'after', 'again', 'against', 'all', 'almost', 'alone', 'along', 'already', 'also', 'although', 'always', 'among', 'an', 'and', 'another', 'any', 'anybody', 'anyone', 'anything', 'anywhere', 'are', 'area', 'areas', 'around', 'as', 'ask', 'asked', 'asking', 'asks', 'at', 'away', 'b', 'back', 'backed', 'backing', 'backs', 'be', 'became', 'because', 'become', 'becomes', 'been', 'before', 'began', 'behind', 'being', 'beings', 'best', 'better', 'between', 'big', 'both', 'but', 'by', 'c', 'came', 'can', 'cannot', 'case', 'cases', 'certain', 'certainly', 'clear', 'clearly', 'come', 'could', 'd', 'did', 'differ', 'different', 'differently', 'do', 'does', 'done', 'down', 'down', 'downed', 'downing', 'downs', 'during', 'e', 'each', 'early', 'either', 'end', 'ended', 'ending', 'ends', 'enough', 'even', 'evenly', 'ever', 'every', 'everybody', 'everyone', 'everything', 'everywhere', 'f', 'face', 'faces', 'fact', 'facts', 'far', 'felt', 'few', 'find', 'finds', 'first', 'for', 'four', 'from', 'full', 'fully', 'further', 'furthered', 'furthering', 'furthers', 'g', 'gave', 'general', 'generally', 'get', 'gets', 'give', 'given', 'gives', 'go', 'going', 'good', 'goods', 'got', 'great', 'greater', 'greatest', 'group', 'grouped', 'grouping', 'groups', 'h', 'had', 'has', 'have', 'having', 'he', 'her', 'here', 'herself', 'high', 'high', 'high', 'higher', 'highest', 'him', 'himself', 'his', 'how', 'however', 'i', 'if', 'important', 'in', 'interest', 'interested', 'interesting', 'interests', 'into', 'is', 'it', 'its', 'itself', 'j', 'just', 'k', 'keep', 'keeps', 'kind', 'knew', 'know', 'known', 'knows', 'l', 'large', 'largely', 'last', 'later', 'latest', 'least', 'less', 'let', 'lets', 'like', 'likely', 'long', 'longer', 'longest', 'm', 'made', 'make', 'making', 'man', 'many', 'may', 'me', 'member', 'members', 'men', 'might', 'more', 'most', 'mostly', 'mr', 'mrs', 'much', 'must', 'my', 'myself', 'n', 'necessary', 'need', 'needed', 'needing', 'needs', 'never', 'new', 'new', 'newer', 'newest', 'next', 'no', 'nobody', 'non', 'noone', 'not', 'nothing', 'now', 'nowhere', 'number', 'numbers', 'o', 'of', 'off', 'often', 'old', 'older', 'oldest', 'on', 'once', 'one', 'only', 'open', 'opened', 'opening', 'opens', 'or', 'order', 'ordered', 'ordering', 'orders', 'other', 'others', 'our', 'out', 'over', 'p', 'part', 'parted', 'parting', 'parts', 'per', 'perhaps', 'place', 'places', 'point', 'pointed', 'pointing', 'points', 'possible', 'present', 'presented', 'presenting', 'presents', 'problem', 'problems', 'put', 'puts', 'q', 'quite', 'r', 'rather', 'really', 'right', 'right', 'room', 'rooms', 's', 'said', 'same', 'saw', 'say', 'says', 'second', 'seconds', 'see', 'seem', 'seemed', 'seeming', 'seems', 'sees', 'several', 'shall', 'she', 'should', 'show', 'showed', 'showing', 'shows', 'side', 'sides', 'since', 'small', 'smaller', 'smallest', 'so', 'some', 'somebody', 'someone', 'something', 'somewhere', 'state', 'states', 'still', 'still', 'such', 'sure', 't', 'take', 'taken', 'than', 'that', 'the', 'their', 'them', 'then', 'there', 'therefore', 'these', 'they', 'thing', 'things', 'think', 'thinks', 'this', 'those', 'though', 'thought', 'thoughts', 'three', 'through', 'thus', 'to', 'today', 'together', 'too', 'took', 'toward', 'turn', 'turned', 'turning', 'turns', 'two', 'u', 'under', 'until', 'up', 'upon', 'us', 'use', 'used', 'uses', 'v', 'very', 'w', 'want', 'wanted', 'wanting', 'wants', 'was', 'way', 'ways', 'we', 'well', 'wells', 'went', 'were', 'what', 'when', 'where', 'whether', 'which', 'while', 'who', 'whole', 'whose', 'why', 'will', 'with', 'within', 'without', 'work', 'worked', 'working', 'works', 'would', 'x', 'y', 'year', 'years', 'yet', 'you', 'young', 'younger', 'youngest', 'your', 'yours', 'z']\n",
    "    new_word =[]\n",
    "    for i,n in enumerate(new):\n",
    "        if n != '' : # 리스트 안에 '' 요소, 불용어들을 제외한 단어들은 새로운 리스트에 넣는다\n",
    "            n = n.lower() # 불용어 리스트 안에는 모두 소문자이기 때문에  n값중 한글자가 대문자일수있으니까 모두 소문자로 바꿔준다\n",
    "            if (n in stop_words) == False:\n",
    "                new_word.append(n)\n",
    "\n",
    "\n",
    "    for n in  new_word:\n",
    "        dic[n]=  new_word.count(n) # 리스트안의 요소들을 카운트 해서 dic 사전에 저장\n",
    "        \n",
    "        \n",
    "    \n",
    "    f_dic = open(url_list[key]+'.words.frequency', 'w')   # 단어 사전 객체를 파일로 저장하기위 \n",
    "    pickle.dump(dic,f_dic) # pickle로 이용해서 파일로 저장\n",
    "    f_dic.close() # pickle로 다시 불러들이긴 위해서는 한번 닫아줘야한다\n",
    "    f_dicLoad = open(url_list[key]+'.words.frequency')\n",
    "    load_dic= pickle.load(f_dicLoad)  # pickle로 다시 로드\n",
    " \n",
    "    items =[]\n",
    "    for k in load_dic: \n",
    "        items.append(list((load_dic[k],k))) # 값 위주로 정렬하기위해서 items에 [값,키]로 다시 저장\n",
    "    items.sort(reverse = True) # 숫자가 큰거에서 작은거로 뒤집어 정렬\n",
    "    print items[0],items[1],items[2] # 앞에서 부터 3개 출력\n",
    "\n",
    "f.close()\n",
    "f_dic.close()\n",
    "\n",
    "\n",
    "#########################  간단한 검색엔진 코딩  ###################################\n",
    "print\n",
    "searchWord = raw_input(\"search Word: \") # 검색할 단어 입력\n",
    "similarity = dict()\n",
    "for i in url_list:\n",
    "    f_dicLoad = open(i+'.words.frequency')\n",
    "    load_dic= pickle.load(f_dicLoad)  # pickle로 다시 로드\n",
    "    load_dicKey = load_dic.keys() # 해당 url의 단어들 저장\n",
    "\n",
    "    # 검색할 단어의 빈도수 가지고 유사도 측정 \n",
    "    # 카운트되는 단어의 개수가 많을수록 similarity의 숫자가 크다 유사도가 크다\n",
    "    if searchWord in load_dicKey:\n",
    "        valueCount = load_dic[searchWord]\n",
    "\n",
    "    if  valueCount > 0 and valueCount <= 1 :\n",
    "        similarity[i] = 1\n",
    "    elif valueCount > 1 and valueCount <= 10:\n",
    "        similarity[i] = 2\n",
    "    elif valueCount > 10 and valueCount<= 20:\n",
    "        similarity[i] = 3\n",
    "    elif valueCount > 20 and valueCount<= 30:\n",
    "        similarity[i] = 4\n",
    "    elif valueCount > 30:\n",
    "        similarity[i] = 5\n",
    "    else:\n",
    "        similarity[i] = 0\n",
    "\n",
    "\n",
    "similarity_rank =[]\n",
    "for k,v in similarity.items(): \n",
    "    similarity_rank.append(list((v,k))) # 키가 아닌 값 위주로 출력하기 위해 리스트에 다시 저장\n",
    "similarity_rank.sort(reverse = True)# 유사도 정렬\n",
    "print u\"\\n유사도 순위 (앞의 숫자가 클수록  유사도가 크다 )\"\n",
    "\n",
    "\n",
    "for k,v in similarity_rank:\n",
    "    print k,'. ',v\n",
    "\n",
    "\n"
   ]
  },
  {
   "cell_type": "markdown",
   "metadata": {
    "collapsed": true
   },
   "source": [
    "### 7) [주의] 필수사항\n",
    "위에서 만든 검색엔진 코딩은 매우 간단한 것이라 부족한 점이 많이 존재한다.\n",
    "본인이 생각하기에 상업적인 완성도 높은 검색 로봇/엔진이 되려면 어떤 기능들이 추가적으로 구현되어야 할지 최소 3가지 이상 제시하시오.\n",
    "\n",
    "> 1. 검색하는 단어에 대한 여러가지 형태를 비슷한 것이라고 인식해야한다\n",
    ">> 예를 들자면 time에 대한 단어는 times, the time, timer, time의 대한 검색 결과도 같이 나타나는게 좋다. 그럴려면 time 단어에 대한 또하나의 리스트나 배열, 데이터베이스가 필요하다고 생각한다.\n",
    "> 2. 두개의 단어로 이루어진 문자열에 대해 우선순위를 정해 제목, 내용 검색이 있어야한다.\n",
    ">> 예를 들어 \"Exception에 대한 처리 방법\" 이라고 검색한다면 검색 1순위는   \n",
    "1순위 : 전체 문장에 부합하는 게시글의 제목 또는 내용   \n",
    "2순위 : 검색어에 포함된 연속된 단어(Exception에 대한 , 대한 처리, 처리 방법)가 포함된 게시글의 제목 또는 내용  \n",
    "3순위 : 'Exception'이 불용어가 아니고 가장 앞문장에 있으니까 중요도(가중치)가 가장 클 것임으로 Exception이 포함되며 \n",
    "'대한' or '처리' or '방법'의 셋 중 하나의 단어가 포함된 게시글의 제목 또는 내용     \n",
    ">>등으로 정리할수 있다.\n",
    "> 3. 정확하지 않은 단어나 검색 결과 수가 많이 적을 경우 자체적으로 비슷한 단어에 대해 검색을 하거나 단어추천을 한다\n",
    ">> 예를 들어 '오나전무결' 이라고 하면 '완전무결' 이라고 자체적으로 다시 검색하거나 파리바게뜨 검색은 어떠냐며 사용자에게 추천을 해준다\n"
   ]
  },
  {
   "cell_type": "markdown",
   "metadata": {},
   "source": [
    "## 과제 소감\n",
    "3번문제는 원래 소수 연산이 저렇게 출력되는건가요? \n",
    "오일러문제 12번 너무 어려워서 포기했습니다. 인터넷에서 참고해봐도 이해하기 어려워서 패쓰했습니다. "
   ]
  }
 ],
 "metadata": {
  "kernelspec": {
   "display_name": "Python 2",
   "language": "python",
   "name": "python2"
  },
  "language_info": {
   "codemirror_mode": {
    "name": "ipython",
    "version": 2
   },
   "file_extension": ".py",
   "mimetype": "text/x-python",
   "name": "python",
   "nbconvert_exporter": "python",
   "pygments_lexer": "ipython2",
   "version": "2.7.12"
  }
 },
 "nbformat": 4,
 "nbformat_minor": 1
}
