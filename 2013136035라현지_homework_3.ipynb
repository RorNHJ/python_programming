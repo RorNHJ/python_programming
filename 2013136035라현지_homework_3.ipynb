{
 "cells": [
  {
   "cell_type": "markdown",
   "metadata": {},
   "source": [
    "## 2013136035 라현지 assignment_3 "
   ]
  },
  {
   "cell_type": "markdown",
   "metadata": {},
   "source": [
    "### 1.  L=[1, 2, 3, 4, 5]일 때 다음 각 문장을 수행한 후의 결과를 보고 납득할 만한 이유를 설명하시오.\n",
    "\n"
   ]
  },
  {
   "cell_type": "code",
   "execution_count": 29,
   "metadata": {
    "collapsed": false
   },
   "outputs": [
    {
     "name": "stdout",
     "output_type": "stream",
     "text": [
      "[1, 100, 4, 5]\n"
     ]
    }
   ],
   "source": [
    "L=[1, 2, 3, 4, 5]\n",
    "L[1:3] = [100]  \n",
    "print L  "
   ]
  },
  {
   "cell_type": "markdown",
   "metadata": {},
   "source": [
    "L[1:3] = [100]의 수행결과 이유\n",
    "> 리스트는 문자열과 달리, 내용을 바꿀 수 있다.L[1:3]d은 L[1]과 L[2]를 합친 크기에 [100]이라는 원소 한 개의 크기를 넣는 것이다. 결국 두 크기를 하나의 크기로 바꾸기 때문에 전체 크기가 4이고 100으로 바뀐 리스트가 출력된다."
   ]
  },
  {
   "cell_type": "code",
   "execution_count": 16,
   "metadata": {
    "collapsed": false
   },
   "outputs": [
    {
     "name": "stdout",
     "output_type": "stream",
     "text": [
      "[1, 100, 4, 5]\n"
     ]
    }
   ],
   "source": [
    "L=[1, 2, 3, 4, 5]\n",
    "L[1:3] = [(100)]  \n",
    "print L  "
   ]
  },
  {
   "cell_type": "markdown",
   "metadata": {},
   "source": [
    "L[1:3] = [(100)]의 수행결과 이유\n",
    "> (100)을 type((100))으로 출력해보면 int 자료형이 나온다. 100과 (100)은 같은 int형으로 자료형이 같다. 둘은 같기 때문에  [(100)]을 해도  \n",
    "L[1:3] = [100]의 결과와 같은 결과가 출력된다."
   ]
  },
  {
   "cell_type": "code",
   "execution_count": 24,
   "metadata": {
    "collapsed": false
   },
   "outputs": [
    {
     "ename": "TypeError",
     "evalue": "can only assign an iterable",
     "output_type": "error",
     "traceback": [
      "\u001b[0;31m---------------------------------------------------------------------------\u001b[0m",
      "\u001b[0;31mTypeError\u001b[0m                                 Traceback (most recent call last)",
      "\u001b[0;32m<ipython-input-24-490c0aa029a8>\u001b[0m in \u001b[0;36m<module>\u001b[0;34m()\u001b[0m\n\u001b[1;32m      1\u001b[0m \u001b[0mL\u001b[0m\u001b[1;33m=\u001b[0m\u001b[1;33m[\u001b[0m\u001b[1;36m1\u001b[0m\u001b[1;33m,\u001b[0m \u001b[1;36m2\u001b[0m\u001b[1;33m,\u001b[0m \u001b[1;36m3\u001b[0m\u001b[1;33m,\u001b[0m \u001b[1;36m4\u001b[0m\u001b[1;33m,\u001b[0m \u001b[1;36m5\u001b[0m\u001b[1;33m]\u001b[0m\u001b[1;33m\u001b[0m\u001b[0m\n\u001b[0;32m----> 2\u001b[0;31m \u001b[0mL\u001b[0m\u001b[1;33m[\u001b[0m\u001b[1;36m1\u001b[0m\u001b[1;33m:\u001b[0m\u001b[1;36m3\u001b[0m\u001b[1;33m]\u001b[0m \u001b[1;33m=\u001b[0m \u001b[1;36m100\u001b[0m\u001b[1;33m\u001b[0m\u001b[0m\n\u001b[0m\u001b[1;32m      3\u001b[0m \u001b[1;32mprint\u001b[0m \u001b[0mL\u001b[0m\u001b[1;33m\u001b[0m\u001b[0m\n",
      "\u001b[0;31mTypeError\u001b[0m: can only assign an iterable"
     ]
    }
   ],
   "source": [
    "L=[1, 2, 3, 4, 5]\n",
    "L[1:3] = 100\n",
    "print L  "
   ]
  },
  {
   "cell_type": "markdown",
   "metadata": {},
   "source": [
    "L[1:3] = 100 의 수행결과 이유\n",
    "> 파이썬에서는  str, range, list, tuple, dict, set 들을 iterable 자료형이라고 한다. 오류에서 처럼 iterable 자료형만 할당이 가능하기 때문에 \n",
    "100은 int 자료형이라 오류가 생긴다."
   ]
  },
  {
   "cell_type": "code",
   "execution_count": 18,
   "metadata": {
    "collapsed": false
   },
   "outputs": [
    {
     "ename": "TypeError",
     "evalue": "can only assign an iterable",
     "output_type": "error",
     "traceback": [
      "\u001b[0;31m---------------------------------------------------------------------------\u001b[0m",
      "\u001b[0;31mTypeError\u001b[0m                                 Traceback (most recent call last)",
      "\u001b[0;32m<ipython-input-18-ae4c322ff64e>\u001b[0m in \u001b[0;36m<module>\u001b[0;34m()\u001b[0m\n\u001b[1;32m      1\u001b[0m \u001b[0mL\u001b[0m\u001b[1;33m=\u001b[0m\u001b[1;33m[\u001b[0m\u001b[1;36m1\u001b[0m\u001b[1;33m,\u001b[0m \u001b[1;36m2\u001b[0m\u001b[1;33m,\u001b[0m \u001b[1;36m3\u001b[0m\u001b[1;33m,\u001b[0m \u001b[1;36m4\u001b[0m\u001b[1;33m,\u001b[0m \u001b[1;36m5\u001b[0m\u001b[1;33m]\u001b[0m\u001b[1;33m\u001b[0m\u001b[0m\n\u001b[0;32m----> 2\u001b[0;31m \u001b[0mL\u001b[0m\u001b[1;33m[\u001b[0m\u001b[1;36m1\u001b[0m\u001b[1;33m:\u001b[0m\u001b[1;36m3\u001b[0m\u001b[1;33m]\u001b[0m \u001b[1;33m=\u001b[0m \u001b[1;33m(\u001b[0m\u001b[1;36m100\u001b[0m\u001b[1;33m)\u001b[0m\u001b[1;33m\u001b[0m\u001b[0m\n\u001b[0m\u001b[1;32m      3\u001b[0m \u001b[1;32mprint\u001b[0m \u001b[0mL\u001b[0m\u001b[1;33m\u001b[0m\u001b[0m\n",
      "\u001b[0;31mTypeError\u001b[0m: can only assign an iterable"
     ]
    }
   ],
   "source": [
    "L=[1, 2, 3, 4, 5]\n",
    "L[1:3] = (100)  \n",
    "print L  "
   ]
  },
  {
   "cell_type": "markdown",
   "metadata": {},
   "source": [
    "L[1:3] = (100) 의 수행결과 이유\n",
    "> 파이썬에서는 str, range, list, tuple, dict, set 들을 iterable 자료형이라고 한다. 오류에서 처럼 iterable 자료형만 할당이 가능하기 때문에 (100)은 int 자료형이라 오류가 생긴다."
   ]
  },
  {
   "cell_type": "code",
   "execution_count": 25,
   "metadata": {
    "collapsed": false
   },
   "outputs": [
    {
     "name": "stdout",
     "output_type": "stream",
     "text": [
      "<type 'tuple'>\n",
      "[1, 100, 101, 102, 4, 5]\n"
     ]
    }
   ],
   "source": [
    "L=[1, 2, 3, 4, 5]\n",
    "L[1:3] = (100, 101, 102)  \n",
    "print L  "
   ]
  },
  {
   "cell_type": "markdown",
   "metadata": {},
   "source": [
    " L[1:3] = (100, 101, 102) 의 수행결과 이유\n",
    " > (100, 101, 102)의 자료형은 tuple이며  iterable 자료형이기 때문에 할당이 가능하다. L[1],L[2]의 크기를 (100, 101, 102)의 크기로 바껴야 하기 때문에 전체 크기가 증가한 리스트가 출력된다."
   ]
  },
  {
   "cell_type": "code",
   "execution_count": 20,
   "metadata": {
    "collapsed": false
   },
   "outputs": [
    {
     "name": "stdout",
     "output_type": "stream",
     "text": [
      "[1, 100, 101, 102, 4, 5]\n"
     ]
    }
   ],
   "source": [
    "L=[1, 2, 3, 4, 5]\n",
    "L[1:3] = [100, 101, 102]  \n",
    "print L  "
   ]
  },
  {
   "cell_type": "markdown",
   "metadata": {},
   "source": [
    " L[1:3] = [100, 101, 102] 의 수행결과 이유\n",
    " > [100, 101, 102]의 자료형은 리스트이며  iterable 자료형이기 때문에 할당이 가능하다. L[1],L[2]의 크기를 [100, 101, 102]의 크기로 바껴야 하기 때문에 전체 크기가 증가한 리스트가 출력된다. 위의 이유와 동일."
   ]
  },
  {
   "cell_type": "code",
   "execution_count": 28,
   "metadata": {
    "collapsed": false
   },
   "outputs": [
    {
     "name": "stdout",
     "output_type": "stream",
     "text": [
      "[1, (100, 101, 102), 4, 5]\n"
     ]
    }
   ],
   "source": [
    "L=[1, 2, 3, 4, 5]\n",
    "L[1:3] = [(100, 101, 102)]  \n",
    "print L  "
   ]
  },
  {
   "cell_type": "markdown",
   "metadata": {},
   "source": [
    "L[1:3] = [(100, 101, 102)] 의 수행결과 이유\n",
    "> [(100, 101, 102)]의 리스트 안에는 튜플 (100, 101, 102)이 있다. 하나의 리스트안에 튜플이 있는 것이다.  L[1],L[2]에 하나의 리스트를 넣는 것이기 때문에 원소 한 개로 취급 되기 때문에 전체 크기가 4이고 (100, 101, 102)를 하나의 원소로 가지는 리스트가 출력된다."
   ]
  },
  {
   "cell_type": "code",
   "execution_count": 22,
   "metadata": {
    "collapsed": false
   },
   "outputs": [
    {
     "name": "stdout",
     "output_type": "stream",
     "text": [
      "[1, [100, 101, 102], 4, 5]\n"
     ]
    }
   ],
   "source": [
    "L=[1, 2, 3, 4, 5]\n",
    "L[1:3] = [[100, 101, 102]]  \n",
    "print L  "
   ]
  },
  {
   "cell_type": "markdown",
   "metadata": {},
   "source": [
    "L[1:3] = [[100, 101, 102]] 의 수행결과 이유\n",
    "> [[100, 101, 102]]의 리스트 안에는 리스트 [100, 101, 102]이 있다. 하나의 리스트안에 튜플이 있는 것이다. L[1],L[2]에 하나의 리스트를 넣는 것이기 때문에 원소 한 개로 취급 되기 때문에 전체 크기가 4이고 [100, 101, 102]를 하나의 원소로 가지는 리스트가 출력된다."
   ]
  },
  {
   "cell_type": "markdown",
   "metadata": {},
   "source": [
    "### 2. 문자열 S = 'Hello World and Python'에 대해 다음 요구사항에 대한 Python 코드를 제시하시오.\n",
    "1) 단어의 순서가 역순으로 되어진 문자열 ('Python and World Hello')을 만들고  \n",
    "2) 1)의 결과 문자열에 대해 메소드 split과 join을 이용하여 공백을 모두 없엔 문자열 'PythonandWorldHello'을 만드시오."
   ]
  },
  {
   "cell_type": "code",
   "execution_count": 41,
   "metadata": {
    "collapsed": false
   },
   "outputs": [
    {
     "name": "stdout",
     "output_type": "stream",
     "text": [
      "Python and World Hello \n",
      "PythonandWorldHello\n"
     ]
    }
   ],
   "source": [
    "S = 'Hello World and Python'\n",
    "S_split = S.split()\n",
    "S_new= ''\n",
    "for i in S_split[::-1]:\n",
    "    S_new = S_new + i +' '\n",
    "print S_new\n",
    "\n",
    "S_new = S_new.split()\n",
    "print ''.join(S_new)\n",
    "        "
   ]
  },
  {
   "cell_type": "markdown",
   "metadata": {},
   "source": [
    "### 2번 문제 코드 설명\n",
    "> 먼저 S의 문자열을 split 함수로 단어를 분리하여 리스트로 만들어서 S_split 변수에 할당하고, S_split를 반복문을 사용하여 거꾸로 돌린다. 반복문이 한번 지날 때 마다 S_new 변수에 단어 한 개와 공백이 새로 할당이 되어 역순으로 되어진 문자열이 출력된다.\n",
    "> 그리고 S_new 변수를 다시 split 함수로 단어별로 나누고 join 함수를 사용하여 공백이없는 역순 문자열을 출력한다."
   ]
  },
  {
   "cell_type": "markdown",
   "metadata": {},
   "source": [
    "### 3. 다음 코드를 보고 물음에 답하시오.\n",
    "\n",
    ">a = [1, 2, 3]  \n",
    "b = a \\* 3  \n",
    "c = [a] \\* 3  \n",
    "print b  \n",
    "print c  \n",
    "1) 위 코드를 수행한 이후 다음 코드를 수행한 후 b와 c의 내용을 확인하시오.  \n",
    "a[0]=0  \n",
    "2) b와 c 객체의 차이는 무엇인가?  "
   ]
  },
  {
   "cell_type": "code",
   "execution_count": 66,
   "metadata": {
    "collapsed": false
   },
   "outputs": [
    {
     "name": "stdout",
     "output_type": "stream",
     "text": [
      "[1, 2, 3, 1, 2, 3, 1, 2, 3]\n",
      "[[1, 2, 3], [1, 2, 3], [1, 2, 3]]\n",
      "[1, 2, 3, 1, 2, 3, 1, 2, 3]\n",
      "[[0, 2, 3], [0, 2, 3], [0, 2, 3]]\n"
     ]
    }
   ],
   "source": [
    "a = [1, 2, 3]\n",
    "b = a * 3\n",
    "c = [a] *3\n",
    "print b\n",
    "print c\n",
    "a[0] =0\n",
    "print b\n",
    "print c"
   ]
  },
  {
   "cell_type": "markdown",
   "metadata": {},
   "source": [
    "### 3번 문제 설명\n",
    "> b와 c의 객체의 차이  \n",
    "> a[0] =0 실행 이후, b의 출력값은 변함이 없고 c의 출력값은 a[0] =0가  적용되었다.  \n"
   ]
  },
  {
   "cell_type": "markdown",
   "metadata": {},
   "source": [
    "### 4.  다음 문자열을 ':'을 기준으로 분리하여 리스트로 만들고 각 문자열의 좌우 공백을 제거하시오 (즉, 문자열 S에서 l을 만들어라)\n",
    "> s = '  first star   :   second star   :    third star  '  \n",
    "l = ['first star', 'second star', 'third star']  \n",
    "1) for ~ in 문을 이용한 코드를 작성하시오.  \n",
    "2) 리스트 내포(list comprehension)를 이용한 코드를 작성하시오.  "
   ]
  },
  {
   "cell_type": "code",
   "execution_count": 75,
   "metadata": {
    "collapsed": false
   },
   "outputs": [
    {
     "name": "stdout",
     "output_type": "stream",
     "text": [
      "['first star', 'second star', 'third star']\n",
      "['first star', 'second star', 'third star']\n"
     ]
    }
   ],
   "source": [
    "# 1) for ~ in 사용\n",
    "s = '  first star   :   second star   :    third star  '\n",
    "s = s.split(':')\n",
    "I = []\n",
    "for i in s:\n",
    "    I.append(i.strip())\n",
    "print I\n",
    "\n",
    "# 2) 리스트 내포 사용\n",
    "s = '  first star   :   second star   :    third star  '\n",
    "s = s.split(':')\n",
    "l = [i.strip() for i in s]\n",
    "print l"
   ]
  },
  {
   "cell_type": "markdown",
   "metadata": {},
   "source": [
    "### 5. 다음과 같이 0보다 큰 정수 리스트 변수 list를 인자로 받는 함수 addall(list)와 addallodd(list)를 for ~ in 리터널과 리스트 내포 방식으로 각각 제시하시오.\n",
    "1) addall(list) 함수 (리스트 내의 모든 정수를 더하는 함수로서 해답으로는 for ~ in 리터럴과 리스트 내포 방식으로 각각 제시하시오.)  \n",
    "\\>>> addall([1])  \n",
    "1  \n",
    "\\>>> addall([1, 2, 3, 4, 5, 6, 7, 8, 9])  \n",
    "45  \n",
    "2) addallodd(list) 함수 (리스트내의 모든 홀수를 더하는 함수로서 해답으로는 for ~ in 리터럴과 리스트 내포 방식으로 각각 제시하시오.)  \n",
    "\\>>> addallodd([1])  \n",
    "1  \n",
    "\\>>> addallodd([1, 2, 3, 4, 5, 6, 7, 8, 9])  \n",
    "25  \n",
    "[참고 1]: 리스트 내포 방식으로 addall() 및 addallodd()함수를 만들 때엔 리스트 내포에 의해 생성된 리스트 결과에 대해 내장 함수를 사용하는 방식을 고려해보시오 (주의: 리스트 내포 방식의 addall() 및 addallodd() 함수의 몸체는 단 1줄로 작성되어야 한다.)  \n",
    "[참고 2]: sum() 등의 내장함수 사용 가능함  "
   ]
  },
  {
   "cell_type": "code",
   "execution_count": 88,
   "metadata": {
    "collapsed": false
   },
   "outputs": [
    {
     "name": "stdout",
     "output_type": "stream",
     "text": [
      "45\n",
      "45\n"
     ]
    }
   ],
   "source": [
    "# 1) for ~ in 사용\n",
    "def addall(list):\n",
    "    sum = 0\n",
    "    for i in list:\n",
    "        sum = sum + i\n",
    "    return sum\n",
    "\n",
    "print addall([1, 2, 3, 4, 5, 6, 7, 8, 9])\n",
    "\n",
    "# 1) 리스트 내포 사용\n",
    "\n",
    "def addall(list):\n",
    "   return sum([i for i in list])\n",
    "\n",
    "print addall([1, 2, 3, 4, 5, 6, 7, 8, 9])"
   ]
  },
  {
   "cell_type": "code",
   "execution_count": 93,
   "metadata": {
    "collapsed": false
   },
   "outputs": [
    {
     "name": "stdout",
     "output_type": "stream",
     "text": [
      "25\n",
      "25\n"
     ]
    }
   ],
   "source": [
    "# 2) for ~ in 사용\n",
    "def addallodd(list):\n",
    "    sum = 0\n",
    "    for i in list:\n",
    "        if(i%2 == 1):\n",
    "            sum = sum + i\n",
    "    return sum\n",
    "\n",
    "print addallodd([1, 2, 3, 4, 5, 6, 7, 8, 9])\n",
    "\n",
    "# 2) 리스트 내포 사용\n",
    "\n",
    "def addallodd(list):\n",
    "   return sum([i for i in list if (i%2) == 1] )\n",
    "\n",
    "print addallodd([1, 2, 3, 4, 5, 6, 7, 8, 9])"
   ]
  },
  {
   "cell_type": "markdown",
   "metadata": {},
   "source": [
    "### 6. 다음 코드를 보고 물음에 답하시오."
   ]
  },
  {
   "cell_type": "code",
   "execution_count": 108,
   "metadata": {
    "collapsed": false,
    "scrolled": true
   },
   "outputs": [
    {
     "name": "stdout",
     "output_type": "stream",
     "text": [
      "{'high': [4, 5, 6], 'low': [1, 2, 3]}\n",
      "{'high': [4, 5, 6], 'low': [1, 2, 3]}\n",
      "{'high': [4, 5, 6], 'low': [1, 2, 3]}\n",
      "\n",
      "{'high': [4, 500, 6], 'low': [10, 20, 30]}\n",
      "{'high': [4, 500, 6], 'low': [10, 20, 30]}\n",
      "{'high': [4, 500, 6], 'low': [1, 2, 3]}\n"
     ]
    }
   ],
   "source": [
    "L1 = [1, 2, 3]  \n",
    "L2 = [4, 5, 6]  \n",
    "d = {'low':L1, 'high':L2}  \n",
    "e = d  \n",
    "f = d.copy()  \n",
    "\n",
    "print d  \n",
    "print e  \n",
    "print f  \n",
    "print \n",
    "d['low'] = [10, 20, 30]  \n",
    "d['high'][1] = 500\n",
    "\n",
    "print d  \n",
    "print e  \n",
    "print f  "
   ]
  },
  {
   "cell_type": "markdown",
   "metadata": {},
   "source": [
    "1) 위 코드의 수행 결과 d와 e는 항상 같은 결과를 출력한다. 그 이유는 무엇인가?  \n",
    "> d와 e의 id 값이 같기 때문이다. \n",
    "\n",
    "\n",
    "2) 위 코드의 수행 결과 마지막 f의 내용은 다음과 같다. 이 때 'high' 키의 값 내용 중 500이 출력된 이유와 'low' 키의 값 내용 중 [1, 2, 3]이 출력된 이유를 설명하시오 ([hint]: shallow copy 관점에서 설명하시오.)  \n",
    "> d와 f는 id 값이 다른 서로 다른 객체이지만  d['low']와 f['low']의 id는 같다. 이유는 shallow copy 특성상 f는 d를 copy해서 f와 d의 id값은 달라도 d가 가리키는 자료형인 dict이나 list의 id값은 f와 d가 같다.(하지만 상수는 전혀다르다. 파이썬 특징임) 그런데 d['low'] = [1,2,3] 에서 [10,20,30]으로 바꾸면 전혀 다른 리스트의 id를 참조하게 된다. 하지만 f는 전혀 바꾸지 않은 상태이기 때문에 그대로 [1,2,3]을 참조하게 된다.   \n",
    "그런데 high 키의 값 500이 출력된 이유는 d['high'][1]의 id 값과 f['high'][1]의 id 값이 같기 때문에 수정을해도 같다"
   ]
  },
  {
   "cell_type": "markdown",
   "metadata": {},
   "source": [
    "### 7. 사전 d = {'one':1, 'two':2, 'three':3, 'four':4, 'five':5}가 주어졌을 때 다음 요구사항에 맞는 코드를 제시하시오\n",
    "> [참고]: d.keys(), d.values()를 통해 리스트를 얻어낸 후 리스트가 지니고 있는 sort(cmp=None, key=None, reverse=False)함수를 활용하시오.  \n",
    "\n",
    "> 1) 키의 알파벳 오름차순 순서대로 튜플 (키, 값)을 차례대로 출력하시오.  \n",
    "2) 키의 알파벳 내림차순 순서대로 튜플 (키, 값)을 차례대로 출력하시오.  \n",
    "3) 값의 오름차순 순서대로 튜플 (키, 값)을 차례대로 출력하시오.  \n",
    "4) 값의 내림차순 순서대로 튜플 (키, 값)을 차례대로 출력하시오.  "
   ]
  },
  {
   "cell_type": "code",
   "execution_count": 128,
   "metadata": {
    "collapsed": false
   },
   "outputs": [
    {
     "name": "stdout",
     "output_type": "stream",
     "text": [
      "('five', 5) ('four', 4) ('one', 1) ('three', 3) ('two', 2)\n",
      "('two', 2) ('three', 3) ('one', 1) ('four', 4) ('five', 5)\n",
      "('one', 1) ('two', 2) ('three', 3) ('four', 4) ('five', 5)\n",
      "('five', 5) ('four', 4) ('three', 3) ('two', 2) ('one', 1)\n"
     ]
    }
   ],
   "source": [
    "d = {'one':1, 'two':2, 'three':3, 'four':4, 'five':5}\n",
    "keylist = d.keys()\n",
    "valuelist = d.values()\n",
    "\n",
    "# 키의 알파벳 오름차순 순서대로 튜플 (키, 값)을 차례대로 출력\n",
    "keylist.sort()\n",
    "for k in keylist:\n",
    "    print tuple((k,d[k])),\n",
    "\n",
    "print \n",
    "#키의 알파벳 내림차순 순서대로 튜플 (키, 값)을 차례대로 출력\n",
    "keylist.sort(reverse = True)\n",
    "for k in keylist:\n",
    "    print tuple((k,d[k])),\n",
    "    \n",
    "#값의 오름차순 순서대로 튜플 (키, 값)을 차례대로 출력   \n",
    "print\n",
    "valuelist.sort()\n",
    "new = ()\n",
    "for v in valuelist:\n",
    "     for k in d:\n",
    "            if v == d[k]:\n",
    "                print (k,v),\n",
    "                \n",
    "#값의 내림차순 순서대로 튜플 (키, 값)을 차례대로 출력   \n",
    "print\n",
    "valuelist.sort(reverse = True)\n",
    "new = ()\n",
    "for v in valuelist:\n",
    "     for k in d:\n",
    "            if v == d[k]:\n",
    "                print (k,v),\n",
    "\n"
   ]
  },
  {
   "cell_type": "markdown",
   "metadata": {},
   "source": [
    "### 오일러 문제 7번\n",
    ">소수를 크기 순으로 나열하면 2, 3, 5, 7, 11, 13, ... 과 같이 됩니다.   \n",
    "이 때 10,001번째의 소수를 구하세요."
   ]
  },
  {
   "cell_type": "code",
   "execution_count": 37,
   "metadata": {
    "collapsed": false
   },
   "outputs": [
    {
     "name": "stdout",
     "output_type": "stream",
     "text": [
      "104743\n"
     ]
    }
   ],
   "source": [
    "import math\n",
    "i = 3\n",
    "count = 2\n",
    "while(count < 10001):\n",
    "    i = i+2\n",
    "    n = int(math.sqrt(i))\n",
    "    for j in range(2,n+1):\n",
    "        if(i%j == 0):\n",
    "            break\n",
    "    else:\n",
    "        count = count +1\n",
    "        \n",
    "    \n",
    "print i\n",
    "    "
   ]
  },
  {
   "cell_type": "markdown",
   "metadata": {},
   "source": [
    "#### 코드 설명\n",
    "> 빠른 속도를 위해서 판별하려는 수 i의 제곱근까지 j를 2부터 나누어서 소수를 판단한다. \n",
    "이때, 소수 중, 2를 제외한 모든 수들은 홀수이니까 i= i+2를 해서 3부터는 홀수로만 소수를 판단한다. 또한 2는 명백히 소수라는것을 알기 때문에\n",
    "i의 초기값을 3으로 먼저 시작하고 count 변수는 소수가 세어질 때마다 1씩 올라가는데 count =1은 소수 2, count =2는 소수 3을 뜻한다. 그래서 count의 초기값을 2로 먼저 시작한다. ( i의 초기값이 3이기 때문..)"
   ]
  },
  {
   "cell_type": "markdown",
   "metadata": {},
   "source": [
    "### 오일러 문제 8번\n",
    "다음은 연속된 1000자리 숫자입니다 (읽기 좋게 50자리씩 잘라놓음).  \n",
    "\n",
    "73167176531330624919225119674426574742355349194934  \n",
    "96983520312774506326239578318016984801869478851843  \n",
    "85861560789112949495459501737958331952853208805511  \n",
    "12540698747158523863050715693290963295227443043557  \n",
    "66896648950445244523161731856403098711121722383113  \n",
    "62229893423380308135336276614282806444486645238749  \n",
    "30358907296290491560440772390713810515859307960866  \n",
    "70172427121883998797908792274921901699720888093776  \n",
    "65727333001053367881220235421809751254540594752243  \n",
    "52584907711670556013604839586446706324415722155397  \n",
    "53697817977846174064955149290862569321978468622482  \n",
    "83972241375657056057490261407972968652414535100474  \n",
    "82166370484403199890008895243450658541227588666881  \n",
    "16427171479924442928230863465674813919123162824586  \n",
    "17866458359124566529476545682848912883142607690042  \n",
    "24219022671055626321111109370544217506941658960408  \n",
    "07198403850962455444362981230987879927244284909188  \n",
    "84580156166097919133875499200524063689912560717606  \n",
    "05886116467109405077541002256983155200055935729725  \n",
    "71636269561882670428252483600823257530420752963450  \n",
    "\n",
    "여기서 붉게 표시된 71112의 경우 7, 1, 1, 1, 2 각 숫자를 모두 곱하면 14가 됩니다.  \n",
    "\n",
    "이런 식으로 맨 처음 (7 × 3 × 1 × 6 × 7 = 882) 부터 맨 끝 (6 × 3 × 4 × 5 × 0 = 0) 까지 5자리 숫자들의 곱을 구할 수 있습니다.  \n",
    "이렇게 구할 수 있는 5자리 숫자의 곱 중에서 가장 큰 값은 얼마입니까?"
   ]
  },
  {
   "cell_type": "code",
   "execution_count": 49,
   "metadata": {
    "collapsed": false
   },
   "outputs": [
    {
     "name": "stdout",
     "output_type": "stream",
     "text": [
      "40824\n"
     ]
    }
   ],
   "source": [
    "s = '73167176531330624919225119674426574742355349194934\\\n",
    "96983520312774506326239578318016984801869478851843\\\n",
    "85861560789112949495459501737958331952853208805511\\\n",
    "12540698747158523863050715693290963295227443043557\\\n",
    "66896648950445244523161731856403098711121722383113\\\n",
    "62229893423380308135336276614282806444486645238749\\\n",
    "30358907296290491560440772390713810515859307960866\\\n",
    "70172427121883998797908792274921901699720888093776\\\n",
    "65727333001053367881220235421809751254540594752243\\\n",
    "52584907711670556013604839586446706324415722155397\\\n",
    "53697817977846174064955149290862569321978468622482\\\n",
    "83972241375657056057490261407972968652414535100474\\\n",
    "82166370484403199890008895243450658541227588666881\\\n",
    "16427171479924442928230863465674813919123162824586\\\n",
    "17866458359124566529476545682848912883142607690042\\\n",
    "24219022671055626321111109370544217506941658960408\\\n",
    "07198403850962455444362981230987879927244284909188\\\n",
    "84580156166097919133875499200524063689912560717606\\\n",
    "05886116467109405077541002256983155200055935729725\\\n",
    "71636269561882670428252483600823257530420752963450'\n",
    "\n",
    "temp = 1\n",
    "max = 0\n",
    "for key,v in enumerate(s):\n",
    "    \n",
    "    if (key+5) > len(s):\n",
    "        break\n",
    "        \n",
    "    for z in s[key:key+5]:\n",
    "        temp = temp * int(z)\n",
    "    if max <= temp:\n",
    "        max = temp\n",
    "    temp = 1\n",
    "    \n",
    "print max "
   ]
  },
  {
   "cell_type": "markdown",
   "metadata": {},
   "source": [
    "#### 코드설명\n",
    "> s 변수에 주어진 수들을 문자열 형식으로 넣는다. 그리고 반복문을 통해서 enumerate를 사용하여 문자열 s의 키와 값을 알아낸다. 그 안에 또 반복문을 사용하여 해당 key 부터 key+5 까지의 수들을 정수로 바꾸고 temp에 곱해서 다시 temp에 넣는다. 반복문이 끝나면 max에 최대값인지 판단하고 최대값이면 max 변수에 넣는다. key+5 값이 문자열 s의 전체 길이보다 커지면 반복문을 끝내고 max를 출력한다. "
   ]
  },
  {
   "cell_type": "markdown",
   "metadata": {},
   "source": [
    "### 오일러 문제 9번\n",
    ">세 자연수 a, b, c 가 피타고라스 정리 a^2 + b^2 = c^2 를 만족하면 피타고라스 수라고 부릅니다 (여기서 a < b < c ).  \n",
    "예를 들면 3^2 + 4^2 = 9 + 16 = 25 = 5^2이므로 3, 4, 5는 피타고라스 수입니다.\n",
    "\n",
    ">a + b + c = 1000 인 피타고라스 수 a, b, c는 한 가지 뿐입니다. 이 때, a × b × c 는 얼마입니까?"
   ]
  },
  {
   "cell_type": "code",
   "execution_count": 62,
   "metadata": {
    "collapsed": false
   },
   "outputs": [
    {
     "name": "stdout",
     "output_type": "stream",
     "text": [
      "a: 200    b: 375    c: 425\n",
      "answer:  31875000\n"
     ]
    }
   ],
   "source": [
    "for a in range(1,354):\n",
    "    for b in range(354,499):\n",
    "        for c in range(355,500):\n",
    "            if((pow(a,2) + pow(b,2)) == pow(c,2)) and ((a+b+c) == 1000):\n",
    "                print 'a:', a ,'   b:', b ,'   c:', c\n",
    "                print 'answer: ',a*b*c \n",
    "                break\n",
    "    \n",
    "        \n",
    "        "
   ]
  },
  {
   "cell_type": "markdown",
   "metadata": {},
   "source": [
    "#### 코드설명\n",
    "> 문제에서 나온 조건들 4가지를 이용해서 a,b,c의 범위를 좁혀야한다.  \n",
    " 1)  a^2 + b^2 = c^2   \n",
    " 2) a < b < c   \n",
    " 3) a + b + c = 1000   \n",
    " 4) a+b > c  (삼각형 형성조건: 두변의 길이 합이 나머지 변의 길이보다 크다)  \n",
    " \n",
    "> 3번식에서 a+b = 1000-c , 여기에 4번을 적용하면   \n",
    "1000 -c > c  \n",
    "1000 > 2c  \n",
    "c < 500 이라고 범위가 좁혀진다.    \n",
    "\n",
    "> 1번 식에서  a^2 + b^2 = c^2  , 여기에 c< 500을 적용하면  \n",
    " a^2 + b^2 < 500^2 , 여기에 2번 식인 a < b < c 를 적용하면 a는 항상 b보다 작다. 그렇기 때문에 최소한 a^2와 b^2는 (500^2)/2 를 기준으로\n",
    " 부등호가 갈리며   \n",
    " a^2 < (500^2)/2 < b^2   \n",
    " a < 루트(500^2/2) <b  \n",
    " 루트(500^2/2) ≒ 353.55339  \n",
    " 1 <= a <= 353\n",
    " 353 < b <  c < 500  이라는 범위가 나온다\n",
    " \n",
    "> a의 초기값은 1 , 최대값은 b-1 즉, 353  \n",
    "> b의 초기값은 354, 최대값은 c-1  \n",
    "> c의초기값은 355 ,최대값은 500-1\n",
    "   \n",
    " \n",
    " \n",
    "\n",
    "\n",
    " \n",
    " \n",
    " \n",
    " "
   ]
  },
  {
   "cell_type": "markdown",
   "metadata": {},
   "source": [
    "### [Incremental Project] \n",
    "### naver ,다음, nytimes"
   ]
  },
  {
   "cell_type": "code",
   "execution_count": 19,
   "metadata": {
    "collapsed": false,
    "scrolled": true
   },
   "outputs": [
    {
     "name": "stdout",
     "output_type": "stream",
     "text": [
      "{ gt : 1 }    { 한글캠페인 : 1 }    { global : 1 }    { 위하여 : 1 }    { 나눔글꼴이 : 2 }    { 회화 : 1 }    { bthisquSlength1b0bifthisquSbathisquSbfunction : 1 }    { 나눔글꼴을 : 2 }    { 선호주제설정 : 1 }    { adescriptionremoveUrlfunctionaforvar : 1 }    { c0c : 1 }    { 클릭하세요 : 1 }    { 강수지 : 1 }    { 제대로 : 1 }    { 바로이동 : 1 }    { urlhttpfinancenavercom : 1 }    { 선플커넥터 : 1 }    { 시스템글꼴 : 1 }    { 누그러지는 : 2 }    { LogErrorJSON : 1 }    { 기존 : 1 }    { 홈 : 4 }    { 를 : 1 }    { 흐리고 : 1 }    { 고객센터 : 1 }    { 법대출신 : 1 }    { 주제형캐스트 : 1 }    { 랭킹 : 1 }    { 사이트로 : 1 }    { falseisIPAD : 1 }    { 때는 : 1 }    { 제공합니다 : 1 }    { 박명수와 : 1 }    { 제공되지 : 1 }    { 자주 : 2 }    { 기사보기 : 1 }    { 앱 : 3 }    { 네이버뉴스 : 1 }    { 설치된 : 1 }    { 자동차 : 1 }    { Lshortcutname날씨 : 1 }    { 전문보기 : 2 }    { falserunOnloadfunctionbdcifdreturnvar : 1 }    { 완료되지 : 1 }    { 국어사전 : 1 }    { 미래 : 1 }    { httpnv2vetanavercomdrunit002APnrefreshx0 : 1 }    { 주요언론사 : 2 }    { 설정된 : 1 }    { 설치하세요 : 1 }    { new : 1 }    { 부동산 : 2 }    { 기온 : 2 }    { 불타는 : 1 }    { 닫기 : 6 }    { 폰트를 : 1 }    { 잡으며 : 1 }    { 구름많음 : 9 }    { 켤 : 1 }    { 본방을 : 1 }    { 흉내 : 1 }    { 카테고리 : 1 }    { 107 : 1 }    { 최지우 : 1 }    { 39 : 1 }    { 플러스 : 1 }    { 종합경제 : 1 }    { 다양한 : 1 }    { 이거 : 1 }    { 30 : 2 }    { 36 : 1 }    { 주요 : 2 }    { 않고 : 1 }    { 볼 : 1 }    { 추천 : 1 }    { 검색어저장 : 6 }    { quot가자quot : 1 }    { 경우에 : 1 }    { 4월13일 : 1 }    { 통합검색 : 1 }    { 타임스퀘어 : 2 }    { txt : 5 }    { 1900 : 1 }    { 김영광 : 1 }    { 낙원사 : 1 }    { 앱을 : 1 }    { 정책 : 2 }    { 뉴스 : 4 }    { 6 : 4 }    { 연예 : 1 }    { type : 3 }    { 공항가는길 : 2 }    { 크라운제이 : 1 }    { 묻지마 : 1 }    { 대한 : 1 }    { 개인정보 : 1 }    { isSupportedFlicking : 1 }    { 뮤직비디오는 : 1 }    { 인물 : 1 }    { 검색어를 : 2 }    { 90 : 1 }    { 급상승 : 1 }    { 일정 : 2 }    { 대해 : 1 }    { 건강 : 1 }    { 열기 : 2 }    { 8위 : 1 }    { 지식교양 : 1 }    { 쪽 : 1 }    { TV연예 : 2 }    { TV프로그램 : 1 }    { 북스 : 1 }    { 메뉴 : 2 }    { 달의 : 1 }    { 저장되지 : 1 }    { 책임총리 : 1 }    { 나눔글꼴로 : 2 }    { strHost : 1 }    { 7위 : 1 }    { 사법시험 : 1 }    { 나만의 : 1 }    { 글꼴설정 : 2 }    { 1 : 2 }    { httpnv1vetanavercomdrunit002ANtbsz2nrefreshx0 : 1 }    { Imageasrchttpcecsnavercommbudocumentlocationl1115DLScriptquSXInew : 1 }    { 카페 : 2 }    { nulllcsdorefreshLcs : 1 }    { 증권 : 2 }    { 반드시 : 1 }    { 영자지 : 1 }    { 140 : 3 }    { 기록 : 3 }    { 가능합니다 : 2 }    { 서인영에 : 1 }    { 지식iN : 2 }    { windowlocalStorageundefinedtrywindowlocalStorageclearcatchaifadescriptionLogErrorDL : 1 }    { date : 1 }    { 朴대통령 : 1 }    { aundefinedbonloadDonebonloadDonetruecsetTimeoutd100bonloaddreturnifloadedacompleteabonloadDonebonloadDonetruesetTimeoutd100elseifthisretry : 1 }    { 않은 : 1 }    { 여자 : 1 }    { 네이버를 : 1 }    { 공유서울페스티벌 : 1 }    { or : 1 }    { 19화 : 1 }    { 이동 : 1 }    { 구름조금 : 7 }    { 검색어는 : 1 }    { 생각한대로 : 1 }    { 글로벌 : 1 }    { 청소년들의 : 1 }    { 삼시세끼 : 1 }    { 추가하시려면 : 1 }    { 130 : 1 }    { 실시간 : 2 }    { 자세히보기 : 1 }    { 연합뉴스 : 1 }    { 개인 : 2 }    { 리빙푸드 : 1 }    { 보내기 : 1 }    { 20 : 2 }    { 행사 : 2 }    { 방송 : 2 }    { 전교1등 : 1 }    { 민진웅 : 1 }    { 주요뉴스를 : 1 }    { 블로그 : 2 }    { 0iikopenGETcltrueksetRequestHeaderContentTypeapplicationxwwwformurlencoded : 1 }    { 앱스토어 : 1 }    { 하이라이트 : 1 }    { 웹드라마 : 1 }    { 두산 : 1 }    { 통합 : 1 }    { 안종범 : 2 }    { 시작페이지로 : 1 }    { 20161102224104var : 1 }    { 질문형 : 1 }    { 자동완성을 : 1 }    { 6위 : 1 }    { 게임 : 2 }    { 진상 : 1 }    { 려 : 1 }    { 생활 : 2 }    { 빠른 : 1 }    { 체감지수는 : 1 }    { 김병준 : 3 }    { 전송은 : 1 }    { ONOFF설정은 : 1 }    { 버튼을 : 1 }    { NAVER : 3 }    { 사용하고 : 1 }    { 입력 : 1 }    { 80 : 2 }    { 81 : 1 }    { TOP100 : 1 }    { 최근검색어 : 2 }    { bthisquSlength1b0bifthisquSbareturn : 1 }    { 경제 : 1 }    { 막돼먹은 : 2 }    { 내PC : 1 }    { 양고기 : 1 }    { 7 : 4 }    { 취소 : 2 }    { 재설치 : 1 }    { 최순실 : 1 }    { NPay : 1 }    { 지워주세요 : 1 }    { 개인정보처리방침 : 1 }    { 우리집에 : 1 }    { Username : 1 }    { 249 : 1 }    { 무료입니다 : 1 }    { 쇼핑 : 2 }    { 양 : 1 }    { 유형 : 1 }    { 경기 : 2 }    { 티빙 : 1 }    { Sign : 2 }    { 발생합니다 : 1 }    { 선택 : 1 }    { 반전스펙 : 1 }    { 지도 : 2 }    { 예능 : 1 }    { 지역설정 : 1 }    { 5회차 : 1 }    { 않는 : 1 }    { 보세요 : 2 }    { 170 : 1 }    { 선플운동본부 : 1 }    { 잼스터 : 1 }    { TV캐스트 : 2 }    { 주간 : 2 }    { 구독설정 : 1 }    { isLogin : 1 }    { 180 : 1 }    { charsetutf8ksetRequestHeadercharsetutf8ksendelseifgsetTimeoutg100injectScriptsfunctionvar : 1 }    { 영어로 : 1 }    { 다음캐스트 : 1 }    { falsevar : 3 }    { 투데이 : 1 }    { 회사소개 : 1 }    { 보호를 : 1 }    { 로그아웃을 : 1 }    { ArrayquSnew : 1 }    { 고객님의 : 1 }    { 공유의 : 1 }    { 웹툰 : 2 }    { copy : 1 }    { 맞춰 : 1 }    { 날씨 : 2 }    { 11 : 3 }    { 10 : 5 }    { 도움말 : 8 }    { 12 : 3 }    { keyword : 1 }    { etcreturn : 1 }    { KS : 1 }    { PC에서는 : 1 }    { 미리보기 : 1 }    { 라디오스타 : 2 }    { Connect : 1 }    { 해제 : 1 }    { false : 1 }    { sqarejson11 : 1 }    { 학습 : 1 }    { 추위…밤부터 : 2 }    { 모든 : 2 }    { 무료로 : 2 }    { 드라마 : 2 }    { truereturn : 1 }    { 오류 : 1 }    { 해당 : 1 }    { 사전 : 2 }    { 뉴스이슈 : 2 }    { 가 : 1 }    { 기업을 : 2 }    { 한때 : 3 }    { 개 : 1 }    { 없습니다 : 2 }    { 감 : 1 }    { LogErrorfunctionbvar : 1 }    { 메인에서 : 1 }    { 컨텍스트 : 2 }    { 서울특별시 : 1 }    { 켜기 : 5 }    { 있습니다 : 4 }    { clearLS : 1 }    { 최근검색어에서 : 1 }    { refreshLcsetc : 1 }    { 78 : 1 }    { 2 : 1 }    { 시즌2 : 1 }    { 1위 : 1 }    { 4위 : 1 }    { 오늘 : 1 }    { 수애 : 1 }    { 번호는 : 1 }    { 박람회 : 1 }    { 메인을 : 2 }    { 현재와 : 1 }    { 뒤늦은 : 1 }    { 염 : 1 }    { 3위 : 1 }    { 우승 : 1 }    { aDLScriptquSXIlengthforvar : 1 }    { 거국내각도 : 1 }    { 지역 : 2 }    { 않습니다 : 2 }    { N드라이브 : 1 }    { 멀티트랙 : 1 }    { 저탄수화물 : 1 }    { 사용 : 2 }    { 최대 : 1 }    { 현재 : 17 }    { 끄는 : 1 }    { 짜장면 : 1 }    { 듣는 : 1 }    { 8 : 4 }    { 다시 : 3 }    { 서울시 : 1 }    { 현장토크쇼 : 1 }    { 검색 : 2 }    { 뮤직 : 3 }    { 자동완성 : 13 }    { 13 : 1 }    { 120 : 1 }    { abreadyStateiftypeof : 1 }    { clearLSfunctioniftypeof : 1 }    { 구독목록 : 1 }    { 용어사전 : 1 }    { 서울 : 1 }    { 영상 : 8 }    { 신규 : 1 }    { 굿와이프 : 1 }    { 최고의 : 2 }    { 수 : 3 }    { 요리 : 1 }    { ifdocumentcookieindexOfnrefreshx1 : 1 }    { mismatchbefore : 2 }    { 광고 : 3 }    { 알림 : 1 }    { 전체 : 2 }    { 차테크 : 1 }    { 공지사항 : 1 }    { 이지은의 : 1 }    { 저녁 : 1 }    { 9위 : 1 }    { 영어사전 : 1 }    { 회식 : 1 }    { 3 : 1 }    { 눈물 : 1 }    { 완료 : 1 }    { 국제컨퍼런스middot공유기업 : 1 }    { 이전페이지 : 2 }    { 공익나눔 : 1 }    { 패션뷰티 : 1 }    { 검색해 : 1 }    { 주제별캐스트 : 1 }    { qstidx1 : 1 }    { 공용 : 1 }    { 메일 : 1 }    { 2위 : 1 }    { 주세요 : 1 }    { 다음 : 2 }    { PC에서 : 1 }    { 선거일까지 : 1 }    { 백과사전 : 1 }    { 관심사에 : 1 }    { 선택하여 : 1 }    { 나눔글꼴 : 8 }    { 필요합니다 : 1 }    { 전체언론사 : 2 }    { 노린 : 1 }    { 해 : 1 }    { httpcastboxshoppingnavercomsboxmainnhn : 1 }    { 다운로드URL : 2 }    { 코스피 : 1 }    { 검색어 : 10 }    { 60 : 2 }    { 변경에 : 1 }    { 63 : 3 }    { 65 : 1 }    { 68 : 1 }    { 다운로드 : 2 }    { urlhttpweathernavercom : 1 }    { mismatchafter : 2 }    { 뽀뽀39 : 1 }    { 101 : 1 }    { 스포츠연예 : 1 }    { 활성화되었습니다 : 1 }    { Beta : 1 }    { 설정 : 1 }    { 결과는 : 1 }    { 한자사전 : 1 }    { 해야 : 1 }    { 계십니다 : 1 }    { 내일오전 : 12 }    { 생활위젯 : 1 }    { 음악 : 1 }    { catch : 1 }    { 확인 : 1 }    { 신고 : 4 }    { 160 : 2 }    { 보기 : 3 }    { 2016 : 1 }    { 흐림 : 2 }    { 삭제한 : 1 }    { qstsize3 : 1 }    { 뉴스스탠드 : 2 }    { isMyCast : 1 }    { 1102 : 1 }    { 이용약관 : 1 }    { 이유는 : 1 }    { 합니다 : 1 }    { 상영 : 2 }    { 끝판왕 : 1 }    { 등록 : 2 }    { 남자 : 1 }    { 쓰는 : 1 }    { 웹문서 : 1 }    { in : 1 }    { 행복검색 : 1 }    { 김광규 : 1 }    { 제휴제안 : 1 }    { 서비스 : 2 }    { 까지 : 1 }    { html : 2 }    { 내역이 : 1 }    { 9 : 4 }    { 경우 : 1 }    { 개각 : 2 }    { 청춘 : 1 }    { 문자받기 : 2 }    { 수목 : 1 }    { 바로 : 2 }    { IT : 1 }    { 고지방 : 1 }    { 펼치기 : 1 }    { 전문자료 : 1 }    { 웃돈 : 1 }    { 더보기 : 2 }    { 영화 : 6 }    { nbsp나눔글꼴을 : 1 }    { 연인보보경심 : 1 }    { 확인되지 : 2 }    { 네이버me : 1 }    { 최초설치가 : 1 }    { N스토어 : 2 }    { intxt : 2 }    { 효능 : 1 }    { 맑음 : 14 }    { 위치 : 1 }    { 2연패21년 : 1 }    { 768 : 1 }    { wwwnavercomvar : 1 }    { 방송통신 : 1 }    { 사랑 : 1 }    { 동영상 : 1 }    { 전체보기 : 1 }    { 본문 : 1 }    { 마이비즈니스 : 1 }    { 두산베어스 : 2 }    { 한국시리즈 : 2 }    { 저장됩니다 : 1 }    { 진로소망을 : 1 }    { 보이그룹 : 1 }    { 패밀리 : 1 }    { 쥬니버 : 1 }    { 바로가기 : 6 }    { match : 2 }    { 국내 : 1 }    { 봐요quot : 1 }    { 검색어로 : 1 }    { 검색어가 : 1 }    { 카페글 : 1 }    { 찾는 : 1 }    { 예보 : 2 }    { 약관 : 1 }    { 시즌15 : 2 }    { 라인 : 1 }    { 연속 : 2 }    { 레시피 : 2 }    { 가볍고 : 1 }    { 님과 : 2 }    { 51 : 1 }    { 50 : 4 }    { 53 : 2 }    { 52 : 1 }    { 책문화 : 1 }    { 먹자 : 1 }    { 116화 : 1 }    { 내일오후 : 12 }    { 신고식 : 1 }    { 주제별 : 1 }    { people : 1 }    { displaylink : 1 }    { 5위 : 1 }    { 응원하는 : 1 }    { 110 : 1 }    { etcetcetcetcmrf1return : 1 }    { 책 : 2 }    { ‘개인정보취급방침’ : 1 }    { 매거진전문지 : 1 }    { 일본어사전 : 1 }    { 겁먹은 : 1 }    { 끄기 : 7 }    { 제20대 : 1 }    { 비 : 5 }    { 안철수 : 2 }    { 설치 : 4 }    { 임의로 : 1 }    { 10위 : 1 }    { 포함 : 2 }    { 비눈 : 1 }    { 만의 : 1 }    { 서찰에 : 1 }    { 다시보기 : 2 }    { 네이버SE : 1 }    { 손 : 1 }    { 택시 : 1 }    { image7 : 1 }    { 놓치셨다면 : 1 }    { 및 : 3 }    { 삭제 : 4 }    { ℃ : 38 }    { 이전캐스트 : 1 }    { 낸 : 1 }    { Forgot : 1 }    { 입력하신 : 1 }    { 라이센스 : 2 }    { 내 : 8 }    { 구름많고 : 2 }    { 동일한 : 1 }    { 다음페이지 : 2 }    { 웹오리지널 : 1 }    { 기기브라우저에 : 1 }    { 프로그램 : 1 }    { 그룹의 : 1 }    { 무료 : 1 }    { NEW : 3 }    { 검색홈 : 1 }    { 위해서는 : 1 }    { MY뉴스 : 1 }    { 긍정부정검색 : 1 }    { 고창편 : 1 }    { 쇼크 : 1 }    { var : 5 }    { Corp : 1 }    { 네이버 : 14 }    { 이준기 : 1 }    { 기능을 : 2 }    { 영영사전 : 1 }    { 레이어 : 6 }    { 원 : 1 }    { 저장 : 2 }    { 후보에 : 1 }    { 안내 : 2 }    { 사는 : 1 }    { 설치하시겠습니까 : 2 }    { e : 1 }    { 스포츠 : 5 }    { with : 1 }    { 영애씨 : 2 }    { 쇼핑캐스트 : 2 }    { 사이트 : 3 }    { 합격자 : 1 }    { up : 1 }    { 기능이 : 5 }    { anew : 1 }    { 국회의원선거 : 1 }    { 메인뉴스 : 1 }    { 청소년보호정책 : 1 }    { Nshortcutname금융 : 1 }    { 150 : 3 }    { 연령별남녀별 : 1 }    { 최서윤 : 3 }    { 카페명 : 1 }    { 있어요 : 1 }    { 프로젝트 : 1 }    { 자세히 : 2 }    { 2016년 : 1 }    { 캐리어를 : 1 }    { 언론사별 : 1 }    { 해피빈 : 1 }    { edescription : 1 }    { 사용자가 : 2 }    { TV : 3 }    { 44 : 1 }    { 저장할 : 1 }    { 5 : 3 }    { 이미지 : 1 }    { 휴대폰번호 : 1 }    { 저장해 : 1 }    { Password : 1 }    { isMobile : 1 }    { 사용자 : 1 }    { 보기위해서는 : 1 }    { 꺼져 : 3 }    { 매체보기 : 1 }    { 39입술 : 1 }    { quot오빠 : 1 }    { 상승 : 8 }    { 함께 : 1 }    { 이전 : 2 }    { 수요미식회 : 2 }    { Arrayretry0isLoadfunctionaforvar : 1 }    { 플레이리스트 : 1 }    { 발표 : 1 }    { 청약 : 1 }    { svt : 1 }    { 로그인 : 3 }    { svr : 1 }    { 함께2 : 1 }   \n"
     ]
    }
   ],
   "source": [
    "#-*- coding: utf-8 -*-\n",
    "# naver 홈페이지\n",
    "import string\n",
    "import urllib2\n",
    "# source 변수에 페이지 소스를 읽어온다.\n",
    "source = urllib2.urlopen(\"http://www.naver.com\").read()\n",
    "# 읽어온 페이지의 줄띄움, 탭, 빈 공간을 모두 없애주고 한줄로 깔끔하게 정리한다.\n",
    "source = source.replace('\\n','')\n",
    "source =  source.replace('\\t','')\n",
    "new=[]\n",
    "dic = dict()\n",
    "\n",
    "while 1:\n",
    "    # <의 위치값\n",
    "    start = source.find('<')\n",
    "    # >의 위치값은 항상 <보다 커야한다. 그래야 html 태그라고 볼 수 있다.\n",
    "    end = source.find('>',start)\n",
    "    \n",
    "    # html 태그가 아닌 순수한 문자열 중에서도 <와 >가 있을 수 있다. 그것을 구분하기 위한 코드이다.\n",
    "    # html 태그라면 <의 위치값이 >의 위치값 보다 항상 낮다. 만약 크다면 순수한 문자열이라고 볼 수 있다.\n",
    "    if (start-end) >= 1 :\n",
    "        continue     \n",
    "    \n",
    "    # html 태그가 맞다면 태그 부분을 빈 공간으로 대체한다.\n",
    "    if ( start != -1) and (end != -1):\n",
    "        source =  source.replace(source[start:end+1],\" \")       \n",
    "    \n",
    "    # html 태그를 모두 찾고 더이상 없으면 반복문을 종료\n",
    "    if ( start == -1) and (end == -1):\n",
    "        break\n",
    "        \n",
    "new = source.split() # 공백으로 단어 분리 해서 new에 리스트로 저장\n",
    "for i,s in enumerate(new):\n",
    "    for k in s:\n",
    "        if k in string.punctuation: # 글자 외의 기호들을 모두 ''로 치환.\n",
    "            s= s.replace(k,'')\n",
    "    else :\n",
    "        new[i] = s\n",
    "a=0\n",
    "while(a <5): # 한번에 다 삭제가 안되서 5번정도 반복문을 돌림...\n",
    "    a=a+1 \n",
    "    for i,n in enumerate(new):\n",
    "        if n == '': # 리스트 안에 '' 요소들은 모두 삭제 \n",
    "            del new[i]\n",
    "\n",
    "for n in new:\n",
    "    dic[n]= new.count(n) # 리스트안의 요소들을 카운트 해서 dic 사전에 저장\n",
    "\n",
    "for key in dic: # 한글인코딩이 진짜 너무 안되서 사전의 내용들을 반복문으로 모두 출력...\n",
    "    print '{',key,':',dic[key],'}   ',\n",
    "\n",
    "\n",
    "\n",
    "\n"
   ]
  },
  {
   "cell_type": "code",
   "execution_count": 20,
   "metadata": {
    "collapsed": false
   },
   "outputs": [
    {
     "name": "stdout",
     "output_type": "stream",
     "text": [
      "{ 춘천 : 1 }    { titstory : 11 }    { 6px : 10 }    { titissuerank : 2 }    { overflowhiddenfloatleftwidth66pxheight39pxlineheight39pxbackgroundcolortransparentbackgroundposition378px : 1 }    { 유지 : 1 }    { 960pxsuggestBox : 1 }    { displayblockcontshop : 1 }    { linkprotect : 1 }    { 180pxsuggestBox : 2 }    { icocolon : 1 }    { displaynonewraptabcont : 1 }    { width46pxbackgroundposition215px : 1 }    { 1440pxsuggestBox : 1 }    { overflowhiddenpositionrelativewidth278pxheight45pxborderbottom1px : 1 }    { 팁 : 2 }    { border1px : 2 }    { txtapp : 1 }    { 210pxsuggestBox : 1 }    { 11pxbackgroundposition0 : 1 }    { icow04backgroundposition0 : 1 }    { 대무협 : 1 }    { 9px : 5 }    { 쇼핑기획전 : 1 }    { qafter : 1 }    { top7pxright10pxtodaylink : 1 }    { overflowhiddenpadding4px : 1 }    { 영국 : 1 }    { a5a6acbordertop0 : 1 }    { 12pxfontweightnormalfontsize11pxlineheight20pxcolorfffletterspacing1pxparttoday : 1 }    { icosuggest2 : 1 }    { btnlogin : 2 }    { 자동차 : 2 }    { 840pxsuggestBox : 1 }    { 최순실middot안종범 : 1 }    { positionabsolutetop10pxright3pxfontweightnormalfontsize12pxfontfamilyVerdanasansserifcolorfffconttrendshop : 1 }    { 0layerservice : 1 }    { width110pxheight12pxmargin4px : 1 }    { backgroundposition378px : 1 }    { positionabsoluteinfopage : 1 }    { wrapshop1 : 1 }    { 신규진입 : 6 }    { wrapshop3 : 1 }    { margintop11pxissuetypetxt : 1 }    { wrapshop5 : 1 }    { wrapshop4 : 1 }    { color3c77ebtopservice : 1 }    { 609pxcontshopbest : 1 }    { height161pxborderbottom0 : 1 }    { 0partevent : 2 }    { 1pxtextindent9999pxlayerservice : 1 }    { 5pxwraptv : 1 }    { 60pxparttoday : 1 }    { fontweightboldcolorfffshop5on : 1 }    { backgroundurlhttpi1searchdaumcdnnetssearchall2011icoicosuggest20110721gif : 1 }    { icopushhover : 1 }    { 3f4243fontsize11pxlineheight14pxbackgroundcolor26292acolorfffletterspacing1pxtextaligncenterdindex : 1 }    { appnew : 1 }    { positionrelativewidth100zindex101dindex : 1 }    { displayblockdaumSuggestWrap : 1 }    { eaebefbackgroundimagelineargradientto : 1 }    { logosbswidth24pxheight12pxmargin2px : 1 }    { displayinlinefloatleftwidth31pxheight31pxmargin18px : 1 }    { 1980pxstocktoday : 1 }    { 쌍둥이 : 1 }    { linktitwidth70pxfontsize12pxcolor0d3679letterspacing1pxsectionmedia : 1 }    { copytxt : 1 }    { 쪼그라들어quot : 1 }    { 7pxcolor000suggestBox : 1 }    { listmall : 3 }    { 660pxparttoday : 3 }    { wraptip : 1 }    { displayblockoverflowhiddenpositionrelativewidth280pxheight339pxmargintop5pxadrightbtm : 1 }    { 170pxtextaligncentercontshopbest : 1 }    { wrapbrunch : 2 }    { 다음앱 : 4 }    { titelectionleft248pxsectionmedia : 1 }    { 58pxsuggestBox : 1 }    { 세금감면 : 1 }    { color9b01bccontshop : 1 }    { 540pxsuggestBox : 1 }    { wrapblog : 2 }    { spanlinkprogram : 1 }    { color555partspecial : 1 }    { 699pxsuggestBox : 1 }    { 뉴스 : 3 }    { left61pxsectionmulti : 1 }    { backgroundurlhttpi1daumcdnnetdecotop2012startblognone20121023png : 1 }    { 소호BEST : 1 }    { 여파로 : 1 }    { verticalreader : 1 }    { 궁금하다면 : 1 }    { 종료 : 1 }    { fontsize11pxcolor477ae4letterspacing1pxcontshopbest : 1 }    { appimport : 2 }    { floatleftpartevent : 1 }    { 연출할 : 1 }    { backgroundposition349px : 2 }    { quot전경련 : 1 }    { noneblockquotebefore : 1 }    { 경기 : 2 }    { 사진 : 1 }    { defaultimg : 23 }    { fontfamily굴림gulimsansserifcolor363b4alayerservice : 1 }    { left218pxcontstory : 1 }    { backgroundposition40px : 5 }    { 탄원 : 1 }    { displayblockcafeon : 1 }    { fontsize11pxfontfamilytahomasansserifcolor4c4c4cnoticedaum : 1 }    { height44pxmargin0 : 1 }    { listdaumapp : 5 }    { 19px : 5 }    { 라디오 : 2 }    { 4pxlineheight18pxbackgroundurlhttpi1daumcdnnetdecocomicstopdeco2014v2imgdaumvertv9pngv1664 : 1 }    { backgroundposition15px : 1 }    { 페이지 : 13 }    { 보여 : 1 }    { cafeguisortablehelper : 1 }    { displayblockwidth93pxheight27pxmargin15px : 1 }    { 발칵 : 1 }    { w26 : 2 }    { w27 : 2 }    { w24 : 2 }    { height15pxpagetype2 : 1 }    { w22 : 2 }    { w23 : 2 }    { w20 : 2 }    { w21 : 2 }    { answer : 2 }    { 880pxlistmysvc : 1 }    { width182pxheight123pxmargin0 : 1 }    { w28 : 2 }    { w29 : 2 }    { 0tophead : 1 }    { 510pxparttoday : 1 }    { txtinfodisplayinlineblockfontsize12pxcolorfffverticalaligntopwrapelection2016 : 1 }    { weathercomp : 30 }    { lablogin : 1 }    { 인기기획전 : 1 }    { 강릉 : 1 }    { displayblockwidth248pxmargin0 : 1 }    { 직장인들이 : 1 }    { 8pxlineheight15pxwhitespacenowrappartevent : 1 }    { overflowhiddenwidth170pxpadding0 : 1 }    { bnrtype4width132pxheight35pxmargintop5pxpaddingtop8pxbackgroundurlhttpi1daumcdnnetdecocomicstopdeco2014v2electionbgelection2016top4160317gif : 1 }    { dbdbdbborderleft1px : 1 }    { 750pxsuggestBox : 1 }    { top7pxcontshopbest : 1 }    { top135pxleft369pxwidth21pxheight17pxbackgroundposition60px : 1 }    { backgroundposition130px : 5 }    { icow08backgroundposition0 : 1 }    { wrapauto : 1 }    { floatleftwidth53pxheight20pxfontsize11pxlineheight20pxbackgroundposition170px : 1 }    { iconewdisplaynonepositionabsolutetop18pxwidth10pxheight10pxbackgroundposition16px : 1 }    { numstatus : 4 }    { boxtit : 11 }    { overflowhiddenpositionabsolutebottom14pxleft11pxwidth100pxheight18pxpaddingleft30pxlineheight21pxbackgroundposition0 : 1 }    { displayblocklayerservice : 1 }    { floatleftwidth15pxheight13pxmargin4px : 1 }    { 420pxsuggestBox : 1 }    { 9위 : 2 }    { 운세 : 1 }    { overflowhiddenpositionrelativewidth500pxheight53pxlayerservice : 1 }    { displaynonepositionabsolutetop0left0width100backgroundcolor000filteralphaopacity60opacity06wraptiertop : 1 }    { 전주 : 1 }    { bottom20pxleft155pxnewson : 1 }    { positionabsolutetop60pxwidth13pxheight25pxconttrendshop : 1 }    { 0fontsize11pxlineheight13pxbackgroundposition0 : 1 }    { numindex : 3 }    { 인생 : 1 }    { positionabsolutetop120pxleft0width280pxheight309pxbackgroundposition0 : 1 }    { color4559e9pagedaum : 1 }    { 345pxshop4on : 1 }    { 6pxheadlineimg : 1 }    { nonebackgroundcolortransparentcursorpointerbody : 1 }    { linkdirect : 1 }    { floatrightwidth62pxheight26pxbackgroundposition170px : 1 }    { dbdbdbbackgroundcolorf7f7f7letterspacing1pxlistinventory : 1 }    { 브렉시트 : 1 }    { 오늘의 : 3 }    { txtthesong : 1 }    { 0lineheight42pxtextaligncentercursormovelistmyset : 1 }    { 300pxsuggestBox : 1 }    { 480pxsuggestBox : 1 }    { 89pxbackgroundurlhttpi1daumcdnnetdecocomicstopdeco2014v2electionbgelection2016top1gif : 1 }    { 0loginmy : 2 }    { height416pxpaddingtop43pxsectionmedia : 1 }    { 지배적 : 1 }    { 89pxtopservice : 3 }    { 55pxpromotionimg : 1 }    { overflowhiddenfloatleftwidth279pxheight21pxpaddingleft17pxlineheight21pxwhitespacenowraplistimgtxt : 1 }    { 467pxparttoday : 1 }    { 연준 : 1 }    { titmovie : 4 }    { 김병준 : 2 }    { backgroundposition70px : 1 }    { positionabsolutepaddingright7pxfontsize11pxlineheight14pxbackgroundposition100 : 1 }    { backgroundposition80px : 1 }    { positionrelativetop0left0zindex98admaintopad : 1 }    { width58pxheight48pxverticalreader : 1 }    { displayinlineblockcolor5d6273verticalaligntoppartevent : 1 }    { f2f2f4contshopbest : 1 }    { overflowhiddenborderright1px : 1 }    { 비밀번호 : 2 }    { 880pxparttoday : 4 }    { 개척하라 : 1 }    { 제기 : 1 }    { 250pxwrapelection2016 : 1 }    { left59pxwidth58pxbackgroundposition60px : 1 }    { left15pxsectionmulti : 1 }    { layerevent : 1 }    { 광고 : 1 }    { 6pxnews5tabon : 1 }    { 505pxloginsimple : 1 }    { 1870pxparttoday : 1 }    { wrapcafe : 1 }    { 전쟁으로의 : 1 }    { 엽혹진 : 1 }    { overflowhiddenfloatleftwidth89pxheight64pxmarginright3pxpaddingtop11pxfontweightboldfontsize11pxlineheight12pxbackgroundurlhttpi1daumcdnnetdecocomicstopdeco2014v2bgdaumv9pngv1683 : 1 }    { icodisk : 1 }    { 겨울걱정 : 1 }    { 쇼핑 : 4 }    { top20pxsectionmedia : 1 }    { 0wraptv : 1 }    { icomarket : 1 }    { left133pxsectionmedia : 1 }    { displaynonesuggestBox : 1 }    { 365pxlayermycont : 1 }    { 때문에 : 2 }    { positionabsolutetop34pxleft0height33pxpadding0 : 1 }    { txtgap : 1 }    { zindex1backgroundcolor4e82eebackgroundposition0 : 1 }    { 0paddingtop4pxfontbold : 1 }    { 지도 : 3 }    { txtmysvcbackgroundposition0 : 3 }    { 스타 : 2 }    { positionrelativetittabcont : 1 }    { layerservice : 1 }    { txtslash : 3 }    { color4559e9textdecorationunderlinesectionmedia : 1 }    { floatleftsuggestBox : 1 }    { iconewdisplayblocklistmysvc : 1 }    { numrate9backgroundposition25px : 1 }    { floatlefthorizontalimg : 1 }    { contmenu : 7 }    { top : 1 }    { linkphone : 1 }    { 대천사 : 1 }    { ecececverticalreader : 1 }    { 9pxsectionmulti : 1 }    { width179pxheight116pxissuetypeimg : 1 }    { 0lineheight15pxbackgroundcolorfffcontshop : 1 }    { shortcutgactivedindex : 2 }    { 705pxletterspacing1pxpromotionimg : 1 }    { 1198pxloginmy : 1 }    { fontsize12pxcolor000textdecorationnonesuggestBox : 1 }    { linklivefloatleftwidth237pxheight16pxmargintop12pxwrapelection2016 : 1 }    { 웹툰 : 2 }    { positionabsolutetop222pxleft214pxzindex103width466pxheight380pxbackgroundurlhttpi1daumcdnnetdecotop2012startpopie620121026png : 1 }    { 49pxsuggestBox : 1 }    { linktithover : 24 }    { 39사투39 : 1 }    { icoplay : 8 }    { 1pxborder0 : 3 }    { width190pxheight160pxborderbottom1px : 1 }    { 선발 : 1 }    { MMORPG : 1 }    { width44pxbackgroundposition25px : 1 }    { backgroundfff : 1 }    { minus : 1 }    { color454545defaulttxt : 1 }    { width179pxheight183pxpartspecial : 1 }    { 80pxtilesstory : 4 }    { floatleftpositionrelativewidth427pxpaddingleft25pxwrapmain : 1 }    { displayblocksectionmulti : 1 }    { 전장으로 : 1 }    { e1e1e1borderleft1px : 1 }    { width46pxbackgroundposition2px : 1 }    { 쌀쌀한날제격 : 1 }    { infoevent : 1 }    { floatleftmarginright10pxverticalreader : 1 }    { 제보자39 : 1 }    { 326pxcolor333stocktoday : 1 }    { linkpolicy : 2 }    { 310pxcontshop : 4 }    { 인재채용 : 1 }    { width45pxbackgroundposition130px : 1 }    { 532pxwhitespacenowrapcontshop : 1 }    { displayinlineblockpositionrelativewidth280pxheight45pxborderbottom1px : 1 }    { 보호를 : 1 }    { textdecorationnonelistinventory : 1 }    { gt : 4 }    { 175pxwrapelection2016 : 3 }    { floatleftpadding0 : 4 }    { 65pxlayermycont : 2 }    { displayinlineoverflowhiddenfloatleftwidth83pxheight93pxpadding23px : 1 }    { 힘39 : 1 }    { 0px : 1 }    { 스스로 : 1 }    { 진짜 : 1 }    { 천안시 : 1 }    { 쯔위 : 1 }    { left174pxcontstory : 1 }    { padding0 : 7 }    { 언니가 : 1 }    { 고민하지말고 : 1 }    { 6pxborderright1px : 1 }    { parttoday : 2 }    { titstoryfunding : 4 }    { colorg : 11 }    { 나요 : 1 }    { 지옥의 : 1 }    { height17pxbackgroundposition0 : 1 }    { 330pxparttoday : 1 }    { width410pxheight161pxhorizontalimg : 1 }    { wraptv : 1 }    { titnews : 4 }    { copy : 1 }    { linkwebfontweightboldfontsize12pxlineheight24pxcolor7b8ba1wrapelection2016 : 1 }    { backgroundposition170px : 11 }    { 1pxbackgroundcolore1e1e1verticalreader : 1 }    { 땐 : 1 }    { 14pxbackgroundposition10px : 1 }    { 티스토리 : 1 }    { 220pxletterspacing1pxlayerservice : 1 }    { floatleftwidth13pxheight13pxmargintop1pxbackgroundcolortransparentparttoday : 1 }    { titthumb : 1 }    { bnrtype6 : 1 }    { bnrtype5 : 1 }    { numtime5backgroundposition50px : 1 }    { topautobottom63pxleft169pxtilesstory : 1 }    { 검색 : 3 }    { displayblockwidth40pxheight40pxmargin11px : 1 }    { txtelectionfloatleftwidth100pxfontsize11pxlineheight24pxcolorfff000wrapelection2016 : 1 }    { 뻔한 : 2 }    { toeaebefbackgroundimagemozlineargradienttop : 1 }    { displaynonepadding0 : 1 }    { 484pxparttoday : 1 }    { marginleft1pxfontnormal : 1 }    { overflowvisiblepositionabsolutetop28pxright0widthautotophead : 1 }    { displayblockoverflowhiddenheight28pxwordbreakkeepalllistimgtxt : 1 }    { color4689dfcontstory : 1 }    { bar : 3 }    { titfavor : 3 }    { width267pxpadding26px : 1 }    { 600pxsuggestBox : 3 }    { marginleft3pxpaddingleft13pxbackgroundurlhttpi1daumcdnnetimgsrcsearchsearchall2012icoicocomm2120614gif : 1 }    { titsong : 1 }    { 최대30세일 : 1 }    { 310pxshop1on : 1 }    { icow09backgroundposition0 : 1 }    { displayblockwidth181pxfontsize16pxlineheight25pxclearbothheadlineimg : 1 }    { top156pxleft229pxsectionmulti : 1 }    { 11월 : 1 }    { nummsg : 1 }    { titbrunch : 4 }    { marginbottom7pxcontshopbest : 1 }    { 닫기 : 2 }    { top75pxwidth367pxheight20pxpadding8px : 1 }    { displayinlineblockpadding11px : 1 }    { best : 3 }    { txtresultmarginright9pxfontweightboldwrapelection2016 : 1 }    { 39공익 : 1 }    { colorda4453contstory : 1 }    { layoutpromotion : 1 }    { wrapbestreader : 1 }    { floatrightlineheight15pxletterspacing1pxtopservice : 1 }    { fontweightnormalcolorea570asuggestBox : 1 }    { color555sectionmedia : 1 }    { margintop3pxverticalimg : 1 }    { overflowhiddenfloatrightwidth138pxheight112pxlineheight100pxtextaligncenterwrapsearch : 1 }    { linkagora : 7 }    { paddingleft46pxbackgroundposition0 : 1 }    { newg : 2 }    { color303030textdecorationnonesectionmedia : 1 }    { inpagain : 1 }    { 2위 : 2 }    { 하나로 : 1 }    { margintop9pxwraphope : 1 }    { 190pxsectionmulti : 1 }    { overflowhiddenwidth280pxheight344pxfontsize0lineheight0adrightbtm : 1 }    { 백과사전 : 1 }    { positionabsolutewraptabcont : 1 }    { displayblockcursorpointerverticalsong : 1 }    { 타격 : 1 }    { marginleft3pxfont12px14px : 2 }    { top191pxheight39pxpartspecial : 1 }    { 롯데닷컴 : 1 }    { 운명을 : 1 }    { ecececverticalsong : 1 }    { 660pxsuggestBox : 1 }    { teamaway : 1 }    { 어학사전 : 1 }    { 444backgroundcolorffflayerservice : 1 }    { floatleftpositionrelativezindex0width280pxheight120pxbackgroundurlhttpi1daumcdnnetdecocomicstopdeco2014v2bgdaumv9pngv1683 : 1 }    { 락싸 : 1 }    { linklive : 3 }    { width51pxbackgroundposition180px : 1 }    { color4559e9textdecorationunderlineaactive : 1 }    { titbook : 4 }    { rolltxt : 1 }    { titentertain : 4 }    { displayinlinepaddingleft11pxbackgroundurlhttpi1daumcdnnetdecocomicstopdeco2014v2barplatepngv1102 : 1 }    { height45pxpaddingtop10pxwraptip : 1 }    { displayblocktilesstory : 2 }    { 평정하라 : 1 }    { linkimghover : 2 }    { contsort : 2 }    { 섬세한 : 1 }    { dotg : 1 }    { eventshop : 2 }    { top83pxleft164pxparttoday : 1 }    { 아웃도어 : 1 }    { width21pxbackgroundposition0 : 1 }    { floatleftcolor5f6876boxuser : 1 }    { left80pxwidth177pxbackgroundposition285px : 1 }    { tflogin : 1 }    { 270pxparttoday : 1 }    { width188pxheight159pxpadding0 : 1 }    { positionabsolutetop23pxright39pxheight13pxfontsize11pxlineheight14pxparttoday : 1 }    { 괜히 : 1 }    { linkservice : 1 }    { 은하계 : 1 }    { height62pxwrapfavor : 1 }    { 월간잉여 : 2 }    { 3px : 4 }    { width94pxnoticedaum : 1 }    { cont : 2 }    { displayblocksportson : 1 }    { floatleftwidth21pxheight23pxmargintop5pxbackgroundposition120px : 1 }    { overflowhiddenwidth181pxheight142pxbackgroundurlhttpi1daumcdnnetdecocomicstopdeco2014v2bgweatherpngv1102 : 1 }    { autoconttrendshop : 1 }    { pagedaum : 3 }    { contlive2 : 8 }    { 15pxcontshopbest : 7 }    { 396pxsuggestBox : 1 }    { 징병 : 1 }    { 110pxparttoday : 2 }    { linkmore : 2 }    { paddingleft5pxlineheight12pxbackgroundnonefootdaum : 1 }    { 통합 : 1 }    { plateg : 11 }    { displayblockheight22pxlineheight22pxtextaligncentercolor777b80backgroundcolortransparentcontstory : 1 }    { floatleftmargin13px : 2 }    { top148pxwidth216pxheight21pxfontsize12pxlineheight15pxpadding9px : 1 }    { 13pxpaddingright6pxfontsize11pxbackgroundposition100 : 1 }    { overflowhiddenpositionabsolutetop0left0height18pxpadding0 : 1 }    { linkjoin : 1 }    { 125pxtilesstory : 3 }    { height43pxpaddingtop12pxwrapcafe : 1 }    { icoindebackgroundposition60px : 1 }    { 66pxfunon : 1 }    { positionabsolutetextindent9999pxcursorpointertilesstory : 1 }    { 압수수색 : 1 }    { linkbnr2 : 1 }    { 0lineheight15pxbackgroundposition270px : 1 }    { icoclip : 1 }    { displayblockoverflowhiddenwidth287pxheight77pxpadding15px : 1 }    { backgroundposition30px : 2 }    { 1500pxsuggestBox : 1 }    { displayinlinepromotionimg : 1 }    { linkhome : 3 }    { paddingleft9pxbackgroundposition4px : 1 }    { iconew : 1 }    { 흔한 : 1 }    { 72pxcolor878787letterspacing1pxtilesstory : 1 }    { bottom8pxhorizontalimg : 1 }    { 일으켜 : 1 }    { floatleftmarginright14pxlineheight15pxfootdaum : 1 }    { ㅈㅊ : 1 }    { floatleftwidth25pxheight15pxlineheight15pxmargin2px : 1 }    { 통통뚱뚱빅 : 1 }    { left : 2 }    { verticalimg : 9 }    { 전망 : 1 }    { 35pxcolor444headdaum : 1 }    { icocafehot : 1 }    { displayinlineblockpositionabsolutetop16pxlineheight15pxverticalaligntopsectionmedia : 1 }    { shortcutghover : 1 }    { 온라인 : 2 }    { layertoday : 50 }    { quotes : 1 }    { num9 : 1 }    { 것 : 1 }    { 807pxwraptip : 1 }    { 니트 : 1 }    { top35pxlogininp : 1 }    { 1pxbackgroundposition145px : 1 }    { 조심하세요 : 1 }    { 패션풀 : 1 }    { overflowhiddenpositionrelativewidth188pxheight339pxbordertop1px : 2 }    { 17pxbackgroundposition100 : 1 }    { 우아해 : 1 }    { floatleftheadlinespe : 1 }    { 155pxtextaligncenterloginsimple : 1 }    { contmenuoverflowhiddenheight40pxpaddingleft24pxbackgroundcolor078dffwrapelection2016 : 1 }    { left115pxsectionmulti : 1 }    { 딸 : 2 }    { 패션플러스 : 1 }    { 딱 : 1 }    { 만두부 : 1 }    { displayinlinefontsize13pxcolor000partevent : 1 }    { 울트라쇼깅 : 1 }    { overflowhiddenpositionabsolutebottom15pxleft11pxwidth100pxheight19pxlineheight23pxbackgroundposition0 : 1 }    { color6d3fdfcontstory : 1 }    { titnotice : 1 }    { nameuser : 1 }    { left224pxbackgroundposition225px : 1 }    { txtcont : 7 }    { 카카오 : 2 }    { txtlivemargintop7pxverticalaligntopsectionmedia : 1 }    { 0lineheight18pxbackgroundurlhttpi1daumcdnnetdecocomicstopdeco2014v2btndaumv4pngv1669 : 1 }    { 55 : 2 }    { positionrelativewraptiercont : 1 }    { relmy : 1 }    { 66pxcursordefaulttvpoton : 1 }    { 51 : 2 }    { listimgtxt : 3 }    { 잘렸다quot : 1 }    { 11pxlineheight18pxbackgroundposition90px : 1 }    { btnvideo : 1 }    { wrapstoryfunding : 2 }    { bnrtype3width147pxheight39pxbackgroundurlhttpi1daumcdnnetdecocomicstopdeco2014v2electionbgelection2016top3gif : 1 }    { night : 8 }    { backgroundposition100px : 2 }    { 2px : 7 }    { iconpadbackgroundposition30px : 1 }    { 170pxverticalsong : 1 }    { linkbnr : 3 }    { wrapfun : 1 }    { btnsearch : 1 }    { itemhover : 1 }    { displayblockfontsize11pxlineheight14pxcolor878787verticalreader : 1 }    { 98pxsuggestBox : 2 }    { displayblockheight15pxmarginleft15pxpaddingtop14pxlineheight15pxtxtmyset : 1 }    { btnassay : 1 }    { 이종격투기 : 1 }    { eeeef0verticalaligntopwrapsub : 1 }    { 충분해 : 1 }    { displayinlineblockmargin4px : 1 }    { 72pxcolor878787letterspacing1pxlayoutheadlinevertical : 1 }    { 탭 : 10 }    { 새끼 : 1 }    { bottom : 2 }    { 000opacity01filteralphaopacity10plateg : 1 }    { top251pxleft370pxwidth20pxheight24pxbackgroundposition15px : 1 }    { 안철수 : 2 }    { 바꿔달라quot : 1 }    { positionabsolutetop33pxright0width515pxpadding16px : 1 }    { f3f3f3fontsize11pxfontfamily돋움dotumsansserifbackgroundcolorf8f8f8letterspacing1pxclearbothsuggestBox : 1 }    { 시비질quot : 1 }    { backgroundposition546px : 2 }    { msgreset : 1 }    { wrapmiznet : 1 }    { boxcont : 1 }    { displayinlinefloatrightwidth84pxheight15pxmargin14px : 1 }    { 6℃ : 10 }    { 66pxsectionmulti : 5 }    { 때 : 2 }    { fontsize11pxlineheight16pxcolor676767listinventory : 1 }    { padding36px : 1 }    { overflowhiddenpositionabsolutetop278pxleft139pxwidth188pxheight38pxbackgroundimageurlhttpi1daumcdnnetdecocomicstopdeco2014v2transparentgiftextindent9999pxnoticedaum : 1 }    { overflowhiddenwidth383pxheight14pxpaddingtop8pxlineheight15pxtextaligncenterlistfavorsch : 1 }    { icoupbackgroundposition0 : 1 }    { width17pxbackgroundposition93px : 1 }    { 및 : 2 }    { spetype2 : 6 }    { overflowhiddenpositionrelativewidth266pxheight61pxlayerservice : 1 }    { spetype1 : 3 }    { height63pxmargintop12pxwrapfavor : 1 }    { txtblue : 1 }    { fontweightboldcolorfffshop2on : 1 }    { 여기서 : 1 }    { 90pxloginmy : 1 }    { plus : 1 }    { 밥 : 1 }    { 240pxlistmyset : 6 }    { overflowhiddenwidth659pxlistinventory : 1 }    { overflowhiddenpaddingtop3pxstocktoday : 1 }    { overflowhiddenfloatleftwidth113pxmarginright24pxlineheight14pxtextaligncenterlistimg : 1 }    { nonehorizontalimg : 1 }    { 17pxbackgroundposition0 : 1 }    { top21pxright0contstory : 1 }    { paddingleft50pxbackgroundposition0 : 1 }    { 블로그 : 3 }    { txtprice : 1 }    { overflowhiddenwidth271pxmarginleft3pxletterspacing1pxcontshop : 1 }    { verticalalignmiddleinputmsclear : 1 }    { color3f4145parttoday : 1 }    { linksvc : 2 }    { 0contshop : 1 }    { 98pxtextdecorationnoneparttoday : 1 }    { imginit : 10 }    { stocksteady : 2 }    { icosaenuribackgroundposition20px : 1 }    { 345pxshop5on : 1 }    { 신규앱 : 1 }    { 0listmyset : 1 }    { fontweightnormalcolore5333dsuggestBox : 1 }    { 13pxfontsize11pxlineheight14pxcolor262626headlineimg : 1 }    { titnews5tab : 3 }    { overflowhiddenwidth278pxheight307pxpaddingtop31pxborder1px : 1 }    { displayinlinefloatrightpadding0 : 2 }    { color4559e9textdecorationunderlinelistinventory : 1 }    { 1위 : 2 }    { 안내 : 2 }    { 36pxsectionmedia : 6 }    { 스포츠 : 3 }    { backgroundcolorffftiertopexpand : 1 }    { titstoryhover : 1 }    { 변경 : 1 }    { 웹 : 1 }    { 740pxcolordc287ccursorpointertilesstory : 1 }    { 내가 : 1 }    { txtnum : 6 }    { padding1px : 2 }    { linkcont : 21 }    { listtoday : 9 }    { width232pxpaddingright9pxtextaligncentersectionmulti : 1 }    { positionrelativepartspecial : 2 }    { labid : 1 }    { bottom16pxleft416pxheadlinespe : 1 }    { top47pxwidth94pxheight16pxpadding5px : 1 }    { 태국의 : 1 }    { 하나하나 : 1 }    { 29pxwrapelection2016 : 1 }    { txtstate : 1 }    { 230pxtextindent9999pxverticalsong : 1 }    { left429pxcontstory : 1 }    { width100paddingright0fontsize11pxcolorbababapartspecial : 1 }    { dotted : 1 }    { tit : 1 }    { left9999pxlogininp : 1 }    { 215pxmycafeon : 1 }    { 대통령 : 1 }    { eaebefbackgroundimageolineargradienttop : 1 }    { nonemyblogon : 1 }    { labsteady : 1 }    { imgelection2016width11pxheight11pxmargin5px : 1 }    { HOT : 1 }    { floatleftlistthumb : 1 }    { linkconthover : 3 }    { floatleftwidth60pxheight55pxmargin33px : 1 }    { 함께 : 1 }    { 개인정보 : 1 }    { pagetype2 : 6 }    { 채동욱 : 3 }    { icolive : 1 }    { paddingleft12pxbackgroundposition0 : 1 }    { marginbottom5pxpartspecial : 1 }    { fst : 6 }    { 옥션 : 1 }    { 작은집에도 : 1 }    { displayblockoverflowhiddenheight40pxheight63pxpadding12px : 1 }    { cad0d9listmysvc : 1 }    { txtblue2 : 1 }    { linkevent : 13 }    { titauto : 4 }    { margintop9pxlineheight18pxcolor5b5b5bhorizontalimg : 1 }    { EOS : 1 }    { 230pxparttoday : 1 }    { 285pxlistmyset : 5 }    { partspecial : 1 }    { liststylenoneblockquote : 1 }    { norepeatsuggestBox : 3 }    { 6pxtvon : 1 }    { 0 : 168 }    { linkhelp : 1 }    { 390pxparttoday : 1 }    { floatleftwidth63pxheight42pxmargin0 : 1 }    { eaeaeaborderbottom1px : 1 }    { 경기시간 : 1 }    { scoregame : 4 }    { 인천 : 1 }    { textindent9999pxlayermycont : 1 }    { 1650pxparttoday : 3 }    { innerfoot : 1 }    { a5a6acsuggestBox : 1 }    { positionabsolutetop0left22pxfontsize11pxlineheight14pxletterspacing1pxloginset : 1 }    { width42pxbackgroundposition270px : 1 }    { item : 1 }    { 11pxbordertop1px : 1 }    { continfodisplayblockoverflowhiddenheight27pxpadding12px : 1 }    { infomy : 1 }    { displayinlineblockverticalaligntopfootdaum : 1 }    { numissue : 1 }    { 날 : 1 }    { 베스트100 : 1 }    { backgroundposition340px : 2 }    { CJ몰 : 1 }    { width397pxheight159pxheadlineimg : 1 }    { 부산 : 1 }    { 운명 : 1 }    { imgvert : 1 }    { 라이프 : 2 }    { 1540pxparttoday : 2 }    { cad0d9borderleft1px : 1 }    { width6pxmarginleft1pxbackgroundposition170px : 1 }    { width188pxheight103pxdefaulttxt : 1 }    { 진료비 : 1 }    { 3027 : 1 }    { msgsave : 1 }    { fontsize16pxlineheight26pxhorizontalimg : 1 }    { overflowhiddenwidth188pxpaddingtop10pxbordertop1px : 1 }    { nonemycafeon : 1 }    { 하프클럽 : 1 }    { 안 : 2 }    { 142pxsuggestBox : 1 }    { icow19backgroundposition0 : 1 }    { 부동산 : 3 }    { 900pxbackgroundcolortransparenttextindent9999pxverticalaligntoplistmysvc : 1 }    { d8d9dbverticalaligntopfootdaum : 1 }    { 546pxsuggestBox : 1 }    { 찾기 : 2 }    { 0verticalaligntop : 1 }    { edededbackgroundcolorf8f9falayermycont : 1 }    { msgmyset : 1 }    { titgame : 4 }    { ratecont : 12 }    { 0fontsize14pxlineheight16pxfontfamilyverdanasansserifletterspacing1pxstocktoday : 1 }    { innermain : 1 }    { paddingleft1pxbackgroundnonetopservice : 1 }    { 5pxsuggestBox : 1 }    { 0textindent9999pxverticalreader : 1 }    { positionrelativecolor383b42parttoday : 1 }    { 주요 : 2 }    { 중계센터 : 1 }    { zindex1backgroundcolor4e82eebackgroundposition171px : 1 }    { 냄새 : 1 }    { rank10 : 1 }    { 65pxtextindent9999pxwraptiertop : 1 }    { linkconthome : 5 }    { floatleftlayoutvertical : 1 }    { overflowhiddenpadding5px : 1 }    { numtime2backgroundposition50px : 1 }    { verticalsong : 1 }    { txtstockpositionabsoluteleft0top0width10pxheight13pxparttoday : 1 }    { tistoryguisortablehelper : 1 }    { displayinlineblockheight23pxpadding10px : 1 }    { positionrelativezindex103noticedaum : 1 }    { bottom23pxleft370pxcontstory : 1 }    { 법대로 : 1 }    { displayinlineblockwidth280pxheight150pxfontsize0lineheight0verticalaligntopadrightbtm : 1 }    { txtdaum : 1 }    { 450pxsuggestBox : 1 }    { linksvcmore : 1 }    { titsports : 4 }    { icow15backgroundposition0 : 1 }    { 연예 : 2 }    { 32pxfontweightboldbackgroundposition0 : 1 }    { 971pxcontstory : 1 }    { spetype3 : 3 }    { 9pxlineheight21pxtextalignleftcursorpointersuggestBox : 1 }    { titconthover : 1 }    { 0backgroundurlhttpi1searchdaumcdnnetssearchall2013bgbgshadowpngbaseBox : 1 }    { width36pxheight13pxmargin0 : 1 }    { 최순실이 : 1 }    { 철회 : 1 }    { floatrightpaddingleft0backgroundnoneloginmy : 1 }    { overflowhiddenwidth200pxheight221pxmargintop11pxparttoday : 1 }    { listissue : 21 }    { 6pxlineheight20pxbackgroundurlhttpi1daumcdnnetdecocomicstopdeco2014v2imgdaumvertv9pngv1664 : 1 }    { icolivewidth33pxheight16pxmarginright8pxwrapelection2016 : 1 }    { 8위 : 2 }    { descbnrdisplayblockoverflowhiddenpositionabsoluteleft334pxtop14pxwidth250pxfontsize11pxcolorfffletterspacing1pxwhitespacenowraptextoverflowellipsisboxuser : 1 }    { floatleftpaddingright4pxtopservice : 1 }    { overflowhiddenbackgroundurlhttpi1daumcdnnetdecocomicstopdeco2014v2btndaumv4pngv1669 : 1 }    { 0lineheight14pxcolor777letterspacing1pxtextdecorationunderlineloginmy : 1 }    { Daum : 1 }    { 7px : 5 }    { ㅋㅎ : 1 }    { 26pxborderbottom1px : 1 }    { 110pxconttrendshop : 3 }    { backgroundposition390px : 1 }    { 재밌는 : 2 }    { 7위 : 2 }    { tfkeyword : 1 }    { overflowhiddenpositionabsolutetop48pxleft95pxwidth13pxheight16pxbackgroundposition0 : 1 }    { ecececfontsize0lineheight0tilesstory : 1 }    { icosteady : 1 }    { 풍경 : 1 }    { infogame : 1 }    { 250pxlayerservice : 2 }    { width54pxbackgroundposition40px : 1 }    { 1 : 6 }    { btnlogout : 1 }    { width100pxheight14pxlineheight14pxbackgroundcolortransparentbackgroundposition145px : 1 }    { overflowhiddenpositionabsoluteright12pxbottom10pxheight14pxfontsize11pxlineheight14pxcolor777letterspacing1pxnoticedaum : 1 }    { 649pxcolorec2c2fverticalaligntoppartevent : 1 }    { 6pxpadding0fontsize1pxlineheight1pxbackgroundcolore5e5e5suggestBox : 1 }    { boxlst : 3 }    { numpercentfontweightboldwrapelection2016 : 1 }    { innertag : 1 }    { floatnoneloginsimple : 1 }    { backgroundurlhttpi1daumcdnnetdecocomicstopdeco2014v2txtdaumv13pngv1687 : 1 }    { width31pxbackgroundposition310px : 1 }    { titshop5 : 3 }    { titshop4 : 3 }    { 90pxlistmysvc : 1 }    { abb5bdbordertop0 : 1 }    { titshop3 : 3 }    { titshop2 : 3 }    { 접근성 : 1 }    { margintop5pxfontsize11pxcolor878787letterspacing1pxverticalsong : 1 }    { 정보 : 8 }    { height250pxsectionmulti : 1 }    { 415pxcolor535353textaligncentertextdecorationnoneverticalaligntopstocktoday : 1 }    { q : 1 }    { imgelection2016floatleftwidth5pxheight5pxmargin5px : 1 }    { linkrecom : 1 }    { 여성스러운 : 1 }    { 해요 : 1 }    { lst : 1 }    { transparentcolor222lineheight25pxbackgroundcolortransparentimemodedisabledlogininp : 1 }    { rellink : 1 }    { overflowhiddenwidth427pxlistimgtxt : 1 }    { 北외무성 : 1 }    { 14pxbackgroundposition450px : 1 }    { top259pxleft369pxwidth21pxheight17pxbackgroundposition60px : 1 }    { numtime0backgroundposition50px : 1 }    { 디테일 : 1 }    { w25 : 2 }    { floatleftbackgroundposition0 : 1 }    { 펼치다 : 1 }    { txtpso : 1 }    { width63pxbackgroundposition401px : 1 }    { 55pxpartspecial : 1 }    { 두산 : 1 }    { overflowhiddenpositionabsolutetop30pxleft55pxwidth71pxheight87pxtextaligncenterpartevent : 1 }    { 7pxbordertopnoneborderbottom1px : 1 }    { 시도 : 1 }    { paddingleft0backgroundnoneboxuser : 1 }    { width397pxheight283pxpromotionimg : 1 }    { displayinlineblockpaddingright10pxmargintop11pxbackgroundposition100 : 1 }    { floatleftwidth48pxheight70pxclearbothverticalsong : 1 }    { 50pxmargintop22pxbackgroundcolorf0f0f0clearbothmobileweblink : 1 }    { top16pxsectionmulti : 1 }    { displayblockoverflowhiddenwidth174pxheight29pxpadding18px : 1 }    { icow18backgroundposition0 : 1 }    { displayinlineblockwidth2pxheight7pxmargin4px : 1 }    { displayinlineblockwidth18pxheight7pxmargin4px : 1 }    { paddingleft10pxcolor383b42backgroundcolortransparentparttoday : 1 }    { fontfamilytahomasansserifellipsisg : 1 }    { 영상 : 1 }    { contthesong : 4 }    { 0backgroundposition70px : 1 }    { overflowhiddenfloatleftpaddingleft11pxbackgroundurlhttpi1daumcdnnetdecocomicstopdeco2014v2imgdaumvertv9pngv1664 : 1 }    { dotum돋움sansserifcolor000suggestBox : 1 }    { width179pxheight233pxpartspecial : 1 }    { left387pxcontstory : 1 }    { positionabsolutetop0left92pxwidth154pxheight75pxpaddingleft12pxfontsize11pxbackgroundcolorfbfbfbbackgroundposition285px : 1 }    { inpsteady : 1 }    { relaycenter : 1 }    { linkthumb : 4 }    { 인기 : 2 }    { marginleft2pxfontsize14pxcolordededesuggestBox : 1 }    { 어디서 : 1 }    { 0fontweightboldfontsize11pxlineheight13pxfontfamilytahomasansserifcolor949494infopage : 1 }    { overflowhiddenwidth776pxpadding13px : 1 }    { height555pxblogon : 1 }    { displayinlineblockmarginright6pxheight11pxfontsize10pxlineheight11pxverticalaligntopcontshopbest : 1 }    { noneverticalaligntopcontshop : 1 }    { 끝 : 1 }    { width28pxbackgroundposition75px : 1 }    { width158pxheight50pxcursorpointerverticalreader : 1 }    { 939pxsuggestBox : 1 }    { numtime3backgroundposition50px : 1 }    { 1pxbackgroundcolore8e8e8defaulttxt : 1 }    { 미즈넷 : 2 }    { numtime8backgroundposition50px : 1 }    { 놈이 : 1 }    { 15pxpaddingtop5pxfontsize11pxlineheight16pxcolor7b7b7bletterspacing1pxwhitespacenormallistmyset : 1 }    { eeeef0backgroundcolorf7f7f7partevent : 1 }    { eaebefbackgroundcolorf9fafbcolor222letterspacing2pxtextaligncentertextdecorationnonewebkitboxshadowinset : 1 }    { 개인정보처리방침 : 1 }    { listgoods : 7 }    { numrate8backgroundposition25px : 1 }    { 220pxpartevent : 1 }    { displayblocksuggestBox : 1 }    { backgroundposition605px : 2 }    { svcmorelink : 1 }    { overflowhiddenpositionabsolutetop7pxright7pxwidth54pxheight25pxtextindent9999pxnoticedaum : 1 }    { positionrelativefloatleftwidth92pxheight45pxpadding1px : 1 }    { bline : 1 }    { paddingtop16pxsectionmulti : 1 }    { 쭉빵카페 : 1 }    { color8f8f8ftextdecorationunderlineloginset : 1 }    { backgroundposition401px : 2 }    { 7번째 : 1 }    { positionabsolutetop38pxleft0zindex9999width100padding0 : 1 }    { displayinlineblockwidth653pxborderbottom1px : 1 }    { wrapmycont : 1 }    { top0left0width54pxheight41pxbackgroundposition110px : 3 }    { overflowhiddenpositionabsolutetop50pxleft91pxwidth17pxheight14pxbackgroundposition40px : 1 }    { height50pxwrapfavor : 1 }    { 회사소개 : 1 }    { fontsize14pxlineheight22pxwrapbook : 1 }    { white : 1 }    { overflowhiddenpositionabsoluteleft24pxwidth165pxheight25pxpaddingleft10pxfontsize11pxlineheight26pxcolor96969bletterspacing1pxcursortextlogininp : 1 }    { displayblockcontshopbest : 1 }    { displayinlineblockoverflowhiddenmaxwidth100paddingright2pxwhitespacenowraptextoverflowellipsisverticalaligntopframeg : 1 }    { textdecorationunderlineicoplay : 1 }    { floatleftpaddingleft6pxlineheight15pxbackgroundposition0 : 1 }    { 55pxheadlineimg : 2 }    { margintop1pxloginset : 1 }    { left132pxwidth101pxbackgroundposition410px : 1 }    { linktithovercolor0d3679sectionmedia : 1 }    { wraptabcont : 10 }    { btnoff : 3 }    { 170pxtextindent9999pxsectionmulti : 1 }    { floatleftpositionrelativezindex0width266pxmargintop14pxlayerservice : 1 }    { 날씨 : 3 }    { 11 : 1 }    { 10 : 1 }    { 헤어핀 : 1 }    { displayblockoverflowhiddenpositionrelativezindex1width100height100screenout : 1 }    { icow02backgroundposition0 : 2 }    { 소호 : 1 }    { 3년간의 : 1 }    { e1e1e1borderleft0 : 2 }    { 280pxtextaligncenterheadlinespe : 1 }    { icow12backgroundposition0 : 1 }    { 1380pxsuggestBox : 1 }    { wraplife : 1 }    { icow10backgroundposition0 : 2 }    { backgroundposition1px : 1 }    { 156pxcontstory : 10 }    { a9abb0bordertop0 : 1 }    { eaeaedcontshopbest : 2 }    { overflowhiddenbackgroundurlhttpi1daumcdnnetdecocomicstopdeco2014v2icodaumv8pngv1669 : 1 }    { marginbottom4pxcontshop : 1 }    { displayblockshop3on : 1 }    { paddingleft14pxcolor5f6876backgroundposition0 : 1 }    { displayinlineblockwidth278pxheight562pxborder1px : 1 }    { top127pxleft370pxwidth20pxheight24pxbackgroundposition15px : 1 }    { 0color222letterspacing1pxloginmy : 1 }    { floatleftpadding14px : 1 }    { 66pxrealestateon : 1 }    { noticecafe : 2 }    { 9pxborder1px : 1 }    { icotopic : 2 }    { 15px : 7 }    { 11번가 : 1 }    { displayblockoverflowhiddenfloatleftwidth88pxheight34pxmargintop1pxfontsize12pxlineheight18pxletterspacing0verticalreader : 1 }    { 추운것 : 1 }    { 임종룡 : 2 }    { descthumb : 1 }    { 7pxpadding1pxbackgroundposition465px : 1 }    { paddingtop13pxwraptv : 1 }    { 50pxwrapelection2016 : 3 }    { 고농축오일2 : 1 }    { icog : 1 }    { icotime : 1 }    { overflowhiddenwidth179pxheight87pxbordertop1px : 1 }    { color888contshop : 1 }    { b5b8bfborderradius12pxfontsize52pxlineheightnormalbackgroundimagewebkitgradientlinear : 1 }    { overflowhiddenwidth653pxheight40pxadmid : 1 }    { 145pxparttoday : 5 }    { width258pxmarginright5pxcontshopbest : 1 }    { txtnotice : 1 }    { 1620pxsuggestBox : 1 }    { btnlayer : 2 }    { top0left0width54pxheight41pxbackgroundposition55px : 2 }    { backgroundposition413px : 2 }    { 200pxwrapelection2016 : 3 }    { 최고 : 1 }    { 60px : 1 }    { displayinlineblockheight14pxmargintop14pxlineheight14pxverticalaligntopwhitespacenowrappartevent : 1 }    { 한층 : 1 }    { 지역 : 2 }    { 소개 : 1 }    { floatleftwidth46pxheight25pxmarginright6pxbackgroundposition0 : 1 }    { transparentfontweightboldfontsize16pxlineheight18pxfontfamily돋움dotumsansserifbackgroundcolortransparentoutlinenoneimemodeactivewebkitappearancenonedsch : 1 }    { descstoryhover : 1 }    { 2pxcolordddsuggestBox : 1 }    { titfun : 4 }    { 다음웹툰 : 1 }    { 현재 : 9 }    { 3 : 1 }    { icoevent : 1 }    { 너무 : 1 }    { 8pxloginmy : 1 }    { blogguisortablehelper : 1 }    { 250pxverticalreader : 1 }    { displayblocktipon : 1 }    { 20pxtextaligncenterheadlinespe : 1 }    { 0font11px : 1 }    { btnmmsrelay : 1 }    { displaynoneimginit : 1 }    { 과정 : 1 }    { numdday1backgroundposition0 : 1 }    { icocelsius : 1 }    { titrealestate : 4 }    { 351pxcolor196adbtodayopen : 1 }    { tahomacolor000suggestBox : 1 }    { 눌러주세요 : 22 }    { 205pxtilesstory : 2 }    { icomono : 1 }    { 4pxverticalsong : 1 }    { positionabsolutetop0left0zindex102width100tiertopalpha : 1 }    { linklivedisplayblockoverflowhiddenwidth100height40pxfontsize0lineheight0backgroundnorepeat : 1 }    { 실시간 : 2 }    { width144pxmarginright0padding12px : 1 }    { margintop7pxlineheight19pxcolor757474defaulttxt : 1 }    { displayblockpadding5px : 1 }    { numtime1width5pxbackgroundposition50px : 1 }    { 발라도 : 1 }    { overflowhiddenheight19pxpadding2px : 1 }    { btnlocate : 1 }    { 126pxwebtoonon : 1 }    { 업데이트 : 2 }    { w09 : 2 }    { 서비스약관 : 1 }    { top81pxleft369pxsectionmedia : 1 }    { cursornoneconttrendshop : 1 }    { 타는 : 1 }    { 950pxsuggestBox : 1 }    { backgroundposition185px : 7 }    { iconewdisplaynonelayermycont : 1 }    { 60pxsuggestBox : 1 }    { height103pxmargintop9pxsectionmulti : 2 }    { paddingleft14pxbackgroundposition1px : 1 }    { 남성시대 : 1 }    { titcafe : 4 }    { displayinlinefloatleftwidth358pxheight18pxpadding0margin9px : 1 }    { mycontfoot : 1 }    { titelection : 3 }    { arialbackgroundurlhttpi1searchdaumcdnnetssearchall2011icoicosuggest20110721gif : 1 }    { rankcont : 1 }    { 297pxsuggestBox : 1 }    { floatleftwidth280pxwrapsub : 1 }    { 주세요 : 1 }    { 30pxwrapelection2016 : 4 }    { 20px : 4 }    { positionabsolutetop30pxleft1pxzindex0width179pxheight87pxbackgroundimageurlhttpi1daumcdnnetdecocomicstopdeco2014v2transparentgifpartevent : 1 }    { backgroundposition180px : 4 }    { icow14backgroundposition0 : 1 }    { 79pxlayermycont : 1 }    { displaynoneloginmy : 1 }    { positionabsolutetop0right0width940pxheight33pxborderbottom1px : 1 }    { 1165pxlistthumb : 1 }    { 으슬으슬할 : 1 }    { listimg : 17 }    { cafeg : 6 }    { 6 : 2 }    { width181pxheight118pxissuetypeimg : 1 }    { displayblockoverflowhiddenpositionrelativewidth653pxheight40pxadmid : 1 }    { color : 1 }    { top129pxwidth167pxheight23pxpadding9px : 1 }    { backgroundposition350px : 1 }    { headbnr : 1 }    { 제목 : 22 }    { d2dbe8wrapelection2016 : 1 }    { 66 : 2 }    { 6pxnewson : 1 }    { 69 : 2 }    { listrel : 2 }    { linkprivacy : 1 }    { width179pxheight116pxborder1px : 2 }    { width167pxheight45pxpadding10px : 2 }    { contfeature : 1 }    { 다음 : 9 }    { titthumbhover : 1 }    { displayblockfloatleftmarginright8pxwraptip : 1 }    { floatleftwidth175pxheight144pxpadding15px : 1 }    { quot블링큰이 : 1 }    { 동결 : 1 }    { 관련 : 2 }    { zindex1backgroundcolor4e82eebackgroundposition117px : 1 }    { 할인 : 1 }    { linkinfo : 1 }    { positionrelativewidth181pxpaddingtop22pxpartspecial : 1 }    { 22pxbackgroundposition0 : 1 }    { 0noticedaum : 5 }    { noticelogout : 1 }    { 대선 : 1 }    { norepeattextindent9999pxverticalaligntopwrapelection2016overflowhiddenwidth653pxletterspacing1pxwrapelection2016 : 1 }    { 6pxsectionmedia : 5 }    { titspe : 1 }    { fontsize12pxlineheight15fontfamily돋움dotumsansserifcolor333a : 1 }    { titinfomarginright10pxwrapelection2016 : 1 }    { linklivehovertextdecorationnonewrapelection2016 : 1 }    { numelection2016floatleftwrapelection2016 : 1 }    { 루이 : 2 }    { bodydivdldtddulollih1h2h3h4h5h6precodeformfieldsetlegendtextareapblockquotethtdinputselecttextareabutton : 1 }    { 현대차 : 1 }    { 0parttoday : 28 }    { linksvcall : 1 }    { 1102 : 1 }    { clearbothshow : 1 }    { border0 : 2 }    { numrate5backgroundposition25px : 1 }    { 0sectionmedia : 1 }    { 웹게임 : 1 }    { PCmiddot서버 : 1 }    { icofavor : 1 }    { layersteady : 4 }    { margin4px : 2 }    { 남자 : 1 }    { positionabsolutetop64pxleft0width940pxheight64pxnoticedaum : 1 }    { contspe : 1 }    { displayblockwidth130pxverticalsong : 1 }    { plategtop85pxheight20pxwidth166pxpadding0 : 1 }    { 0icodaum : 1 }    { 유익한 : 2 }    { backgroundurlhttpi1daumcdnnetdecocomicstopdeco2014v2bgdaumv9pngv1683 : 1 }    { left158pxsectionmulti : 1 }    { backgroundposition200px : 1 }    { overflowhiddenwidth258pxpadding8px : 1 }    { icosuggest : 1 }    { linkweather : 42 }    { btnsave : 1 }    { 20pxbordertop2px : 1 }    { 3pxletterspacing1pxparttoday : 1 }    { 대전 : 1 }    { 215pxmyblogon : 1 }    { 220pxsectionmulti : 1 }    { 종교단체처럼 : 1 }    { 12pxfontweightboldlineheight21pxbackgroundposition210px : 1 }    { baseBox : 2 }    { marginright8pxloginsimple : 1 }    { overflowhiddenwidth244pxpadding14px : 1 }    { width29pxbackgroundposition180px : 1 }    { floatleftwidth32pxheight21pxlineheight23pxbackgroundcolortransparentpagedaum : 1 }    { 핵실험에 : 1 }    { width13pxbackgroundposition170px : 1 }    { btnbefore : 1 }    { tfpw : 1 }    { displayblockshop4on : 1 }    { displayblockfontsize11pxcolor262626horizontalimg : 1 }    { 8pxfontsize11pxlineheight12pxcolorb3c4ddwrapelection2016 : 1 }    { 0txtdaum : 1 }    { btncaster : 1 }    { top227pxwidth160pxpadding5px : 1 }    { 주마 : 1 }    { overflowhiddenpositionabsolutebottom10pxleft11pxwidth167pxcursorpointerwhitespacenowraptextoverflowellipsispromotionimg : 1 }    { top83pxleft365pxsectionmedia : 1 }    { colorfffdindex : 1 }    { eventteam : 1 }    { 6pxlineheight16pxcolor262626loginset : 1 }    { 90pxlogininp : 1 }    { 두산베어스 : 2 }    { infothumb : 7 }    { color262626letterspacing1pxtilesstory : 1 }    { icoarrowequal : 1 }    { 330pxlayermycont : 2 }    { left16pxconttrendshop : 1 }    { displayblockheight12pxpaddingtop7pxfontsize10pxlineheight12pxcolor848484partevent : 1 }    { 14px : 1 }    { listmainsvc : 3 }    { 4 : 1 }    { icoarrowup : 1 }    { displayinlineblockoverflowhiddenwidth18pxheight26pxmargintop4pxfontsize0lineheight0verticalaligntopparttoday : 1 }    { 바로가기 : 7 }    { color5f6876boxuser : 1 }    { floatrightpadding11px : 1 }    { wrapelection2016overflowvisiblepositionabsolutetop28pxright0widthautowrapelection2016 : 1 }    { 검색어 : 1 }    { 9pxlineheight17pxwrapfavor : 1 }    { 22pxfontsize11pxlineheight14pxletterspacing1pxboxuser : 1 }    { height79pxwraptip : 1 }    { top47pxright10pxcontshopbest : 1 }    { ecececfontsize0lineheight0verticalimg : 1 }    { fsttxt : 2 }    { wraptvpot : 6 }    { 25pxcontstory : 1 }    { 게임 : 4 }    { sectioncontents : 2 }    { IP보안 : 2 }    { fontstylenormalfontweightnormalheadermainasidearticlefooter : 1 }    { displayblockoverflowhiddenpositionrelativewidth387pxheight103pxsectionmedia : 1 }    { 정교해 : 1 }    { displayblockeduon : 1 }    { titbestlike : 4 }    { listthumb : 21 }    { 자동실행 : 1 }    { 제주 : 1 }    { 25pxbackgroundcolordce7f6wrapelection2016 : 1 }    { paddingleft14pxbackgroundurlhttpi1daumcdnnetdecocomicstopdeco2014v2imgdaumvertv9pngv1664 : 1 }    { 190pxparttoday : 2 }    { displayblocknews5tabon : 1 }    { width41pxbackgroundposition50px : 1 }    { itemvs : 2 }    { 5위 : 2 }    { 영화 : 3 }    { 하다 : 1 }    { 여행 : 1 }    { 562pxcontshop : 1 }    { color3770bfboxuser : 1 }    { overflowhiddenwidth280pxheight35pxlineheight15pxloginmy : 1 }    { displayinlineblockoverflowhiddenheight100backgroundfffverticalalignmiddlesectionmedia : 1 }    { left18pxsectionmedia : 1 }    { overflowhiddenpositionabsolutetop0left0zindex1width15pxheight15pxtextindent9999pxverticalreader : 1 }    { 다 : 1 }    { titblog : 4 }    { overflowhiddenwidth922pxpadding11px : 1 }    { 0imgvert : 1 }    { tithope : 4 }    { width278pxmargintop5pxdindex : 1 }    { 총 : 6 }    { cursordefaultverticalsong : 1 }    { width278pxheight337pxadmid : 1 }    { top0left0height26pxpadding1px : 1 }    { on : 2 }    { w08 : 2 }    { 8898 : 1 }    { marginright5pxbackgroundposition355px : 1 }    { outline1px : 1 }    { 126pxcontstory : 11 }    { txtdotwidth4pxheight3pxmargintop13pxbackgroundposition25px : 1 }    { bottom22pxleft265pxsectionmulti : 1 }    { icopush : 2 }    { floatleftwidth24pxheight20pxheight24pxmargin5px : 1 }    { backgroundurlhttpi1daumcdnnetdecocomicstopdeco2014v2imgdaumv6pngv1687 : 1 }    { or : 1 }    { 85pxtilesstory : 1 }    { 월평균 : 1 }    { linkrel : 1 }    { color00a0b6contstory : 2 }    { paddingleft45pxbackgroundposition0 : 1 }    { icow16backgroundposition0 : 2 }    { displayblockwebtoonon : 1 }    { txtarea : 1 }    { servicegroup : 1 }    { icoarrowdown : 1 }    { 현대H몰 : 1 }    { 240pxsuggestBox : 2 }    { NC : 1 }    { backgroundposition492px : 2 }    { 405pxboxuser : 1 }    { backgroundurlhttpi1daumcdnnetdecocomicstopdeco2014v2imgweatherpngv1102 : 1 }    { imgdaum : 2 }    { titbestreader : 1 }    { backgroundposition462px : 2 }    { displayblockmizneton : 1 }    { 0bgdaum : 1 }    { 스토리펀딩 : 3 }    { fontweightboldcolorfffshop4on : 1 }    { 게임상의 : 1 }    { typefstbig : 7 }    { shopmall : 1 }    { displayblockwidth22pxheight12pxmargin21px : 1 }    { bnrtype5width132pxheight18pxmargintop5pxpaddingtop25pxbackgroundurlhttpi1daumcdnnetdecocomicstopdeco2014v2electionbgelection2016top5160317gif : 1 }    { 0wrapelection2016 : 10 }    { bordertop1px : 2 }    { SSGCOM : 1 }    { marginleft1pxpaddingleft1pxbackgroundposition97px : 3 }    { width399pxheight340pxborderbottom1px : 1 }    { 345pxshop1on : 1 }    { overflowvisibleheight340pxpromotionimg : 1 }    { top6pxleft5pxwidth28pxheight28pxbackgroundposition0 : 1 }    { overflowhiddenfloatleftwidth127pxmarginright5pxpaddingleft9pxparttoday : 1 }    { width83pxnoticedaum : 1 }    { icojusticebackgroundposition40px : 1 }    { displayinlineblockpaddingleft8pxfontweightboldfontsize10pxlineheight10pxfontfamilytahomasansserifstocktoday : 1 }    { overflowhiddenwidth66pxheight74pxfontsize11pxlineheight14pxtextaligncentercolor414141letterspacing1pxpartevent : 1 }    { 345pxshop3on : 1 }    { mypeopleg : 1 }    { padding4px : 1 }    { txtlabid : 1 }    { wrapbestlike : 5 }    { 김현욱 : 1 }    { 0color5b6473loginmy : 1 }    { bnrtype6width132pxheight18pxmargintop5pxpaddingtop25pxbackgroundurlhttpi1daumcdnnetdecocomicstopdeco2014v2electionbgelection2016top6gif : 1 }    { marginbottom1pxwrapgame : 1 }    { 7℃ : 2 }    { 0lineheight15pxtextaligncentersectionmedia : 1 }    { backgroundposition69px : 1 }    { positionabsolutetop146pxleft943pxzindex98width57pxheight105pxbackgroundurlhttpi1daumcdnnetdecotop2012logout20121016png : 1 }    { width188pxheight159pxheadlinespe : 1 }    { 1pxlineheight14pxverticalaligntopwhitespacenowrappartevent : 1 }    { 포근한 : 1 }    { screenout : 1 }    { numdday7backgroundposition0 : 1 }    { overflowhiddenwidth271pxheight55pxmarginleft7pxpaddingtop6pxcontshop : 1 }    { bottom96pxwraptip : 1 }    { backgroundposition45px : 1 }    { stockg : 3 }    { width18pxheight17pxbackgroundposition75px : 1 }    { backgroundposition60px : 1 }    { 카발데이 : 1 }    { 출정 : 1 }    { 살 : 1 }    { 미디어 : 2 }    { servicebottom : 2 }    { margin0padding0fieldsetimg : 1 }    { 시즌오프70 : 1 }    { displayblocktvon : 1 }    { 347pxsuggestBox : 1 }    { 이전 : 7 }    { 39쇼챔 : 1 }    { wrapshop2 : 1 }    { numdday0backgroundposition0 : 1 }    { displayblockgameon : 1 }    { top15pxcontstory : 1 }    { overflowhiddenzindex0width280pxheight143pxconttrendshop : 1 }    { btnpage : 5 }    { 18px23px : 1 }    { displayinlineblockwidth40pxheight23pxmarginright4pxlineheight23pxbackgroundposition35px : 1 }    { nonebackgroundcolorffftitmyset : 1 }    { icow13backgroundposition0 : 2 }    { 5darr : 1 }    { numrate6backgroundposition25px : 1 }    { setstart : 1 }    { 000outlinewebkitfocusringcolor : 1 }    { numdday6backgroundposition0 : 1 }    { width35pxbackgroundposition0 : 1 }    { wrapwebtoon : 2 }    { 1px : 14 }    { overflowhiddenpositionabsolutetop96pxleft0width269pxheight17pxbackgroundurlhttpi1daumcdnnetdecocomicstopdeco2014v2linedotgifv1102 : 1 }    { 오픈베타 : 1 }    { overflowhiddenwidth249pxheight83pxmargin0 : 1 }    { overflowhiddenpositionabsolutewidth0height0lineheight0textindent9999pxclb : 1 }    { left7pxcontshopbest : 1 }    { teamhome : 1 }    { list : 3 }    { backgroundposition290px : 1 }    { numdday5backgroundposition0 : 1 }    { linkmyinfo : 1 }    { width53pxbackgroundposition130px : 1 }    { textdecorationnonetilesstory : 1 }    { 여수 : 1 }    { floatrightpartevent : 1 }    { 39모의39 : 1 }    { displayinlinemarginleft1pxpaddingleft2pxbackgroundurlhttpi1daumcdnnetdecocomicstopdeco2014v2imgdaumvertv9pngv1664 : 1 }    { 425pxloginset : 1 }    { 따뜻하고 : 1 }    { color262626textdecorationnoneahover : 1 }    { colorfffconttrendshop : 1 }    { bottom22pxleft265pxsectionmedia : 1 }    { contlive : 1 }    { numtime6backgroundposition50px : 1 }    { 이벤트에 : 1 }    { color777suggestBox : 1 }    { width42pxbackgroundposition170px : 1 }    { 0marginleft6pxverticalalignmiddletophead : 1 }    { e8e8e8borderbottom1px : 1 }    { displayblockbookon : 1 }    { 4pxsectionmedia : 1 }    { strong : 1 }    { marginright0backgroundposition455px : 1 }    { contg : 8 }    { d0377bfontsize12pxcolorffflineheight28pxbackgroundcolore03d86textindent0tilesstory : 1 }    { width385pxheight101pxsectionmedia : 1 }    { 이거 : 1 }    { 참여하세요 : 1 }    { 1140pxsuggestBox : 1 }    { 추천 : 3 }    { webkitappearancenonedsch : 1 }    { 목록 : 1 }    { 18px20px : 1 }    { icow11backgroundposition0 : 1 }    { height60pxwrapfavor : 1 }    { 이메일 : 1 }    { timecontoverflowhiddenwidth21pxtextalignrightwrapelection2016 : 1 }    { floatrightpositionrelativelistinventory : 1 }    { urlhttpi1searchdaumcdnnetssearchall2013bgbgfootergif : 1 }    { 66pxbestlikeon : 1 }    { nonewrapmain : 1 }    { displayblockhopeon : 1 }    { 45pxtophead : 1 }    { displayblocktvpoton : 1 }    { floatleftheight19pxpaddingleft7pxcolorfffbackgroundposition0 : 1 }    { Corp : 1 }    { 광고안내 : 1 }    { displayblockoverflowhiddenclearbothsuggestBox : 1 }    { titsort : 1 }    { left260pxcontstory : 1 }    { 55pxtextindent9999pxcursorpointericophoto : 1 }    { overflowhiddenwidth203pxheight18pxmargin14px : 1 }    { txtfortune : 1 }    { 1위에 : 1 }    { 18pxsuggestBox : 1 }    { 13pxfontsize11pxlineheight14pxcolor959595letterspacing1pxverticalaligntopsectionmulti : 1 }    { overflowhiddenwidth278pxheight273pxbordertop1px : 1 }    { 25px : 1 }    { icow04 : 1 }    { icow05 : 1 }    { icow06 : 1 }    { icow07 : 1 }    { icow01 : 1 }    { icow02 : 1 }    { icow03 : 1 }    { imgweather : 2 }    { icow08 : 1 }    { icow09 : 1 }    { 저항middot연대로 : 1 }    { 10pxbackgroundposition20px : 1 }    { icodownbackgroundposition0 : 1 }    { 365pxpartevent : 1 }    { urlhttpi1daumcdnnetdecocomicstopdeco2014v2bgtopbargifv1102 : 1 }    { displayblocksectionmedia : 1 }    { 제휴문의 : 1 }    { SF : 1 }    { floatleftmargin5px : 1 }    { num4 : 2 }    { num5 : 1 }    { num6 : 1 }    { num7 : 1 }    { num0 : 1 }    { num1 : 4 }    { num2 : 3 }    { num3 : 3 }    { autocontshop : 1 }    { num8 : 1 }    { 120pxsuggestBox : 2 }    { overflowhiddenwidth161pxheight21pxmarginright10pxpadding7px : 1 }    { positionabsolutetop283pxright9pxwidth19pxheight17pxbackgroundposition225px : 1 }    { txtnum4 : 1 }    { txtnum3 : 1 }    { txtnum2 : 1 }    { txtnum1 : 1 }    { 여신 : 1 }    { 생매장될 : 1 }    { 10pxcolor555suggestBox : 1 }    { txtstock : 1 }    { linkdaumapp : 1 }    { innercontfloatrightwrapelection2016 : 1 }    { height43pxpaddingtop12pxlayoutpromotion : 1 }    { continfodisplayblockheight28pxpaddingtop12pxfontsize0backgroundcolor0047a8textaligncenterwrapelection2016 : 1 }    { rgba000006boxshadowinset : 1 }    { 카페 : 4 }    { 아이디 : 2 }    { fr : 1 }    { ddaycontdisplaynonewrapelection2016 : 1 }    { 0border1px : 1 }    { 430pxparttoday : 1 }    { 150pxwrapelection2016 : 3 }    { floatleftwidth31pxlineheight17pxloginmy : 1 }    { fontsize11pxletterspacing1pxlistimg : 1 }    { floatleftmargin19px : 1 }    { fl : 2 }    { a : 2 }    { width190pxheight340pxborderbottom1px : 1 }    { 13pxletterspacing1pxissuetypetxt : 1 }    { displayblockpositionabsolutetop0left0width280pxpaddingtop120pxtextaligncenterlayermycont : 1 }    { footer : 10 }    { 도움말보기 : 1 }    { 126pxgameon : 1 }    { sortservice : 8 }    { color4559e9textdecorationunderlinetilesstory : 1 }    { 교체quot : 1 }    { 있어 : 1 }    { numprice : 4 }    { 1760pxparttoday : 1 }    { 1080pxsuggestBox : 1 }    { 126pxeduon : 1 }    { 현위치 : 1 }    { txtissue : 2 }    { fff : 5 }    { displayblockwrapdaum : 1 }    { width53pxbackgroundposition0 : 1 }    { a5a6acborderleft1px : 2 }    { icow17backgroundposition0 : 1 }    { 217pxcontshopbest : 1 }    { 대구 : 1 }    { 상품 : 1 }    { 쇼핑몰 : 1 }    { 더 : 1 }    { 225pxwrapelection2016 : 3 }    { displayblockhide : 1 }    { ellipsisg : 2 }    { 샀어 : 1 }    { uisortablehelper : 1 }    { breakingnews : 4 }    { displayblockenteron : 1 }    { top8pxright8pxcontshopbest : 1 }    { nonedlulolmenuli : 1 }    { overflowhiddenpositionrelativewidth263pxheight55pxmargin21px : 1 }    { backgroundposition75px : 1 }    { right14pxconttrendshop : 1 }    { 0pagetype2 : 3 }    { rankissue : 1 }    { floatleftmargin2px : 1 }    { 6위 : 2 }    { backgroundurlhttpi1daumcdnnetdecocomicstopdeco2014v2imgdaumvertv9pngv1664 : 1 }    { ㄱㄹ : 1 }    { searchon : 1 }    { 1pxbackgroundcolore1e1e1verticalsong : 1 }    { 의혹 : 1 }    { top47pxwidth106pxheight17pxpadding4px : 1 }    { left116pxbackgroundposition117px : 1 }    { linksetpage : 1 }    { 190pxtodaylink : 4 }    { 하나면 : 1 }    { continfo : 4 }    { 뭐 : 1 }    { displayblockfontsize11pxcolor737373textaligncenterletterspacing1pxlayerservice : 1 }    { 1560pxlistfavorsch : 1 }    { overflowhiddenwidth515pxpaddingbottom12pxbackgroundurlhttpi1daumcdnneticon2013topmorelayerbglinev2gif : 1 }    { backgroundposition110px : 2 }    { fontbold : 2 }    { ddaycont : 12 }    { listuser : 11 }    { 최근 : 1 }    { 20pximgelection2016displayinlineblockoverflowhiddenfontsize0lineheight0backgroundurlhttpi1daumcdnnetdecocomicstopdeco2014v2electionimgelection2016160330gif : 1 }    { overflowhiddenwidth278pxfavoron : 1 }    { 96pxsectionmulti : 5 }    { 3일만 : 1 }    { 회원가입 : 1 }    { 7 : 1 }    { noticeblog : 2 }    { wrapbook : 2 }    { 날개를 : 1 }    { 4px : 7 }    { 도둑 : 1 }    { 0backgroundposition0 : 2 }    { displayblockoverflowhiddenwidth188pxpadding8px : 1 }    { txttv : 1 }    { mypeopleguisortablehelper : 1 }    { displayinlineblockpositionrelativezindex0width940pxheight112pxmargintop34pxverticalaligntoptitdaum : 1 }    { wraphope : 2 }    { left15pxcontstory : 1 }    { fontsize12pxcontshopbest : 1 }    { floatleftpadding1px : 1 }    { floatleftlineheight15pxfootdaum : 1 }    { iconext : 2 }    { floatrightsuggestBox : 1 }    { 67pxtextindent9999pxcursorpointerboxuser : 1 }    { 71pxcolor666letterspacing1pxlistimgtxt : 1 }    { 1분쇼핑 : 1 }    { 0textindent9999pxwrapelection2016 : 1 }    { displayblockoverflowhiddenwidth46pxheight18pxmargin57px : 1 }    { 산소와의 : 1 }    { 건강해지는 : 1 }    { 미시초겨울옷 : 1 }    { left87pxsectionmedia : 1 }    { 날짜 : 1 }    { color4559e9listimgtxt : 1 }    { 126pxstoryfundingon : 1 }    { 170pxverticalaligntoptextaligncentertilesstory : 1 }    { paddingtop7pxsectionmulti : 2 }    { linkthesong : 3 }    { eaeaeaheadlinespe : 1 }    { tfkeywordwebkitsearchcancelbutton : 1 }    { 6pxsportson : 1 }    { layertop : 3 }    { positionrelativewidth113pxheight103pxmargintop13pxpadding0lineheight14pxtextaligncenterclearbothwhitespacenormallistimgtxt : 1 }    { zindex10backgroundposition0 : 1 }    { 23px : 1 }    { 출격 : 1 }    { 67pxloginset : 1 }    { 14pxloginmy : 1 }    { 완성 : 1 }    { overflowhiddenfloatleftheight33pxfontweightboldlineheight35pxpadding0 : 1 }    { icoup : 1 }    { wrapdaumapp : 1 }    { overflowhiddenpositionabsoluteright3pxbottom3pxwidth20pxheight20pxtextindent9999pxloginset : 1 }    { backgroundposition135px : 2 }    { overflowhiddenpositionrelativewidth628pxheight597pxpadding37px : 1 }    { 18pxborder1px : 1 }    { margintop4pxletterspacing1pxverticalsong : 1 }    { e1e1e1backgroundcolorfbfbfbverticalreader : 1 }    { overflowhiddenpositionabsolutetop0right0width68pxheight37pxtextindent9999pxmobileweblink : 1 }    { 35pxtilesstory : 1 }    { 13pxlineheight18pxissuetypetxt : 1 }    { displayblockfloatleftwidth32pxheight32pxbackgroundposition120px : 1 }    { layoutheadlinet2 : 1 }    { borderright1px : 1 }    { paddingleft48pxbackgroundposition0 : 2 }    { backgroundposition215px : 2 }    { numrate7backgroundposition25px : 1 }    { nonecontshopbest : 1 }    { displayblockmargintop2pxfontsize11pxcolor262626contshopbest : 1 }    { 될까 : 1 }    { icow13 : 1 }    { icow12 : 1 }    { icow11 : 1 }    { icow10 : 1 }    { icow17 : 1 }    { icow16 : 1 }    { icow15 : 1 }    { icow14 : 1 }    { ageg : 1 }    { color676767contshopbest : 1 }    { 광주 : 1 }    { icow18 : 1 }    { e1e1e1cursorpointertilesstory : 1 }    { txtlabel : 7 }    { btnprev : 2 }    { floatleftwidth655pxheight120pxmarginright5pxadstation : 1 }    { 15pxbackgroundposition170px : 1 }    { displayblockbrunchon : 1 }    { txtexactoverflowhiddenfloatleftheight44pxmargintop0suggestBox : 1 }    { numrate4width12pxbackgroundposition24px : 1 }    { left253pxsectionmedia : 1 }    { RPG : 1 }    { imgbnrtagmargin1px : 1 }    { 350pxparttoday : 1 }    { 5pxsectionmedia : 1 }    { txtred : 1 }    { color25ad8bcontstory : 1 }    { txtstory : 2 }    { spiritdaum : 2 }    { infonotice : 1 }    { titelectionfloatleftwidth97pxheight18pxmargin2px : 1 }    { blockquoteafterqbefore : 1 }    { positionrelativeheight103pxsectionmedia : 1 }    { timecont : 11 }    { 위치기반서비스 : 1 }    { 860pxlistmysvc : 1 }    { displayblockshop2on : 1 }    { nonefontsize11pxfontfamily돋움dotumsansserifbackgroundf8f8f8 : 1 }    { shortcutgfocus : 1 }    { 뉴스홈 : 1 }    { 470pxparttoday : 1 }    { paddingleft39pxbackgroundposition0 : 2 }    { 액션 : 1 }    { 4559e9wraptv : 1 }    { linkagorahover : 1 }    { 3위 : 2 }    { imgmobileweb : 1 }    { norepeat : 33 }    { 990pxparttoday : 3 }    { textdecorationunderlinetilesstory : 3 }    { paddingleft42pxbackgroundposition0 : 1 }    { 찜jpg : 1 }    { platebestlike : 1 }    { psogame : 3 }    { 22px : 2 }    { 게임홈 : 1 }    { layoutvertical : 1 }    { norepeattextindent999emsuggestBox : 1 }    { 모바일 : 1 }    { backgroundposition105px : 2 }    { displayblockheight22pxlineheight22pxtextaligncentercolor777b80backgroundcolortransparentwrapmain : 1 }    { 8 : 3 }    { numelection2016width7pxheight9pxwrapelection2016 : 1 }    { left80pxwidth120pxbackgroundposition285px : 1 }    { 동남구 : 1 }    { displayblockautoon : 1 }    { 775pxcolorf25334cursorpointertilesstory : 1 }    { backgroundposition270px : 2 }    { 솔로가 : 1 }    { floatleftlistimg : 1 }    { topautobottom62pxleft166pxtilesstory : 1 }    { tittip : 2 }    { top7pxleft7pxwidth45pxheight45pxbackgroundposition30px : 1 }    { checkoff : 1 }    { backgroundposition50px : 4 }    { 나의 : 1 }    { txtagora : 2 }    { width12pxheight13pxpaddingright14pxbackgroundpositionright : 1 }    { 대 : 2 }    { 0suggestBox : 2 }    { 0padding0 : 1 }    { 전체보기 : 2 }    { suggestexact : 37 }    { iconewdisplaynonemyblogon : 1 }    { inputwebkitautofill : 1 }    { listbasis : 6 }    { 세워 : 1 }    { 위해 : 1 }    { txtexact : 1 }    { displayblockwordbreakkeepallwraptv : 1 }    { height291pxpaddingtop36pxsectionmulti : 1 }    { icorecom : 1 }    { displayinlineblockmargin13px : 1 }    { 77pxsuggestBox : 1 }    { contthumb : 1 }    { positionrelativemarginright90pxclearbothsuggestBox : 1 }    { backgroundposition120px : 2 }    { headlinetxt : 5 }    { 눈물 : 1 }    { 10pxfontsize11pxlineheight14pxfontfamily돋움dotumhelveticasansserifcolor666verticalsong : 1 }    { icolabel : 1 }    { 6pxautoon : 1 }    { 6도 : 1 }    { top7pxright10pxzindex1partevent : 1 }    { SNS를 : 1 }    { titthesong : 3 }    { numrate1width9pxbackgroundposition25px : 1 }    { width8pxheight8pxmargin13px : 1 }    { overflowhiddenpositionabsolutetop19pxright79pxheight25pxbackgroundimageurlhttpi1daumcdnnetdecocomicstopdeco2014v2transparentgiftextindent9999pxnoticedaum : 1 }    { displayinlinefloatrightverticalimg : 1 }    { 메일 : 1 }    { amp9662 : 2 }    { btnend : 1 }    { displayinlinefloatleftwidth177pxheight54pxmargin33px : 1 }    { listmenu : 1 }    { timethesong : 3 }    { 울산 : 1 }    { displayinlinepadding0 : 1 }    { linkcopy : 1 }    { backgroundcolorf0f0f0suggestBox : 1 }    { 화분의 : 1 }    { margintop12pxpaddingleft17pxbackgroundposition1px : 1 }    { floatleftwidth9pxbackgroundcolortransparentparttoday : 1 }    { paddingleft19pxbackgroundposition3px : 1 }    { floatleftlineheight15pxletterspacing1pxtopservice : 1 }    { icodown : 1 }    { 해고 : 1 }    { numtime7backgroundposition50px : 1 }    { 24pxfootdaum : 1 }    { offSuggest : 1 }    { 126pxmovieon : 1 }    { floatleftpadding9px : 1 }    { linktotalsvc : 1 }    { 같아39 : 1 }    { 285px : 1 }    { 11주년 : 1 }    { 남아공대통령 : 1 }    { 20pxborder1px : 1 }    { 뒤집은 : 1 }    { headlayer : 1 }    { e1e1e1borderbottom1px : 2 }    { displayblockwidth26pxheight15pxmargintop4pxbackgroundposition0 : 1 }    { width180pxheight100pxwraptv : 1 }    { 증거인멸 : 1 }    { norepeatcolorffftextaligncentersuggestBox : 1 }    { btning : 1 }    { CJmall : 1 }    { height249pxwraptip : 1 }    { fontsize11pxcolor555letterspacing1pxlistimgtxt : 1 }    { width75pxheight75pxopacity005listinventory : 1 }    { 청소년보호정책 : 1 }    { GS샵 : 2 }    { 1430pxparttoday : 8 }    { numtime9backgroundposition50px : 1 }    { 16px : 2 }    { width149pxmarginright5pxpadding1px : 1 }    { 0color5e646floginset : 1 }    { 흐림 : 1 }    { overflowhiddenpositionabsolutebottom10pxleft208pxwidth167pxcursorpointerwhitespacenowraptextoverflowellipsistilesstory : 1 }    { solid : 59 }    { 백령 : 1 }    { 0tilesstory : 1 }    { 이딴 : 1 }    { displayinlineblockmarginright4pxpaddingright8pxfontweightboldbackgroundposition100 : 1 }    { height25pxpadding43px : 1 }    { 220pxverticalaligntoptextindent9999pxpartevent : 1 }    { 199pxsuggestBox : 1 }    { 던전 : 1 }    { 89pxcolor777topservice : 1 }    { guide : 1 }    { appintro : 7 }    { backgroundposition310px : 3 }    { titedu : 4 }    { infopage : 4 }    { displayblockmovieon : 1 }    { recomshop : 3 }    { margintop9pxwraptv : 1 }    { layerie6 : 6 }    { labsecurity : 2 }    { 언니라고 : 1 }    { margintop9pxlineheight19pxcolor757474horizontalimg : 1 }    { width235pxpaddingright23pxloginsimple : 1 }    { 30pxtopbnroverflowhiddenwidth653pxborderbottom1px : 1 }    { MU : 1 }    { 뿌듯quot : 1 }    { 가져오기 : 22 }    { backgroundurlhttpicondaumcdnnetwc130219696439712097703png : 1 }    { 126pxblogon : 1 }    { 1020pxsuggestBox : 1 }    { 유희관 : 1 }    { contimport : 1 }    { fontsize11pxcolor2156c0letterspacing1pxcontshop : 1 }    { height375pxsectionmedia : 1 }    { 11pxfontsize14pxlineheight17pxwhitespacenowraptextoverflowellipsispromotionimg : 1 }    { icow07backgroundposition0 : 1 }    { displayblockheight40pxmargintop7pxpaddingleft17pxbackgroundposition1px : 1 }    { positionabsoluteright4pxbottom3pxwidth13pxheight13pxborder0 : 1 }    { floatleftheight23pxpadding10px : 2 }    { linkimg : 2 }    { headevent : 2 }    { 숨막히는 : 1 }    { 연탄재로 : 1 }    { 더보기 : 1 }    { fontweightnormalsectionmulti : 1 }    { 금리 : 1 }    { 0textindent9999pxsectionmedia : 1 }    { icoreader : 1 }    { width46pxbackgroundposition40px : 1 }    { width16pxheight15pxlineheight18pxbackgroundposition70px : 1 }    { 0dsch : 2 }    { fontsize14pxcolor000textdecorationnonesuggestBox : 1 }    { width28pxbackgroundposition145px : 1 }    { textdecorationunderlinecontshop : 1 }    { btnrecord : 1 }    { ddaycontdisplayinlineblockoverflowhiddenwrapelection2016 : 1 }    { 유부남들 : 1 }    { 사용해 : 1 }    { 아고라 : 2 }    { 0backgroundcolortransparenttodaylink : 1 }    { displayblockoverflowhiddenwidth78pxheight16pxmargintop8pxfontweightboldlineheight17pxcolorfffletterspacing1pxparttoday : 1 }    { width167pxheight143pxpadding16px : 1 }    { displaytablecellpositionabsoluteleft0top0width100height100sectionmedia : 1 }    { height110pxmargin0sectionmulti : 1 }    { 9℃ : 3 }    { backgroundposition541px : 2 }    { 91할인받자 : 1 }    { gulim굴림sansserifcolor000suggestBox : 3 }    { 1226pxletterspacing1pxlayerservice : 1 }    { backgroundcolortransparentaddresscaptioncitecodedfnemvar : 1 }    { paddingleft41pxbackgroundposition0 : 5 }    { 95pxboxuser : 1 }    { titevent : 1 }    { height52pxwrapfavor : 1 }    { 파격2만원대 : 1 }    { backgroundposition85px : 1 }    { positionabsolutetop45pxleft0width184pxheight220pxpaddingbottom5pxbackgroundcolorfffparttoday : 1 }    { 14pxlineheight15pxcolor477ae4letterspacing1pxverticalreader : 1 }    { titwebtoon : 4 }    { icogivehover : 1 }    { icow01backgroundposition0 : 2 }    { displayblockoverflowhiddenpadding25px : 1 }    { readersinfo : 4 }    { 1pxconttrendshop : 1 }    { left460pxcontstory : 1 }    { PC에서만 : 1 }    { numrate0width12pxbackgroundposition24px : 1 }    { noticestart : 2 }    { width75pxbackgroundposition546px : 1 }    { color222contstory : 1 }    { wrapnews : 1 }    { 45pxpartevent : 4 }    { findpw : 1 }    { 약관 : 1 }    { paddingleft44pxbackgroundposition0 : 1 }    { wrapmysvc : 1 }    { displayinlineblockheight125pxverticalaligntoparticledaum : 1 }    { btnclose : 7 }    { color6f6f6fsectionmulti : 1 }    { numdday4backgroundposition0 : 1 }    { 책 : 2 }    { cad0d9verticalaligntoplistmysvc : 1 }    { emphtxt : 1 }    { 126pxhopeon : 1 }    { 대규모 : 1 }    { 짜글이 : 1 }    { 0colorfffheadlinespe : 1 }    { 66pxmizneton : 1 }    { listmyset : 1 }    { letterspacing1pxpagetype2 : 2 }    { displayblockmargin6px : 1 }    { txtred2 : 1 }    { width111pxheight66pxdaumContent : 1 }    { color333stocktoday : 1 }    { icophoto : 6 }    { ratecontmargintop0wrapelection2016 : 1 }    { 105px : 1 }    { backgroundposition150px : 3 }    { linkheadbnr : 1 }    { 검사장 : 1 }    { margintop2pxpartspecial : 1 }    { 220pxparttoday : 1 }    { 12px18px : 1 }    { 쇼핑홈 : 1 }    { 4pxcolor444topservice : 1 }    { 콤마카페 : 1 }    { uarr : 14 }    { 반대 : 1 }    { 울릉독도 : 1 }    { 8px : 6 }    { num10 : 1 }    { wrapnews5tab : 1 }    { 11pxfontsize12pxlineheight17pxtilesstory : 1 }    { frameg : 22 }    { itemlivefloatrightmargintop8pxwrapelection2016 : 1 }    { newslink : 1 }    { 구출작전 : 1 }    { tittvpot : 4 }    { 조사 : 1 }    { width123pxnoticedaum : 1 }    { margintop3pxtilesstory : 1 }    { 쇼핑도움 : 1 }    { icodaum : 3 }    { span : 1 }    { fontfamily돋움dotumhelveticasansserifcolor557df6loginmy : 1 }    { floatleftlistinventory : 1 }    { quot英 : 1 }    { width70pxheight101pxmargin7px : 1 }    { 1275pxloginmy : 1 }    { 전상품 : 1 }    { 상위 : 1 }    { displayblockmargintop4pxfontsize11pxcolor959595letterspacing1pxwrapfavor : 1 }    { txtvs : 1 }    { 증폭검 : 1 }    { overflowhiddenfloatleftmargintop1pxfontsize10pxlineheight12pxcolor81838cwhitespacenowrapparttoday : 1 }    { floatrightpositionstaticheight17pxpaddingleft12pxbackgroundcolorfffcontshop : 1 }    { overflowhiddenpositionrelativewidth181pxheight120pxmargintop14pxpartspecial : 1 }    { 포토 : 1 }    { line : 2 }    { linkbasis : 2 }    { displayblockoverflowhiddenwidth278pxheight80pxmargintop8pxcontshopbest : 1 }    { padding12px : 2 }    { fontsize20pxlineheight23pxheadlinespe : 1 }    { zindex1backgroundcolor4e82eebackgroundposition60px : 1 }    { margintop9pxlistimgtxt : 1 }    { numdday2backgroundposition0 : 1 }    { 겨울 : 1 }    { bigimg : 6 }    { d8d9dbborderbottom1px : 1 }    { displayblockwidth13pxheight25pxfontsize0lineheight0textindent9999pxconttrendshop : 1 }    { floatrightmargin25px : 1 }    { 0fontsize11pxlineheight14pxcolor5b6473letterspacing1pxloginmy : 1 }    { 251pxparttoday : 1 }    { displayblockstoryfundingon : 1 }    { numelection2016width11pxheight16pxwrapelection2016 : 1 }    { 0listinventory : 1 }    { 오늘 : 1 }    { shortcutg : 2 }    { marginright6pxwidth15pxbackgroundposition425px : 1 }    { 방금그곡 : 1 }    { TV : 2 }    { 119 : 2 }    { 126pxbrunchon : 1 }    { fontweightnormalpagedaum : 1 }    { 집결하라 : 1 }    { 1pxsuggestBox : 2 }    { positionrelativezindex10width279pxmysvclist : 1 }    { positionabsolutebottom0left0width515pxheight31pxbackgroundcolorf4f5f7layerservice : 1 }    { 0lineheight15pxverticalalignmiddletextalignleftsectionmedia : 1 }    { 탄생 : 1 }    { 대한 : 1 }    { 상승 : 14 }    { displayblockheight100suggestBox : 1 }    { nonezindex1loginset : 1 }    { 246pxsuggestBox : 1 }    { msgerror : 1 }    { top0left0width54pxheight41pxbackgroundposition0 : 2 }    { 점수 : 1 }    { labagain : 1 }    { 수요미식회 : 2 }    { displayblockmargintop1pxfontsize11pxcolor737373letterspacing1pxlayerservice : 1 }    { 0border2px : 1 }    { tit5 : 1 }    { tit4 : 1 }    { icolotto : 1 }    { tit1 : 1 }    { tit3 : 1 }    { tit2 : 1 }    { 아니라니까 : 1 }    { numrate2backgroundposition25px : 1 }    { color848585footdaum : 1 }    { 110pxtextalignrightletterspacing0wrapbook : 1 }    { 이슈 : 2 }    { urlhttpi1daumcdnnetdecocomicstopdeco2014v2bgdaumv9pngv1683 : 1 }    { color36a0e4suggestBox : 1 }    { KBO리그 : 1 }    { tv팟 : 3 }    { w40 : 2 }    { bottom16pxleft209pxhorizontalimg : 1 }    { titlife : 4 }    { overflowhiddenwidth100padding10px : 1 }    { 거대한 : 2 }    { 기념 : 1 }    { 느낌 : 1 }    { 리콜 : 1 }    { height24pxmargintop1pxlogininp : 1 }    { overflowhiddenfloatleftpositionrelativewidth52pxheight53pxlayerservice : 1 }    { colord40400suggestBox : 1 }    { bottom15pxleft208pxhorizontalimg : 1 }    { w41 : 2 }    { positionabsolutetop0left0width36pxheight20pxbackgroundposition80px : 1 }    { defaulttxt : 5 }    { floatleftmargintop7pxpaddingright2pxcolor3a5fb9letterspacing1pxsectionmedia : 1 }    { left224pxsectionmedia : 1 }    { backgroundposition2px : 2 }    { top61pxheight26pxlineheight28pxlogininp : 1 }    { fontweightboldcolorfffshop3on : 1 }    { colord5d4d8logininp : 1 }    { 3f78dffontsize12pxlineheight17pxfontfamily굴림gulimsansserifbackgroundcolorfffsuggestBox : 1 }    { overflowhiddenpositionrelativeheight17pxmargintop5pxlineheight17pxfontfamily굴림gulimsansserifparttoday : 1 }    { left1pxtop1pxpadding0 : 1 }    { 고객센터 : 1 }    { margintop10pxlineheight19pxcolor7c7c7cheadlineimg : 1 }    { displayblockpositionrelativeheight100pxsectionmedia : 1 }    { DOTAX : 1 }    { iconewarr : 1 }    { iconewright11pxlistmysvc : 1 }    { 16pxfootdaum : 1 }    { 0textalignrightletterspacing0sectionmulti : 1 }    { eeeef0partevent : 1 }    { paddingleft47pxbackgroundposition0 : 3 }    { todayopen : 1 }    { textaligncenterpartspecial : 1 }    { width70pxheight14pxlineheight14pxbackgroundcolortransparentbackgroundposition10px : 1 }    { positionrelativedisplayblockheight100pxborder1px : 1 }    { contseat : 8 }    { cursorpointersuggestBox : 1 }    { Kakao : 1 }    { 내아카 : 1 }    { 360pxsuggestBox : 1 }    { infotemper : 15 }    { backgroundposition13px : 41 }    { btnnext : 5 }    { numbasis : 1 }    { 13pxlineheight15pxwhitespacenowraptextoverflowellipsisheadlinespe : 1 }    { mysetbtn : 1 }    { 당겨 : 1 }    { 220pxfootdaum : 1 }    { 126pxcafeon : 1 }    { 이혼당할 : 1 }    { wrapcont : 1 }    { 전 : 23 }    { 1100pxparttoday : 1 }    { repeatxletterspacing1pxclearbothsuggestBoxreverseType : 1 }    { 전일대비 : 2 }    { width98pxheight50pxcontshopbest : 1 }    { 25pxwrapelection2016 : 3 }    { displayblockcolor959595tilesstory : 1 }    { floatleftwidth201pxwrapsub : 1 }    { positionrelativeparttoday : 1 }    { positionabsolutetop0left0border1px : 1 }    { 너무따뜻해 : 1 }    { tistoryg : 1 }    { linkkakao : 1 }    { wrapfavor : 2 }    { typepso : 2 }    { floatlefttopservice : 2 }    { 0textaligncenterwrapelection2016 : 2 }    { wraptoday : 3 }    { 인형 : 1 }    { arialcolor000suggestBox : 1 }    { 24pxlogininp : 1 }    { 33 : 2 }    { 75pxwrapelection2016 : 3 }    { 420pxlayermycont : 1 }    { 20pxfontsize0verticalreader : 1 }    { 688687 : 1 }    { txtmysvcdisplayinlineblockpadding1px : 1 }    { contlive2padding0 : 1 }    { innershortcut : 1 }    { repeatx : 2 }    { overflowhiddenpositionabsoluteleft0fontsize12pxbackgroundposition20px : 1 }    { wrapsports : 1 }    { innertxt : 1 }    { bgframe : 1 }    { paddingleft51pxbackgroundurlhttpi1searchdaumcdnnetssearchall2014icoicoweathersize3gif : 1 }    { 8pxcontshop : 1 }    { quot검열에 : 1 }    { marginright4pxfontbold : 1 }    { descstory : 8 }    { 135pxlistfavorsch : 1 }    { colorf73a40suggestBox : 1 }    { 퀄리티좋아 : 1 }    { num20 : 1 }    { overflowhiddenconttrendshop : 1 }    { 227pxcolored5c5eparttoday : 1 }    { linkupgrade : 1 }    { displayblockoverflowhiddenheight30pxmargin1pxfontweightnormalfontsize12pxlineheight33pxfontfamily굴림gulimsansseriftextaligncentertextdecorationnonecolor000letterspacing1pxcontshop : 1 }    { suggestexacthover : 1 }    { 1129pxtopservice : 1 }    { 논란 : 1 }    { wrapgame : 2 }    { 입니다 : 22 }    { 집게핀 : 2 }    { 0colorfffletterspacing1pxtextdecorationnonecursorpointerplateg : 1 }    { width15pxbackgroundposition86px : 1 }    { 1320pxparttoday : 3 }    { 10즉시할인 : 1 }    { norepeattextindent9999pxverticalaligntopnumelection2016displayinlineblockoverflowhiddenfontsize0lineheight0backgroundurlhttpi1daumcdnnetdecocomicstopdeco2014v2electionnumelection2016gif : 1 }    { overflowhiddenwidth278pxpaddingtop31pxshop1on : 1 }    { displayblockheight54pxpaddingtop7pxcontshop : 1 }    { width188pxheight283pxheadlineimg : 1 }    { 26pxcolor5f6876verticalaligntoplistmysvc : 1 }    { 검색등록 : 1 }    { borderbottom1px : 1 }    { 1248pxverticalaligntopbtndaum : 1 }    { 550pxparttoday : 1 }    { 6pxenteron : 1 }    { txtddayfloatleftwidth18pxheight16pxbackgroundposition0 : 1 }    { displaynonepositionabsoluteright0pxbottom19pxwidth211pxheight27pxbackgroundurlhttpi1searchdaumcdnnetssearchall2009imagesuggestservicegif : 1 }    { displayblockoverflowhiddenwidth278pxheight120pxfootdaum : 1 }    { 1260pxsuggestBox : 1 }    { bnrtype3 : 1 }    { e1e1e1backgroundcolorfbfbfbverticalsong : 1 }    { mymileage : 1 }    { 5pxbackgroundposition0 : 1 }    { top0right18pxlayerservice : 1 }    { 11pxfontsize12pxlineheight17pxverticalimg : 1 }    { listrecomsvc : 4 }    { relshop : 7 }    { displayinlineblockwidth938pxheight67pxborderright1px : 1 }    { left69pxcontstory : 1 }    { fromfff : 1 }    { 증권 : 3 }    { offGuide : 1 }    { floatleftwidth85pxpaddingleft16pxlineheight16pxlayerservice : 1 }    { padding3px : 1 }    { left335pxcontstory : 1 }    { textdecorationnonelistmysvc : 1 }    { 절대 : 1 }    { 0irwa : 1 }    { linkstock : 1 }    { overflowhiddenlistthumb : 1 }    { 유머나라 : 1 }    { marginright7pxlistinventory : 1 }    { 1200pxsuggestBox : 1 }    { linkmobile : 1 }    { emphlabel : 1 }    { 431pxparttoday : 1 }    { 619pxfootdaum : 1 }    { displayblockbestlikeon : 1 }    { linkmysvc : 2 }    { 230pxlayerservice : 3 }    { 8pxlineheight15pxcolorfc6870letterspacing1pxverticalsong : 1 }    { positionrelativetop0left0zindex99wraptierfixcont : 1 }    { 공지사항 : 1 }    { 개인 : 1 }    { positionrelativeheight20pxpadding6px : 1 }    { displayblockoverflowhiddenheight13pxmarginbottom2pxfontweightboldfontsize11pxlineheight13pxcolor477ae4whitespacenowraptextoverflowellipsislistinventory : 1 }    { degreeg : 1 }    { overflowhiddenwidth608pxheadlineimg : 1 }    { descthumbhover : 1 }    { linknum : 1 }    { 277pxcolor2c74e0parttoday : 1 }    { li : 33 }    { paddingtop25pxsectionmedia : 2 }    { color2156c0sectionmulti : 1 }    { 목포 : 1 }    { 2016 : 1 }    { positionrelativewidth940pxzindex100contsub : 1 }    { 150pxsuggestBox : 1 }    { floatleftwidth176pxheight143pxpadding16px : 1 }    { auto : 5 }    { 9pxlineheight15pxcontshopbest : 1 }    { left53pxsectionmedia : 1 }    { numdday9backgroundposition0 : 1 }    { 0letterspacing1pxcursorpointerpartevent : 1 }    { 46475bclearbothwrapmain : 1 }    { 507pxpartspecial : 1 }    { color61646econtshop : 1 }    { boxsearch : 1 }    { noneheadlinespe : 1 }    { e8e8e8lineheight20pxbackgroundcolorfbfbfbdefaulttxt : 1 }    { inpprotect : 1 }    { contliveoverflowhiddenheight40pxborderbottom1px : 1 }    { 10px : 13 }    { 15pxverticalaligntoptextindent9999pxpartevent : 1 }    { 14px16px : 1 }    { displayinlineblockwidth627pxpaddingright1pxverticalaligntoptilesstory : 1 }    { 150pxparttoday : 1 }    { icovs : 1 }    { 독일 : 1 }    { left1pxwidth61pxbackgroundposition0 : 1 }    { 709 : 1 }    { w19 : 2 }    { w18 : 2 }    { 3pxbackgroundposition0 : 1 }    { w16 : 2 }    { w15 : 2 }    { w14 : 2 }    { w13 : 2 }    { 301pxcolore73923stocktoday : 1 }    { w11 : 2 }    { 9pxheight21pxlineheight21pxsuggestBox : 1 }    { 8pxlineheight15pxbackgroundurlhttpi1daumcdnnetdecocomicstopdeco2014v2imgdaumvertv9pngv1664 : 1 }    { 165pxcontfeature : 1 }    { FUN : 1 }    { stockguisortablehelper : 1 }    { floatleftmargin1px : 1 }    { width156pxheight20pxpadding8px : 1 }    { width278pxheight33pxbordertop1px : 1 }    { floatleftwidth655pxmarginright5pxbordertop1px : 1 }    { quot승마경기장 : 1 }    { dee1e6topservice : 1 }    { width111pxheight66pxlistimgtxt : 1 }    { 양고기 : 2 }    { floatleftmarginright16pxlineheight15pxtodaylink : 1 }    { width250pxheight220pxmarginright24pxsectionmulti : 1 }    { left179pxsectionmedia : 1 }    { floatleftwidth13pxheight13pxmarginright3pxnoticedaum : 1 }    { linkempathy : 1 }    { 10pxfontweightboldfontsize12pxcolor0d3679letterspacing1pxtextaligncenterwhitespacenowraptextoverflowellipsistopbnr : 1 }    { 주문할 : 1 }    { numreader : 1 }    { floatleftwidth100margintop8pxlineheight19pxcolor757474clearbothwraptip : 1 }    { 번째 : 1 }    { 12pxfontweightnormallineheight12pxbackgroundposition370px : 1 }    { overflowhiddenfloatleftheight19pxpaddingright5pxlineheight20pxbackgroundposition100 : 1 }    { 45px : 1 }    { marginbottom5pxlistimg : 1 }    { width181pxbackgroundposition166px : 1 }    { backgroundnonefootdaum : 1 }    { backgroundposition285px : 4 }    { icow00backgroundposition0 : 1 }    { repeaty : 1 }    { top1pxwidth55pxheight32pxbackgroundf9f9f9 : 1 }    { txtinfomarginright9pxwrapelection2016 : 1 }    { titshop1 : 3 }    { 이 : 2 }    { ecececpromotionimg : 1 }    { 379pxboxuser : 1 }    { 헤어 : 1 }    { width13pxmargin6px : 1 }    { icoprev : 2 }    { 치킨 : 1 }    { 내용을 : 22 }    { 은폐 : 1 }    { 4pxfontsize11pxlineheight14pxtextalignleftwhitespacenowraptextoverflowellipsissectionmulti : 1 }    { displayinlinewidth236pxheight52pxmargin25px : 1 }    { linkfind : 2 }    { titdaumspe : 1 }    { 215pxmystockon : 1 }    { overflowhiddenwidth181pxmargintop16pxletterspacing1pxpartspecial : 1 }    { 5pxboxuser : 1 }    { loadingmy : 1 }    { numtime4backgroundposition50px : 1 }    { positionabsolutetop5pxright9pxwidth21pxheight21pxbackgroundposition175px : 1 }    { ratecontmargintop0sectionmedia : 1 }    { 지식공간 : 1 }    { 첫 : 1 }    { b8bbbfborderbottom0 : 1 }    { floatleftwidth15pxheight18pxbackgroundposition0 : 1 }    { listmenuoverflowhiddenmargintop8pxwrapelection2016 : 1 }    { 0backgroundposition485px : 1 }    { contentcontentnoneinputselecttextareabutton : 1 }    { mykeyword : 1 }    { backgroundposition320px : 1 }    { 55pxtextindent9999pxcursorpointericolabel : 1 }    { overflowhiddenwidth376pxheight35pxpadding20px : 1 }    { width30pxloginmy : 1 }    { 1320pxsuggestBox : 1 }    { linktrend : 1 }    { titmiznet : 4 }    { 정당한 : 1 }    { num30 : 1 }    { 797pxsuggestBox : 1 }    { 5pxlistinventory : 1 }    { servicetop : 4 }    { 만든 : 1 }    { 하락 : 2 }    { left110pxcontstory : 1 }    { left170pxbackgroundposition171px : 1 }    { displayblockwidth280pxmargin0 : 1 }    { 핼러윈 : 1 }    { 7pxborder1px : 1 }    { 트렌드샵 : 1 }    { wrapedu : 2 }    { 55pxverticalreader : 4 }    { 필요성 : 1 }    { 사전 : 2 }    { 확인하시려면 : 22 }    { colore73923stocktoday : 1 }    { linktit : 56 }    { setagain : 1 }    { 모르지만 : 1 }    { ㅅㅇ : 1 }    { 기획전홈 : 1 }    { e5e5e5suggestBox : 1 }    { 중인 : 1 }    { 공개 : 1 }    { rgba000006mobileweblink : 1 }    { 공감 : 1 }    { icow05backgroundposition0 : 2 }    { fontsize11pxcolor555lineheight15pxletterspacing1pxwraptv : 1 }    { 스페셜 : 3 }    { positionabsolutetop18pxright11pxpaddingright7pxfontsize11pxlineheight14pxbackgroundposition100 : 2 }    { lifloatleftmarginleft13pxwrapelection2016 : 1 }    { overflowhiddenpositionabsolutetop22pxright20pxwidth110pxheight15pxfontsize15pxlineheight16pxtextalignrighttextindent93pxbackgroundcolortransparentbackgroundposition95px : 1 }    { numelection2016floatleftwidth11pxheight16pxwrapelection2016 : 1 }    { height45pxpaddingtop10pxwrapstoryfunding : 1 }    { wraprealestate : 1 }    { 0backgroundurlhttpi1daumcdnnetdecocomicstopdeco2014v2bgdaumv9pngv1683 : 1 }    { 없어 : 1 }    { 롯데i몰 : 1 }    { icogive : 3 }    { 4위 : 2 }    { 95pxconttrendshop : 1 }    { d2dbe8letterspacing1pxtopbnr : 1 }    { top139pxheight40pxpaddingtop6pxpartspecial : 1 }    { 보고서 : 1 }    { overflowhiddenwidth188pxpaddingtop15pxbordertop1px : 1 }    { width100pxheight52pxcontshopbest : 1 }    { 50 : 1 }    { 0directionltrbodyh1h2h3h4thtdinputselecttextareabutton : 1 }    { floatleftwidth68pxheight25pxbackgroundposition50px : 1 }    { ㅁㅂ : 1 }    { weathertoday : 1 }    { 675pxcolor7a7c83letterspacing1pxissuetypeimg : 1 }    { contvs : 2 }    { bottom20pxleft155pxfunon : 1 }    { displayblockoverflowhiddenheight30pxpaddingtop14pxlineheight15pxtextaligncentercolor5b6473listmysvc : 1 }    { 30px : 2 }    { 5℃ : 1 }    { overflowhiddenfloatleftwidth130pxheight70pxlineheight14pxverticalsong : 1 }    { backgroundcolorf8f8f8textdecorationnonesuggestBox : 1 }    { stockup : 2 }    { width31pxbackgroundposition32px : 1 }    { 위엄 : 1 }    { positionabsolutetop9pxright43pxpaddingleft7pxlineheight15pxbackgroundposition0 : 1 }    { 5px : 7 }    { labpw : 1 }    { ratecontoverflowhiddenwidth42pxmargin8px : 1 }    { floatleftwidth163pxheight25pxpaddingleft9pxborder1px : 1 }    { overflowhiddenwidth278pxheight32pxlineheight35pxbordertop1px : 1 }    { 290pxparttoday : 20 }    { iconewright5pxmycafeon : 1 }    { icohot : 2 }    { floatnonemargin0padding0 : 1 }    { 20pxwrapelection2016 : 1 }    { innerevent : 1 }    { 0lineheight12pxcontshop : 1 }    { color196adbstocktoday : 1 }    { 서울 : 1 }    { overflowhiddenwidth515pxbordertop1px : 1 }    { 650pxsuggestBox : 1 }    { padding15px : 1 }    { bnrtype2width58pxheight27pxpadding12px : 1 }    { floatleftmaxwidth117pxwidth117pxmargintop5pxfontsize14pxwraptip : 1 }    { bottom7pxhorizontalimg : 1 }    { displayblocklifeon : 1 }    { noneheadlineimg : 1 }    { infocont : 4 }    { floatleftwidth228pxheight159pxbordertop1px : 1 }    { 환율 : 1 }    { listpolicy : 6 }    { btnvdorelay : 1 }    { overflowhiddentop0textdecorationnonedindex : 1 }    { wrapmy : 1 }    { width64pxbackgroundposition340px : 1 }    { 전체 : 1 }    { 종중재산 : 1 }    { displayblockfwb : 1 }    { 30pxparttoday : 1 }    { icosteadybackgroundposition0 : 1 }    { 17pxborder1px : 1 }    { 45pxdsch : 1 }    { 경기영상 : 1 }    { positionrelativezindex0width181pxheight118pxmargin15px : 1 }    { 39부패 : 1 }    { 전국집값 : 1 }    { wrapmovie : 1 }    { displayblockrealestateon : 1 }    { txtexchange : 1 }    { overflowhiddenwidth427pxlistimg : 1 }    { 190pxcontfeature : 1 }    { 새로운 : 1 }    { 310pxparttoday : 1 }    { floatleftpositionrelativewidth446pxmargintop28pxdsch : 1 }    { txtweather : 2 }    { 판단 : 1 }    { w04 : 2 }    { w05 : 2 }    { w06 : 2 }    { w07 : 2 }    { w01 : 2 }    { w02 : 2 }    { w03 : 2 }    { utiltop : 3 }    { contbnrdisplayblockwrapelection2016 : 1 }    { floatleftnoticedaum : 1 }    { 397ce0fontsize11pxlineheight20pxbackgroundcolor3f8af9textalignleftcolorfffletterspacing1pxtextdecorationnonecursorpointerwrapmain : 1 }    { 브런치 : 3 }    { 4pxcolor444verticalaligntoptopservice : 1 }    { 126pxtipon : 1 }    { width940pxmargin0 : 1 }    { 음식들은 : 1 }    { floatleftheadlineimg : 1 }    { left212pxsectionmulti : 1 }    { margintop5pxlineheight15pxverticalsong : 1 }    { titappimport : 1 }    { wrapthesong : 1 }    { 9pxbackgroundurlhttpi1daumcdnnetdecocomicstopdeco2014v2imgdaumvertv9pngv1664 : 1 }    { 15pxlineheight13pxwhitespacenowrapcontshopbest : 1 }    { cacbcewrapmain : 1 }    { numdday8backgroundposition0 : 1 }    { 이상의 : 1 }    { 15pxcontshop : 1 }    { 126pxbookon : 1 }    { margintop9pxpartspecial : 1 }    { 방법 : 1 }    { icow03backgroundposition0 : 2 }    { 오픈 : 1 }    { lt : 4 }    { overflowhiddenfloatleftheight40pxmargintop0backgroundposition0 : 1 }    { 설정 : 3 }    { width80pxheight14pxlineheight14pxbackgroundcolortransparentbackgroundposition185px : 1 }    { 215pxlistmysvc : 1 }    { 청원39 : 1 }    { overflowhiddenfloatleftwidth71pxmargintop4pxwhitespacenowraptextoverflowellipsisverticalreader : 1 }    { eeeef0backgroundcolorf7f7f7issuetypetxt : 1 }    { 6pxlifeon : 1 }    { backgroundposition0 : 53 }    { 96pxbackgroundurlhttpi1daumcdnnetdecocomicstopdeco2014v2electionbgelection2016top2gif : 1 }    { paddingleft53pxbackgroundposition0 : 1 }    { 청주 : 1 }    { fontweightboldsectionmulti : 2 }    { bottom97pxwraptip : 1 }    { 10pxbackgroundposition100 : 1 }    { iconormal : 1 }    { color222wrapmain : 1 }    { 1pxwrapsports : 1 }    { 고양이 : 1 }    { layoutverticalt4 : 9 }    { 125pxwrapelection2016 : 3 }    { 로드뷰 : 1 }    { splitg : 1 }    { displayinlineverticalaligntoplayerservice : 1 }    { 455px : 1 }    { 이용약관 : 1 }    { color24adc0continventory : 1 }    { 포니테일 : 1 }    { width224pxcontshopbest : 1 }    { 250pxsectionmulti : 1 }    { zindex1backgroundcolor4e82eebackgroundposition225px : 1 }    { 클릭상품 : 1 }    { width42pxbackgroundposition90px : 2 }    { icobnrfloatleftfontsize0lineheight0backgroundnorepeat : 1 }    { 서비스 : 7 }    { autoheaddaum : 1 }    { overflowvisibleoverflowxhiddenwidth399pxheight160pxhorizontalimg : 1 }    { 110pxcontshopbest : 1 }    { num40 : 1 }    { displayblockoverflowhiddenheight17pxmarginbottom7pxfontsize14pxlineheight17pxcolor262626whitespacenowraptextoverflowellipsislistinventory : 1 }    { overflowhiddenpositionabsolutetop171pxheight30pxfontsize11pxletterspacing1pxtextaligncentertextindent9999pxlayermycont : 1 }    { 447pxparttoday : 1 }    { 쇼핑왕 : 2 }    { 844pxsuggestBox : 1 }    { 바로 : 22 }    { a5a6accolor000suggestBoxreverseType : 1 }    { displayblockoverflowhiddenpositionrelativetilesstory : 1 }    { 펼치기 : 1 }    { 전체를 : 1 }    { 100pxwrapelection2016 : 3 }    { linkkids : 1 }    { linkcontvisited : 2 }    { quot눈치 : 1 }    { 수원 : 1 }    { overflowhiddenwidth201pxmargintop19pxtodaylink : 1 }    { textdecorationnonesuggestBox : 2 }    { floatleftpadding4px : 1 }    { stockdown : 2 }    { displayinlineblockheight14pxmargin19px : 1 }    { 동영상 : 1 }    { backgroundposition90px : 8 }    { loadingon : 1 }    { 웹접근성안내 : 1 }    { floatleftwidth90pxfontsize11pxlineheight14pxletterspacing1pxtextaligncentercontshopbest : 1 }    { 345pxshop2on : 1 }    { displaynonebutton : 1 }    { 3pxlineheight55pxbackgroundcolortransparentbackgroundposition0 : 1 }    { tittv : 4 }    { 440pxparttoday : 1 }    { ageguisortablehelper : 1 }    { 39연극의 : 1 }    { overflowhiddenpositionrelativewidth200pxparttoday : 1 }    { linkapp : 1 }    { overflowhiddenfloatleftwidth100pxheight22pxpadding4px : 1 }    { icotag : 3 }    { overflowhiddenwidth278pxcontshopbest : 1 }    { dotum돋움sansserifcolora1a1a1suggestBox : 1 }    { width10pxmargintop1pxbackgroundposition218px : 1 }    { 247pxfavoron : 1 }    { bnrtype1width58pxheight27pxpadding12px : 1 }    { layermycont : 1 }    { 55pxtilesstory : 1 }    { linkitemdisplayinlineblockfontweightboldfontsize12pxlineheight24pxcolorfffwrapelection2016 : 1 }    { overflowhiddenheight1pxmargin7px : 1 }    { color5778ffcontshop : 1 }    { color2156c0wraptv : 1 }    { 31pxborder1px : 1 }    { 12℃ : 1 }    { displayinlinepaddingleft18pxbackgroundposition9px : 1 }    { colorde207bcontstory : 1 }    { 11px : 2 }    { positionrelativesectionmulti : 1 }    { width940pxmargin4px : 1 }    { iconationbackgroundposition50px : 1 }    { 95pxcontshop : 1 }    { bottom21pxright295pxcontstory : 1 }    { linkprogram : 1 }    { 카발 : 1 }    { 770pxparttoday : 1 }    { 링크모음 : 3 }    { 4pxborder1px : 1 }    { 195pxtextindent160pxpartevent : 1 }    { floatleftwidth230pxmarginright17pxlayerservice : 1 }    { 840pxlistmysvc : 1 }    { wrapentertain : 1 }    { displayblockwordbreakkeepallwrapentertain : 1 }    { width188pxheight159pxhorizontalimg : 1 }    { width54pxbackgroundposition492px : 1 }    { titcont : 2 }    { fontweightboldtxtnum : 1 }    { 10위 : 2 }    { 링크를 : 22 }    { nonemystockon : 1 }    { 379pxcolor5f6876loginset : 1 }    { displayblockpadding8px : 1 }    { 왜인지는 : 1 }    { fontweightboldcolorfffcontshop : 1 }    { 같이가치 : 3 }    { titbrandspe : 1 }    { eeeef0backgroundcolorfbfbfbsectionmedia : 1 }    { txtbardisplayinlineblockmargin0 : 1 }    { displayinlinefontsize11pxlineheight13pxcolorec0000partevent : 1 }    { color005ddesuggestBox : 1 }    { btnsearchhover : 1 }    { 금융 : 1 }    { floatleftmarginright2pxsectionmedia : 1 }    { width248pxheight176pxsectionmulti : 1 }    { color555sectionmulti : 2 }    { backgroundposition477px : 2 }    { txtinfo : 2 }    { displayblockwidth66pxheight18pxbackgroundcolortransparentbackgroundposition69px : 1 }    { 285pxlayermycont : 1 }    { 진법 : 1 }    { positionrelativeheight19pxpadding4px : 1 }    { displayinlinecolorfffheadlinespe : 1 }    { fontweightnormalparttoday : 1 }    { positionrelativewidth200pxheight245pxpadding24px : 1 }    { icosuggestpaddingleft51pxbackgroundurlhttpsearch1daumcdnnetsearchstaticscommonpiicoweatherm160616gif : 1 }    { eeeef0layerservice : 1 }    { linkelectionfloatleftpaddingtop9pxmarginright14pxwrapelection2016 : 1 }    { floatnoneverticalreader : 1 }    { 15pxtextindent9999pxloginmy : 1 }    { overflowhiddenparttoday : 1 }    { positionabsolutebottom2pxleft0width13pxheight13pxloginset : 1 }    { 김흥국 : 2 }    { 1210pxparttoday : 4 }    { 25pxpartevent : 5 }    { 40pxtextindent999emsuggestBox : 1 }    { numrate3backgroundposition25px : 1 }    { paddingleft11pxbackgroundposition0 : 2 }    { 가을데일리백 : 1 }    { 900pxsuggestBox : 1 }    { 0backgroundposition100 : 1 }    { w17 : 2 }    { width620pxheight161pxheadlineimg : 1 }    { 1043718 : 1 }    { 소장가치500 : 1 }    { titinfodisplayinlineblockmarginright11pxfontsize12pxcolorfff000wrapelection2016 : 1 }    { overflowhiddenfloatleftwidth282pxheight112pxtextaligncenterlinkdaum : 1 }    { linkmysvchover : 1 }    { 빵빵한롱패딩 : 1 }    { positionabsolutetop0left0zindex1width14pxheight13pxtextindent9999pxcursorpointercontshopbest : 1 }    { w12 : 2 }    { infothesong : 3 }    { icow06backgroundposition0 : 2 }    { contcopy : 6 }    { w10 : 2 }    { backgroundurlhttpi1daumcdnnetdecotop2012startcafenone20121023png : 1 }    { 그 : 2 }    { displayblockshop5on : 1 }    { b8bbbfbordertop0 : 1 }    { w31 : 2 }    { w30 : 2 }    { w33 : 2 }    { w32 : 2 }    { w35 : 2 }    { w34 : 2 }    { w37 : 2 }    { w36 : 2 }    { w39 : 2 }    { w38 : 2 }    { color000infopage : 1 }    { numdday3backgroundposition0 : 1 }    { 0letterspacing1pxwhitespacenowrapimgdaum : 1 }    { btnreset : 1 }    { 최서윤 : 2 }    { marginbottom : 1 }    { tittabcont : 6 }    { G마켓 : 1 }    { width34pxbackgroundposition90px : 1 }    { 780pxsuggestBox : 1 }    { margintop14pxcontshopbest : 1 }    { whitespacenowrapcontshop : 1 }    { overflowhiddenwidth446pxbackgroundcolortransparentbackgroundposition0 : 1 }    { rank9 : 1 }    { rank8 : 1 }    { 49 : 2 }    { rank3 : 1 }    { rank2 : 1 }    { 720pxsuggestBox : 1 }    { rank7 : 1 }    { rank6 : 1 }    { rank5 : 1 }    { rank4 : 1 }    { 재물운이 : 1 }    { 가계지갑 : 1 }    { 코스튬 : 1 }    { displayblockheight30pxparttoday : 1 }    { marginbottom5pxlistimgtxt : 1 }    { issuenews : 6 }    { floatleftfontsize11pxmargin3px : 1 }    { txttime : 3 }    { width179pxheight95pxpartspecial : 1 }    { linknewapp : 1 }    { recomlink : 1 }    { 반발 : 1 }    { paddingtop5pxsectionmulti : 1 }    { backgroundposition330px : 1 }    { overflowhiddenpositionabsolutetop19pxright20pxwidth54pxheight25pxbackgroundimageurlhttpi1daumcdnnetdecocomicstopdeco2014v2transparentgiftextindent9999pxnoticedaum : 1 }    { 50textindent9999pxwrapelection2016 : 1 }    { eon : 1 }    { icotheme : 1 }    { overflowhiddenwidth272pxheight30pxpadding9px : 1 }    { 내년 : 2 }    { 고퀄리티 : 1 }    { 로그인 : 5 }    { height16pxpaddingtop7pxlineheight16pxlayerservice : 1 }    { blogg : 5 }   \n"
     ]
    }
   ],
   "source": [
    "#-*- coding: utf-8 -*-\n",
    "#  daum 홈페이지\n",
    "import string\n",
    "import urllib2\n",
    "# source 변수에 페이지 소스를 읽어온다.\n",
    "source = urllib2.urlopen(\"http://www.daum.net\").read()\n",
    "# 읽어온 페이지의 줄띄움, 탭, 빈 공간을 모두 없애주고 한줄로 깔끔하게 정리한다.\n",
    "source = source.replace('\\n','')\n",
    "source =  source.replace('\\t','')\n",
    "new=[]\n",
    "dic = dict()\n",
    "\n",
    "while 1:\n",
    "    # <의 위치값\n",
    "    start = source.find('<')\n",
    "    # >의 위치값은 항상 <보다 커야한다. 그래야 html 태그라고 볼 수 있다.\n",
    "    end = source.find('>',start)\n",
    "    \n",
    "    # html 태그가 아닌 순수한 문자열 중에서도 <와 >가 있을 수 있다. 그것을 구분하기 위한 코드이다.\n",
    "    # html 태그라면 <의 위치값이 >의 위치값 보다 항상 낮다. 만약 크다면 순수한 문자열이라고 볼 수 있다.\n",
    "    if (start-end) >= 1 :\n",
    "        continue     \n",
    "    \n",
    "    # html 태그가 맞다면 태그 부분을 빈 공간으로 대체한다.\n",
    "    if ( start != -1) and (end != -1):\n",
    "        source =  source.replace(source[start:end+1],\" \")       \n",
    "    \n",
    "    # html 태그를 모두 찾고 더이상 없으면 반복문을 종료\n",
    "    if ( start == -1) and (end == -1):\n",
    "        break\n",
    "        \n",
    "new = source.split() # 공백으로 단어 분리 해서 new에 리스트로 저장\n",
    "for i,s in enumerate(new):\n",
    "    for k in s:\n",
    "        if k in string.punctuation: # 글자 외의 기호들을 모두 ''로 치환.\n",
    "            s= s.replace(k,'')\n",
    "    else :\n",
    "        new[i] = s\n",
    "a=0\n",
    "while(a <5): # 한번에 다 삭제가 안되서 5번정도 반복문을 돌림...\n",
    "    a=a+1 \n",
    "    for i,n in enumerate(new):\n",
    "        if n == '': # 리스트 안에 '' 요소들은 모두 삭제 \n",
    "            del new[i]\n",
    "\n",
    "for n in new:\n",
    "    dic[n]= new.count(n) # 리스트안의 요소들을 카운트 해서 dic 사전에 저장\n",
    "\n",
    "for key in dic: # 한글인코딩이 진짜 너무 안되서 사전의 내용들을 반복문으로 모두 출력...\n",
    "    print '{',key,':',dic[key],'}   ',\n",
    "\n",
    "\n",
    "\n",
    "\n",
    "\n"
   ]
  },
  {
   "cell_type": "code",
   "execution_count": 23,
   "metadata": {
    "collapsed": false
   },
   "outputs": [
    {
     "name": "stdout",
     "output_type": "stream",
     "text": [
      "{ Cats’ : 1 }    { Lead : 1 }    { 6px : 3 }    { NYT : 1 }    { Heights : 2 }    { Does : 1 }    { “Fantastic : 1 }    { containersetAttributeclasssignedin : 1 }    { Hoover : 1 }    { 31px : 1 }    { pageManagertrackingFireEventQueue : 1 }    { Watch : 3 }    { eorn0un1a0c0if1ulength4294967296u0foreit : 1 }    { Journey : 1 }    { Nytimescom : 1 }    { Cases : 1 }    { worth : 1 }    { updated : 1 }    { Key : 1 }    { void : 1 }    { Co : 1 }    { contentCollection : 1 }    { cnew : 1 }    { Campaign : 1 }    { 9px : 1 }    { abovebannerregion : 6 }    { fontweight : 11 }    { Street’ : 1 }    { Go : 6 }    { Cuisine : 3 }    { street : 1 }    { NYC : 3 }    { functionSubscriber : 1 }    { gcandtoplineestfontsize23pxgmodelpromo : 1 }    { windowlocationsearchmatchrePreviewTime : 1 }    { preferences : 1 }    { Game : 3 }    { new : 5 }    { Presidential : 1 }    { widget : 1 }    { gdbdcatchhconloadfunctionareturn : 1 }    { httpsa1nytcomassetshomepage20161101141811imagesfoundationlogos : 1 }    { wrapping : 1 }    { kicker : 4 }    { 100 : 2 }    { Beginner : 1 }    { employees : 1 }    { 135rem : 1 }    { Unveiled : 1 }    { Home : 4 }    { sansserif : 8 }    { campaign : 1 }    { Privacy : 1 }    { htmlshowAllGeoAb : 5 }    { Behind : 1 }    { Health : 8 }    { Dispute : 1 }    { Wasn’t : 2 }    { acolumn : 2 }    { would : 2 }    { Cholera : 3 }    { Ide’s : 1 }    { emailaddress : 1 }    { type : 1 }    { foundationlegacymain : 1 }    { supporters : 1 }    { homepage20161101141811jsfoundation : 1 }    { Teams : 1 }    { Person : 1 }    { 93 : 1 }    { plunged : 1 }    { avisited : 3 }    { geoipresolver : 1 }    { Datenew : 1 }    { Muhammad : 1 }    { Jurors’ : 1 }    { Colombia : 1 }    { Advertisers : 1 }    { A81817 : 2 }    { route : 1 }    { Standing : 1 }    { Le : 2 }    { give : 1 }    { gbargclintonbackground3989cbgmodelpromohppromoccol : 1 }    { 550 : 1 }    { Heds : 1 }    { DAVID : 1 }    { httpsintnytcomapplicationsportalsassetsportalappfae5bf8f555d0a81e22cc783dee04c3bjs : 1 }    { Bruni : 2 }    { want : 1 }    { Digital : 1 }    { reFormat : 1 }    { times : 1 }    { absolute : 1 }    { Smartphone : 1 }    { end : 1 }    { 8pximportant : 1 }    { Watching : 1 }    { how : 1 }    { Muslims : 2 }    { env : 1 }    { Zika : 1 }    { A : 10 }    { Dylan : 1 }    { earlier : 1 }    { Will : 3 }    { Intellectuals : 1 }    { president : 1 }    { law : 1 }    { texttransform : 5 }    { All : 1 }    { enter : 1 }    { 1000 : 1 }    { Monroe : 1 }    { Ancient : 1 }    { Eye : 1 }    { over : 2 }    { JOANNE : 1 }    { registeredButton : 1 }    { His : 4 }    { Hit : 1 }    { SAM : 1 }    { Smarter : 1 }    { fix : 2 }    { Here : 2 }    { 400 : 2 }    { Judge : 2 }    { videoFactory : 1 }    { Review : 11 }    { them : 1 }    { ij0idjjifvoid : 1 }    { Mobile : 3 }    { Challenge : 1 }    { Analysis : 1 }    { dirtyform : 1 }    { Liberal : 2 }    { Contaminates : 1 }    { victory : 1 }    { jquerynyt : 1 }    { Agrees : 1 }    { Contaminated : 1 }    { Humor : 1 }    { nutreturn : 1 }    { 13px : 10 }    { Won : 1 }    { Douthat : 1 }    { Confronting : 1 }    { Dresses : 1 }    { BEGIN : 1 }    { emailPreferencesLinkText : 1 }    { Promo : 1 }    { content : 4 }    { authgrowl : 1 }    { Hole : 1 }    { notifyaddEventListenermouseoutfunction : 1 }    { foundation : 1 }    { homepage20161101141811jsshared : 1 }    { nythpElection2016Header : 23 }    { Work : 1 }    { eternal : 1 }    { standard : 1 }    { 0dcountrycodereturn : 1 }    { W : 1 }    { Earth’ : 1 }    { Clinton : 9 }    { Contributors : 1 }    { Movies : 2 }    { Photo : 2 }    { smokers : 1 }    { tdocumentcreateElementscripttasync0ttypetextjavascriptvar : 1 }    { ninitfunctionnrvar : 1 }    { unregisteredButton : 1 }    { windowmagnumwriteLogosmall : 1 }    { already : 2 }    { Palestinian : 1 }    { consolelogok : 1 }    { articlebefore : 2 }    { Please : 2 }    { Going : 1 }    { requirenytintgeoip : 1 }    { googletaggoogletaggoogletagcmdgoogletagcmdfunctionvar : 1 }    { Cozy : 1 }    { 657 : 1 }    { Mess : 1 }    { top : 2 }    { Search : 5 }    { B : 1 }    { Rare : 1 }    { Hillary’s : 1 }    { Victory : 1 }    { Alessandrini : 2 }    { distance : 1 }    { Set : 1 }    { FBI’s : 2 }    { Coal’s : 1 }    { Version : 1 }    { messagebed : 1 }    { TAVERNISE : 1 }    { wideranging : 1 }    { breturn : 1 }    { Poets : 2 }    { Rate : 1 }    { MAUREEN : 1 }    { Topics : 1 }    { bynbspDoug : 1 }    { Reports : 1 }    { involving : 1 }    { Comey : 2 }    { notifygetAttributeplaceholder : 1 }    { Rigged : 1 }    { drought : 1 }    { Mean : 1 }    { I’m : 1 }    { requirehttpsa1nytcomanalyticstagxsimpleminjs : 1 }    { 1125rem : 1 }    { Election : 5 }    { Want : 1 }    { voting : 1 }    { Its : 1 }    { Union : 1 }    { Helvetica : 6 }    { articledatacollectionrenderstyleHpSumMediumMedia : 1 }    { nythpHideKickers : 1 }    { headline : 1 }    { Big : 4 }    { Beasts : 1 }    { Republicans : 1 }    { ntvar : 1 }    { PhotographyGetty : 1 }    { Seems : 1 }    { Days : 2 }    { Taxes : 2 }    { Reputation : 2 }    { wedding : 1 }    { Quick : 1 }    { Voting : 1 }    { Masters : 1 }    { Epidemic : 3 }    { Chicago’s : 1 }    { Clearly : 1 }    { ALEXANDER : 1 }    { textdecoration : 3 }    { Homage : 1 }    { testTime : 1 }    { Recommended : 1 }    { Cusp : 1 }    { said : 1 }    { 311518500249en1on2ern3iueor341275144ueoeror882459459i15356943890f20te : 1 }    { Image : 1 }    { actionlink : 1 }    { nythpSplitCode : 3 }    { Upscale : 1 }    { 360 : 3 }    { Trek : 3 }    { Settings : 1 }    { paddingtop : 1 }    { OpEd : 7 }    { disservice : 1 }    { news : 1 }    { Dance : 1 }    { Focus : 1 }    { Waking : 2 }    { geocoded : 1 }    { Pretension : 1 }    { Classifieds : 1 }    { NumberparseIntmatches1 : 1 }    { 6187a6important : 2 }    { Spoofs : 2 }    { accountname : 2 }    { matte : 1 }    { wider : 1 }    { 0ecforvar : 1 }    { Blocks : 1 }    { interactiveleadin : 1 }    { gsubtitledisplayblocktexttransformnonegmodelpromohppromobcol : 1 }    { Early : 3 }    { Hillary : 6 }    { Your : 7 }    { rePreviewTime : 1 }    { Poland : 1 }    { Marina : 1 }    { Listings : 1 }    { News : 8 }    { Debt : 1 }    { timedBriefingHidei : 1 }    { Beware : 1 }    { Manage : 1 }    { 6288a5 : 1 }    { Culture : 1 }    { near : 1 }    { Cleveland : 1 }    { Follow : 1 }    { Both : 3 }    { is : 3 }    { Interview : 1 }    { Here’s : 1 }    { in : 41 }    { if : 8 }    { make : 1 }    { President : 1 }    { several : 1 }    { Represents : 1 }    { Room : 2 }    { h6active : 4 }    { Ford : 1 }    { siteindexbrandinglink : 1 }    { Masochism : 1 }    { kept : 1 }    { ‘People : 1 }    { Mine : 1 }    { the : 69 }    { 805 : 1 }    { left : 4 }    { FilmStruck : 3 }    { Streetcar : 1 }    { ffeehfunctionavar : 1 }    { h3gcharttitlefontsize10pxtexttransformuppercasemargin0 : 1 }    { previous : 1 }    { Eternity : 1 }    { handshake : 1 }    { Subscribersetup : 1 }    { hpDeveloping : 3 }    { ffffff : 1 }    { has : 5 }    { 3px : 6 }    { Where’s : 2 }    { windowNYTD : 2 }    { Restaurant : 3 }    { James : 1 }    { Taking : 1 }    { ‘Attorney : 1 }    { possible : 1 }    { Morning : 3 }    { Try : 1 }    { background : 4 }    { Gerard : 2 }    { Menace : 2 }    { Renters : 1 }    { mediaphotomediumthumb : 1 }    { Heart : 3 }    { Art : 3 }    { Trump : 10 }    { windowNYTINTTESTINGee : 1 }    { Imagines : 1 }    { Teenagers : 1 }    { 21px : 2 }    { Trading : 1 }    { Are : 2 }    { sectionopinion : 2 }    { Again : 3 }    { right : 1 }    { Articles : 1 }    { Much : 1 }    { Suspect : 1 }    { election : 3 }    { Off : 2 }    { theatrical : 1 }    { Life : 1 }    { Pokes : 1 }    { for : 23 }    { bottom : 1 }    { notification : 2 }    { investigations : 1 }    { backgroundposition : 1 }    { h3gcharttitlehovertextdecorationunderlinegmodelpromo : 1 }    { strictvar : 1 }    { Let : 1 }    { Cubs : 6 }    { Keith : 1 }    { timedBriefingsisetAttributeclass : 2 }    { bold : 1 }    { PBS : 1 }    { Daily : 4 }    { notifyemailerror : 1 }    { Near : 1 }    { “Spamilton” : 1 }    { post : 1 }    { 0px : 16 }    { MATT : 1 }    { ltie10 : 9 }    { ribs : 1 }    { Cheap : 1 }    { Shake : 2 }    { underscorenyt : 1 }    { Best : 1 }    { dilemma : 1 }    { Make : 1 }    { float : 5 }    { Hybrid : 1 }    { etnytimescom : 1 }    { attrClass : 3 }    { Insider : 6 }    { Brokaw : 1 }    { Ends : 1 }    { Elvis : 1 }    { width : 6 }    { Presley : 1 }    { resulted : 1 }    { Elena : 1 }    { was : 2 }    { optsvariation : 1 }    { form : 1 }    { January : 1 }    { Coming : 1 }    { widgetsetAttributeclassclearfix : 1 }    { httpwwwnytimescomelectionsresultsstatusjson : 1 }    { true : 1 }    { Left : 2 }    { reset : 1 }    { romantimesserif : 1 }    { WILLIAM : 2 }    { Aren’t : 1 }    { submitting : 1 }    { Leaders’ : 1 }    { windowmagnumprocessFlagslimitFabrikSavemoreFollowSuggestionsunfollowCommentsallTheEmphasesvideoVHSCovervideoVHSHomepageCovervideoVHSHomepageNewControlsvideoVHSNewControlsvideoVHSEmbeddedOnlyadditionalOpinionRegionshpViewabilityfreeTrialhpPrototypeuseCollectionApiForWellenableFlexFrameAdsweatherLocationfabrikWebsocketsOnlyNYTExperimenthpRealEstateAdjitterbugupdatedVideoPromoSmallvideoEmbed360PersonalizationApiUpdateglobalBriefingsremoveInternationalEditionclientSideABRAabraOverrideVersion : 1 }    { Crush : 1 }    { libefore : 2 }    { ‘Real’ : 1 }    { no : 1 }    { Hairs : 1 }    { Possible : 1 }    { Falls : 1 }    { 14px : 6 }    { Leases : 1 }    { timedBriefingslength : 1 }    { Pages : 1 }    { portalcontainerheader : 1 }    { Trial : 1 }    { apartheidera : 1 }    { backgroundsize : 2 }    { longer : 1 }    { Estate : 4 }    { Radical : 1 }    { Everlasting’ : 1 }    { Glaxo’s : 1 }    { time : 6 }    { precedent : 1 }    { 9202016 : 1 }    { Indians : 5 }    { themes : 1 }    { chair : 1 }    { Memoir : 1 }    { Today : 4 }    { Introducing : 1 }    { 0 : 14 }    { Day : 2 }    { Adventures : 1 }    { Don’t : 1 }    { Plus : 1 }    { Where : 1 }    { divnotificationwidget : 1 }    { Jersey : 1 }    { materialize : 1 }    { Just : 1 }    { Danger : 1 }    { h3collectionkicker : 5 }    { div : 10 }    { homepage20161101141811jshomepage : 2 }    { Debate : 2 }    { Guts : 1 }    { Rich : 1 }    { a81817 : 3 }    { bordertopleftradius : 3 }    { gnewsletterlinkfont500 : 1 }    { Popped : 1 }    { HIDE : 1 }    { inlineblock : 3 }    { Subscriptions : 5 }    { Flat’ : 2 }    { 30px : 2 }    { Explore : 1 }    { Hear : 1 }    { Hurts : 2 }    { shared : 1 }    { Along : 1 }    { Francis : 1 }    { Me : 1 }    { Cinephiles : 3 }    { assertive : 1 }    { Age : 3 }    { English : 1 }    { newtext : 1 }    { margintop : 14 }    { David : 3 }    { My : 1 }    { Deal : 1 }    { Fleeing : 1 }    { MM : 1 }    { guilty : 1 }    { JONAH : 1 }    { navigation : 2 }    { Justice : 1 }    { When : 2 }    { foundationmain : 1 }    { 1st : 1 }    { Dies : 3 }    { helvetica : 2 }    { Rowling’s : 1 }    { Cities : 1 }    { optspoll : 1 }    { These : 1 }    { Public : 2 }    { Jerry : 1 }    { Services : 1 }    { Time : 3 }    { Hunts : 1 }    { effort : 1 }    { Bet : 3 }    { FD8249 : 2 }    { Errorcant : 1 }    { Celebrations : 1 }    { Pope : 1 }    { German : 1 }    { Pays : 1 }    { Pacific : 1 }    { nation’s : 1 }    { nowgetHours : 1 }    { growing : 1 }    { Our : 3 }    { Dowd : 1 }    { Tells : 1 }    { Philippines’ : 1 }    { Out : 2 }    { dedicated : 1 }    { 7px : 2 }    { Federal : 1 }    { acquittals : 1 }    { Mix : 1 }    { unveiled : 1 }    { 0eivar : 1 }    { Terms : 2 }    { Who : 1 }    { 1 : 3 }    { baswitch0case : 1 }    { Why : 1 }    { aeachfunction : 1 }    { Natalie : 1 }    { explores : 1 }    { productCode : 1 }    { Emailed : 1 }    { alerticon : 1 }    { floatright : 1 }    { Editorials : 1 }    { Corporate : 1 }    { man : 1 }    { timedBriefingHide : 3 }    { outline : 1 }    { Series : 4 }    { documentgetElementByIdmorningbriefingwidget : 1 }    { opts : 2 }    { Author : 1 }    { Breaking : 2 }    { atargetefatargetundefinedtypeof : 1 }    { brain : 1 }    { nyta2dtdocumentcookiematch : 1 }    { White : 1 }    { alreadySubscribedMessage : 1 }    { Ivoryton : 1 }    { thumb : 1 }    { Rules : 1 }    { Treatments : 1 }    { window : 1 }    { offers : 1 }    { mail : 1 }    { Hiding : 2 }    { matches : 2 }    { origtext : 1 }    { Choices : 1 }    { odocumentgetElementsByTagNamescript0oparentNodeinsertBeforeto : 1 }    { GOP’s : 1 }    { not : 2 }    { now : 1 }    { Skip : 2 }    { You’re : 2 }    { 215p : 1 }    { 826 : 1 }    { em : 1 }    { Beasts’ : 2 }    { morningbriefingwidget : 1 }    { paddingleft : 2 }    { Television : 2 }    { Stops : 1 }    { Shorter : 1 }    { begun : 1 }    { Carolina : 1 }    { container : 2 }    { ‘AmbushStyle’ : 2 }    { space : 1 }    { h3gcharttitlemargintop2pxgmodelpromo : 1 }    { enforcement’s : 1 }    { Joe : 1 }    { rational : 1 }    { Jon : 1 }    { 50px : 2 }    { Theater : 2 }    { G : 1 }    { Samsung : 1 }    { Tormentors : 1 }    { ajax : 1 }    { notifyaddEventListenerkeyupfunction : 1 }    { uacfsreturn : 1 }    { Money : 1 }    { 222222 : 1 }    { StreetSmart : 1 }    { Sign : 3 }    { 2pximportant : 1 }    { “The : 1 }    { Touch : 1 }    { childhood : 1 }    { first : 1 }    { Even : 2 }    { ulrefer : 2 }    { testTimegetUTCMinutes : 1 }    { 10pxmargintop5pxmarginbottom10pxgmodelpromohppromoccoldisplayblockfont500 : 1 }    { There : 2 }    { Start : 1 }    { Black : 2 }    { directly : 1 }    { articlestorythemesummary : 1 }    { sheer : 1 }    { unregisteredPlaceholder : 1 }    { Monday : 1 }    { 2 : 5 }    { Defying : 1 }    { Date : 1 }    { white : 1 }    { Capturing : 1 }    { Stylist : 1 }    { that : 3 }    { padding : 8 }    { copy : 1 }    { 12 : 3 }    { Love : 3 }    { foundationhelpersutils : 1 }    { require : 2 }    { spanabledepackageregion : 3 }    { were : 1 }    { Advertise : 1 }    { janitor : 1 }    { browser : 1 }    { and : 32 }    { Combines : 1 }    { Court : 2 }    { displayBriefings : 1 }    { say : 2 }    { anger : 1 }    { Valley : 1 }    { any : 1 }    { Do : 1 }    { 15px : 2 }    { blinding : 1 }    { 200 : 1 }    { pain : 1 }    { Name : 1 }    { normal : 1 }    { Drop : 1 }    { paid : 1 }    { widgetgetElementsByTagNamediv0 : 1 }    { Caption : 1 }    { aindexOfzoneabbr0bareplacezoneabbrustimezonebreakcase : 1 }    { Donkeys : 1 }    { Hatched : 2 }    { Ferrante : 1 }    { Beyond : 1 }    { Humans : 1 }    { raquo : 34 }    { Marathon : 2 }    { Ascent : 1 }    { Trending : 1 }    { shot : 1 }    { BART : 1 }    { Candidate : 1 }    { Wed : 1 }    { Political : 2 }    { Research : 1 }    { hack : 1 }    { Wants : 1 }    { upgrade : 1 }    { black : 2 }    { nythpSmarterLiving : 13 }    { GMT : 1 }    { get : 1 }    { H : 1 }    { Plunging : 1 }    { Magazine : 9 }    { TYLER : 1 }    { Having : 1 }    { Instagram : 1 }    { nytcheltenhamshgeorgiatimes : 1 }    { YEE : 1 }    { summary : 2 }    { Education : 4 }    { where : 2 }    { Soon : 1 }    { relative : 1 }    { parking : 1 }    { 831 : 1 }    { Iowa : 2 }    { maxwidth : 1 }    { That : 3 }    { mediumthumb : 1 }    { forecast : 1 }    { boundaries : 1 }    { 3 : 1 }    { bureau : 1 }    { letterspacing : 2 }    { Turnout : 1 }    { abcolumn : 7 }    { setTimeoutfunction : 1 }    { Were : 2 }    { arial : 2 }    { nythpSmarterLivingbefore : 1 }    { nythpCAToday : 6 }    { Silicon : 1 }    { optslimit : 1 }    { many : 2 }    { quiet : 1 }    { Babbitt : 1 }    { Through : 2 }    { hpLive : 3 }    { Everyday : 1 }    { among : 1 }    { McPHATE : 1 }    { color : 19 }    { Travel : 3 }    { Note : 1 }    { 61 : 1 }    { Crackdown : 1 }    { 93px : 1 }    { article : 12 }    { storyheading : 9 }    { considers : 1 }    { 177px : 1 }    { Bets : 1 }    { Beauty : 1 }    { h5font300 : 1 }    { But : 3 }    { Modest : 1 }    { Melania : 1 }    { BURNS : 1 }    { 500 : 4 }    { MARTIN : 1 }    { Together : 1 }    { elementToHideOnSubscribe : 1 }    { McKnight’ : 2 }    { case : 1 }    { windowlocationsearchindexOfportalvariantwatchingNoScroll : 1 }    { margin : 5 }    { themecomments : 1 }    { utils : 1 }    { South’s : 2 }    { Loosening : 2 }    { 28px : 1 }    { Division : 1 }    { Israel : 1 }    { Complete : 1 }    { pay : 2 }    { Jazz : 3 }    { notificationsignup : 6 }    { Militants : 1 }    { Witch : 1 }    { timestamp : 1 }    { Design : 1 }    { JONATHAN : 1 }    { ‘IQ’ : 1 }    { status : 1 }    { nythpNYRegionPromo : 1 }    { I : 3 }    { Clear : 1 }    { Modules : 1 }    { director : 1 }    { Says : 2 }    { undefined : 2 }    { winnertakeall : 1 }    { Is : 9 }    { nythpBreakingnythpNoRule : 1 }    { It : 2 }    { without : 1 }    { Rent : 1 }    { In : 10 }    { ccc : 3 }    { summer : 1 }    { Loading : 2 }    { 37th : 1 }    { Service : 5 }    { displaynone : 2 }    { being : 1 }    { actions : 1 }    { glabelfloatrighttextalignrightwhitespacenowrapgmodelpromohppromoccol : 1 }    { Log : 1 }    { Jobs : 1 }    { application : 1 }    { Spot : 1 }    { param : 2 }    { Steaming : 1 }    { windowNYTDGlobal : 1 }    { Ethics : 1 }    { Decision : 1 }    { grip : 1 }    { around : 1 }    { Many : 2 }    { secondcolumnregion : 2 }    { ecigarettes : 1 }    { early : 1 }    { traffic : 1 }    { nytfranklin : 8 }    { Hatred : 2 }    { Talk : 2 }    { httpsstatic01nytcomjsmtr : 1 }    { Show : 2 }    { Hacks : 1 }    { containergetElementsByTagNamebutton0 : 1 }    { Streaming : 3 }    { benefit : 1 }    { Khizr : 2 }    { either : 1 }    { Sharp : 1 }    { 中文 : 1 }    { Man : 2 }    { windowlocationsearchindexOfdisabletagx : 1 }    { uppercase : 4 }    { Arms : 1 }    { Clinton’s : 1 }    { New : 17 }    { Earlier : 1 }    { Leader : 1 }    { timetimestamp : 1 }    { Marilyn : 1 }    { refer : 1 }    { windowNYTDGlobaldisplayBriefingstestTimegetUTCHours : 1 }    { containerId : 1 }    { Haiti’s : 3 }    { Rock : 1 }    { 2orusf3sf8sf14sf16forf5flflfnf0return : 1 }    { a6a6a6 : 1 }    { 847 : 1 }    { requirehomepagemain : 2 }    { subscribed : 2 }    { bordertoprightradius : 2 }    { of : 48 }    { documentgetElementsByClassNametimedBriefing : 1 }    { Paper : 2 }    { Images : 1 }    { or : 4 }    { Story : 3 }    { notifysetAttributeplaceholdernewtext : 1 }    { urlhttpsstatic01nytcomnewsgraphics20150225electionnavigationassetsimageselection2016logopng : 1 }    { inbox : 1 }    { portrayal : 1 }    { your : 5 }    { Store : 1 }    { MillsThe : 1 }    { NN : 1 }    { Hotel : 1 }    { opacity0 : 1 }    { hed : 1 }    { start : 1 }    { Suffering : 1 }    { italic : 1 }    { Assad : 1 }    { J : 3 }    { signedin : 2 }    { Error : 1 }    { Small : 1 }    { articlenthoftype2 : 1 }    { trying : 1 }    { with : 1 }    { Guide : 3 }    { Ad : 1 }    { ‘The : 1 }    { default : 1 }    { Candidates’ : 1 }    { thanksMessage : 1 }    { vhs : 1 }    { unveils : 1 }    { Identity : 2 }    { Win : 1 }    { Close : 1 }    { FBI : 2 }    { Moves : 1 }    { Crisis : 1 }    { Delivered : 1 }    { 600 : 1 }    { videos : 1 }    { Hint : 1 }    { Wordplay : 1 }    { an : 8 }    { Camille : 1 }    { How : 6 }    { eyepopping : 1 }    { at : 7 }    { utilsappendQueryParamshref : 1 }    { reHide : 1 }    { film : 1 }    { Real : 4 }    { again : 1 }    { Read : 1 }    { drivers : 1 }    { Spies : 1 }    { attrEnd : 1 }    { you : 3 }    { nytintemailsubscriber : 1 }    { Nonfiction : 1 }    { Great : 1 }    { bordercolorrgba971361661 : 1 }    { reception : 1 }    { videoPlaylist : 1 }    { GlaxoSmithKline : 1 }    { important : 5 }    { registeredWelcome : 1 }    { CNN : 1 }    { nbspComments : 6 }    { Fancy : 2 }    { gcandidatewidth50gmodelpromo : 1 }    { Likely : 1 }    { DategetTime : 1 }    { gcandidatesdisplaywebkitboxdisplaymsflexboxdisplayflexgmodelpromo : 1 }    { all : 2 }    { pointing : 1 }    { Fix : 3 }    { Society’ : 2 }    { decisions : 1 }    { strictfunction : 1 }    { Brown : 1 }    { Championship : 1 }    { icons : 1 }    { to : 45 }    { init : 1 }    { ‘There : 1 }    { homepage : 1 }    { SABRINA : 1 }    { backgroundcolor : 3 }    { JIM : 1 }    { Sale : 2 }    { Headers : 1 }    { 1px : 5 }    { ticket : 1 }    { Noah : 2 }    { Binding : 1 }    { Canary : 1 }    { Sudeikis : 2 }    { borderbottomleftradius : 3 }    { messengersuggestions : 5 }    { penalties : 1 }    { icfslhptdocumentcookiematch : 1 }    { ribbon : 1 }    { what : 1 }    { urlhttpsstatic01nytcomimagesiconsiconalert12x12a81817png : 1 }    { public : 1 }    { paddingbottom : 2 }    { Gift : 1 }    { K : 1 }    { Battle : 1 }    { Contact : 1 }    { Events : 3 }    { Briefing : 4 }    { 903 : 1 }    { search : 1 }    { Stewart’s : 1 }    { COTTnbspPhoto : 1 }    { social : 1 }    { Conn : 1 }    { glinktextdecorationunderlinegmodelpromohppromoccolbeforeboxsizingcontentboxcontentdisplayblockbordertop2px : 1 }    { Style : 7 }    { via : 1 }    { Yoga : 1 }    { httpsstatic01nytcomjs2buildvideoplayersextended20appRequire : 1 }    { nythpDeveloping : 1 }    { Top : 1 }    { href : 3 }    { notificationstitle : 1 }    { Opinion : 11 }    { armed : 1 }    { Explorer : 1 }    { 858 : 1 }    { Automobiles : 2 }    { Baseball : 2 }    { 6 : 3 }    { Doppelgänger : 1 }    { textalign : 4 }    { more : 1 }    { Buber : 1 }    { Americas : 1 }    { American : 2 }    { So : 1 }    { Routes : 1 }    { Disclosure : 1 }    { none : 19 }    { Followed : 1 }    { ‘Sleeping : 1 }    { bordertop : 1 }    { 326891 : 1 }    { prompt : 1 }    { RUTENBERG : 1 }    { states : 1 }    { numbers : 1 }    { Thompson : 1 }    { matchHeight : 1 }    { spanabcregion : 15 }    { Opening : 1 }    { breaking : 1 }    { Fusion : 1 }    { Fall : 1 }    { Shadow : 1 }    { previewTimed : 1 }    { Lower : 1 }    { tried : 1 }    { paddingtop11px : 1 }    { startTime : 3 }    { capitalize : 1 }    { Plans : 1 }    { a : 46 }    { Player : 1 }    { Democrats : 2 }    { media : 1 }    { Tech : 2 }    { Film : 1 }    { 175rem : 1 }    { What : 4 }    { Interesting : 1 }    { SignUp : 1 }    { 187px : 1 }    { BROMWICH : 1 }    { through : 1 }    { bordertopcolor : 1 }    { divdatastatusworking : 2 }    { its : 1 }    { ccolumncolumn : 3 }    { Ranking : 1 }    { 20 : 2 }    { Fanatic : 1 }    { floatleft : 1 }    { Ridge’ : 1 }    { splitlayout : 2 }    { might : 1 }    { NYTDNYTDNYTDAbrafunctiontuse : 1 }    { waitSeconds : 1 }    { return : 3 }    { BROAD : 1 }    { number : 1 }    { Bad : 1 }    { h3gmodelpromo : 1 }    { glinkcolor326891gmodelpromohppromoccol : 1 }    { Ban : 1 }    { 2f : 1 }    { Earnings : 1 }    { week : 1 }    { e2e2e2paddingleft8pxgmodelpromodisplayblockgmodelpromohppromobcolpadding7px : 1 }    { experts : 1 }    { attrStart : 1 }    { Sports : 4 }    { Build : 2 }    { insurance : 1 }    { 5pxgmodelpromo : 1 }    { More : 5 }    { health : 2 }    { ADAM : 1 }    { 7 : 2 }    { firstcolumnregion : 2 }    { earns : 1 }    { collectionfirstchild : 4 }    { 1920s : 1 }    { Priests : 1 }    { timedBriefings : 1 }    { ET : 14 }    { Chang : 1 }    { Male : 1 }    { gmodelpromocontainerpositionrelativemarginbottom10pxgmodelpromocontainer : 1 }    { LEARN : 1 }    { columnfirstchild : 1 }    { threat : 1 }    { enlarges : 1 }    { Officers : 2 }    { notify : 1 }    { Corruption : 1 }    { story : 3 }    { gcandtoplinelabelfontsize11pxgmodelpromosolidrepgmodelpromolikelyrepgmodelpromoleaningrepbackgroundcolord75c5ccolorfffgmodelpromotossupbackgroundcolorf5f5bdgmodelpromoleaningdemgmodelpromolikelydemgmodelpromosoliddembackgroundcolor3989cbcolorfff : 1 }    { Screen : 1 }    { aindexOfzone0bareplacezonezonebreakcase : 1 }    { Bullet : 1 }    { You’ve : 1 }    { Todayrsquos : 2 }    { ‘Dead : 2 }    { Cancer : 2 }    { Puzzle : 2 }    { Wing’ : 1 }    { thisattrhref : 2 }    { determined : 1 }    { supposed : 1 }    { testTZ : 1 }    { adatareactid002 : 1 }    { etniftvar : 1 }    { lilastchild : 2 }    { 27n4sff : 1 }    { Father : 1 }    { rewards : 1 }    { paths : 2 }    { relationship : 1 }    { Food : 7 }    { transactional : 1 }    { borderbottom : 4 }    { officers : 1 }    { chairman : 1 }    { QUICK : 1 }    { With : 8 }    { Sides : 1 }    { added : 1 }    { ‘Fantastic : 2 }    { Attacks : 1 }    { Governor : 1 }    { rarefied : 1 }    { Savings : 1 }    { Bohemian : 1 }    { smarterliving : 1 }    { The : 35 }    { Finds : 1 }    { Bridge : 1 }    { Augustine : 1 }    { clear : 3 }    { ab72ifuthrow : 1 }    { Subscribe : 4 }    { pennant : 1 }    { diverror : 1 }    { Viewed : 1 }    { standoff : 1 }    { Expert : 1 }    { 666 : 1 }    { 0backgroundcolorfffgmodelpromohppromoccol : 1 }    { XMLHttpRequestdnullenulltryifdJSONparsesessionStoragegetItemadvoid : 1 }    { norepeat : 2 }    { Confident : 1 }    { marginleft : 5 }    { ‘Hair : 2 }    { boxshadow : 1 }    { JK : 1 }    { Has : 2 }    { 22px : 1 }    { documentreadyfunction : 2 }    { French : 2 }    { buttonhover : 2 }    { Paycheck : 2 }    { his : 4 }    { nythpSplitCodelayout : 1 }    { KEPNER : 1 }    { Trump’s : 3 }    { banner : 1 }    { divdatastatusinitial : 5 }    { 4pximportant : 1 }    { Female : 1 }    { recommendations : 1 }    { Hell : 1 }    { set : 1 }    { Plays : 1 }    { For : 4 }    { creator : 1 }    { e2e2e2borderbottom1px : 1 }    { AChangin’ : 1 }    { feared : 1 }    { Buildings : 1 }    { GET : 1 }    { Towers : 2 }    { please : 1 }    { 312px : 1 }    { conditions : 2 }    { spanabtopregion : 7 }    { risks : 1 }    { APUZZO : 1 }    { Today’s : 1 }    { Against : 1 }    { lineheight : 14 }    { Maker : 1 }    { both : 1 }    { last : 1 }    { restaurant : 1 }    { Hard : 1 }    { Sherlock : 1 }    { 20160630 : 1 }    { Show” : 1 }    { Yes : 2 }    { twiceifarudforddecodeURIComponentdspliti0i : 1 }    { simple : 1 }    { address : 1 }    { Peanuts : 2 }    { Play : 2 }    { Applications : 1 }    { documentaddEventListenerDOMContentLoaded : 1 }    { Most : 4 }    { California : 1 }    { Plan : 1 }    { Movie : 1 }    { Care : 2 }    { Polls : 1 }    { slideshow : 1 }    { else : 2 }    { 16px : 1 }    { Todays : 3 }    { Journeys : 1 }    { solid : 9 }    { Sales : 1 }    { College : 3 }    { nn1nullfunction : 1 }    { GOLDMAN : 1 }    { Issues : 1 }    { Khan : 2 }    { Grounded : 1 }    { ‘Walk : 1 }    { nytfranklinhelveticaarialsansserif : 1 }    { itself : 1 }    { Prison : 1 }    { e2e2e2 : 2 }    { Eyes : 1 }    { Updated : 1 }    { articlelastchild : 1 }    { 9 : 2 }    { r0a0c0ouaife : 1 }    { notifyemail : 1 }    { Lines : 1 }    { Podcasts : 1 }    { 2016’s : 1 }    { moment : 1 }    { 000 : 5 }    { backgroundimage : 1 }    { 0important : 1 }    { 1625rem : 1 }    { Serving : 1 }    { JEREMY : 1 }    { Technology : 2 }    { l0var : 1 }    { Abramovic’s : 1 }    { spent : 1 }    { Son : 1 }    { containersetAttributeclassnotsignedin : 1 }    { nythpGeoCanada : 1 }    { Reached : 1 }    { Racial : 1 }    { Tools : 1 }    { T : 4 }    { Living : 2 }    { Takes : 2 }    { Porsche : 1 }    { previewTime : 2 }    { FF9859 : 2 }    { Internet : 3 }    { Intelligence : 1 }    { injuries : 1 }    { workers : 1 }    { Football : 1 }    { Fallout : 1 }    { Front : 1 }    { input : 2 }    { Maring : 1 }    { On : 4 }    { Season’s : 1 }    { padding13px : 1 }    { They : 2 }    { Glory : 1 }    { ‘West : 1 }    { prefer : 1 }    { BARBOZA : 1 }    { errorMessage : 1 }    { Anxious : 1 }    { game : 1 }    { nythpHideBylines : 1 }    { spoof : 1 }    { Truth : 2 }    { nythpSmarterLivingafter : 2 }    { modifications : 1 }    { ALFANO : 1 }    { Sight : 1 }    { Columnists : 1 }    { Find : 1 }    { Confirm : 1 }    { Pattern : 2 }    { gbaroverflowvisiblegmodelpromohppromoccol : 1 }    { storythemesummaryheadlinemediumsummary : 5 }    { anytgeoipbdocumentgetElementsByTagNamehtmlc1dcontinentcodecountrycoderegiondmacodepostalcodetimezonezoneabbrefunctionbvar : 1 }    { Email : 3 }    { Turmoil : 1 }    { Frank : 1 }    { nythpBreaking : 3 }    { Microcephaly : 1 }    { be : 2 }    { Newsletters : 1 }    { Look : 1 }    { Bill : 1 }    { Times : 16 }    { Bob : 1 }    { by : 9 }    { Bars : 1 }    { blocs : 1 }    { Voters : 3 }    { Roe : 1 }    { 8px : 2 }    { Bourdain : 1 }    { BrooklynQueens : 1 }    { bluster : 1 }    { block : 7 }    { NewsDeveloping : 1 }    { htmlgeoregionCA : 1 }    { into : 1 }    { Their : 3 }    { Helps : 2 }    { themenewsheadlines : 2 }    { Went : 1 }    { Driven : 1 }    { span : 1 }    { Norman : 1 }    { ‘Tuck : 1 }    { Anthony : 1 }    { aledepackageregion : 2 }    { User : 1 }    { West : 1 }    { ‘It’s : 1 }    { Come : 1 }    { widgetgetElementsByClassNamenotifyemail0 : 1 }    { 3600 : 1 }    { 96px : 1 }    { slump : 1 }    { Opinionator : 1 }    { Mediator : 2 }    { Firewall : 2 }    { Twitter : 1 }    { gtrump : 1 }    { Africa : 1 }    { up : 2 }    { us : 1 }    { viewportmedium10 : 2 }    { ul : 9 }    { Books : 4 }    { Sense : 1 }    { ifform : 1 }    { FITZSIMMONS : 1 }    { Cross : 1 }    { Places : 3 }    { To : 1 }    { Evolutionary : 1 }    { Above : 1 }    { He’s : 1 }    { Upshot : 1 }    { OldSchool : 1 }    { Manhattan : 1 }    { as : 5 }    { Map : 1 }    { May : 1 }    { notificationtext : 2 }    { bcolumn : 9 }    { Proxy : 1 }    { Student : 1 }    { Rises : 1 }    { pageManager : 2 }    { Gender : 1 }    { marginright8px : 1 }    { AM : 14 }    { httpsa1nytcomassets : 1 }    { STYLING : 1 }    { Making : 1 }    { lane : 1 }    { Wearables : 1 }    { Tunisia : 2 }    { Man’s : 1 }    { age : 1 }    { Weddings : 1 }    { nytfranklinHelveticaArialsansserifpositionabsolutezindex10bottom0left109pxcolor326891borderleft1px : 1 }    { 2000 : 2 }    { 2006 : 1 }    { Elegy : 1 }    { 2005 : 1 }    { nowgetMinutes : 1 }    { Newsletter : 2 }    { notificationwidget : 20 }    { Sell : 1 }    { MIKE : 1 }    { Surprises : 1 }    { Beekman : 1 }    { Department : 1 }    { glabelcolorfffpadding8pxgmodelpromohppromoccol : 1 }    { Royalties : 1 }    { nytfranklinHelveticaArialsansserifgmodelpromo : 1 }    { Business : 4 }    { notifyemailhover : 1 }    { loadercontainer : 1 }    { 25px : 1 }    { Not : 3 }    { Nov : 1 }    { Now : 2 }    { FARHAD : 1 }    { Wheels : 2 }    { button : 4 }    { displayinlineblock : 2 }    { try : 1 }    { 17px : 3 }    { pleas : 1 }    { Index : 2 }    { FAUSSET : 1 }    { Discrimination : 1 }    { requireportalapp : 1 }    { Long : 1 }    { State : 3 }    { video : 1 }    { SEAN : 1 }    { Suit : 1 }    { Sections : 4 }    { Grip : 2 }    { requiremap : 1 }    { TrumpStyle : 2 }    { America : 1 }    { Seize : 2 }    { Wrist : 1 }    { Triumphant : 1 }    { gupdatedcoloraaafontsize11pxgmodelpromohppromoacoltextaligncentermargintop3pxmarginbottom10pxpadding7px : 1 }    { explore : 1 }    { healing : 1 }    { SCHMIDT : 1 }    { Chinese : 1 }    { 33 : 1 }    { minheight38px : 1 }    { functionresponse : 1 }    { 18px : 8 }    { Alien : 1 }    { Revving : 2 }    { Giant’ : 1 }    { Photography : 1 }    { Leading : 1 }    { Multimedia : 2 }    { Contributing : 1 }    { Treatment : 1 }    { from : 2 }    { nythpmorningbriefingemailpromo : 1 }    { e2e2e2height1pxmargin12px : 1 }    { next : 1 }    { Lens : 1 }    { 46yearold : 1 }    { Broke : 2 }    { nythpElectionPredictionCCol : 1 }    { bnullswitch0casejsonaresponseTypebaresponsedatabreakcase : 1 }    { on : 15 }    { started : 1 }    { Plain : 1 }    { Wednesday : 3 }    { divdatastatussubscribed : 2 }    { Editorial : 4 }    { Feedback : 1 }    { ALI : 1 }    { this : 3 }    { getting : 1 }    { Video : 8 }    { Vote : 1 }    { Traveler : 1 }    { decadeslong : 1 }    { control : 1 }    { Police : 3 }    { Similarities : 1 }    { Feature : 3 }    { something : 1 }    { sought : 1 }    { Party : 1 }    { bolstered : 1 }    { Commutes : 1 }    { containergetAttributedatastatus : 1 }    { photospotregion : 3 }    { Assert : 1 }    { Friends : 2 }    { buildings : 1 }    { Cookbooks : 1 }    { iconbefore : 1 }    { Lessee : 1 }    { collection : 11 }    { Letters : 1 }    { WAJAHAT : 1 }    { ‘Going : 2 }    { One : 3 }    { reHidetestattrClass : 2 }    { notifyaddEventListenerfocusfunction : 1 }    { alienation : 1 }    { Politics : 6 }    { VIVIAN : 1 }    { Airbnb : 1 }    { nullaresponseTextbJSONparsearesponseTextmessagereturn : 1 }    { DOUG : 1 }    { operative : 1 }    { Body : 1 }    { byline : 2 }    { Friedman : 1 }    { No : 3 }    { storythemefeature : 3 }    { Brooks : 2 }    { li : 3 }    { fontfamily : 11 }    { 2016 : 5 }    { Rowling : 1 }    { auto : 2 }    { Can : 4 }    { messagecontainer : 1 }    { day : 1 }    { Help : 1 }    { Summer : 1 }    { Supreme : 1 }    { Sam : 2 }    { profound : 1 }    { Opportunity : 1 }    { Replica : 1 }    { 10px : 4 }    { functionafunctiontypeof : 1 }    { Arts : 6 }    { From : 10 }    { d2d2 : 1 }    { It’s : 2 }    { 89 : 1 }    { Agent : 1 }    { ‘How : 1 }    { Print : 1 }    { China’s : 3 }    { 87 : 1 }    { 84 : 1 }    { Trumps’ : 1 }    { China : 3 }    { Breast : 2 }    { e1gebe1conreadystatechangefunction4creadyState200cstatusconsoleerrorcstatuscopenGEThttpsgeoipnewsdevnytimescom0trycresponseTypejsoncatchhcsendffunctionavar : 1 }    { supports : 1 }    { Stage : 2 }    { This : 4 }    { Brooklyn : 2 }    { testTimetoUTCStringreplace : 1 }    { Slowdown : 1 }    { Expecting : 2 }    { tied : 1 }    { Gun : 1 }    { Corrections : 1 }    { Meet : 1 }    { spanablayoutlayout : 1 }    { storythemefeaturevideopromosmallupdatedvideopromosmall : 1 }    { could : 2 }    { PETERS : 1 }    { Gothic : 1 }    { ehttpsdocumentlocationprotocoltsrcehttpshttpwwwgoogletagservicescomtagjsgptjsvar : 1 }    { Them” : 1 }    { McNally : 1 }    { CHAN : 1 }    { Forecast : 2 }    { North : 1 }    { NY : 2 }    { Contracts : 1 }    { requirefoundationmain : 5 }    { system : 1 }    { Walls’ : 1 }    { Employers : 1 }    { their : 1 }    { h6hover : 4 }    { View : 2 }    { Remote : 1 }    { 97px : 1 }    { notifysetAttributeplaceholder : 1 }    { fontsize : 19 }    { foundationviewspagemanager : 2 }    { aindexOfcode0bareplacecodereturn : 1 }    { requireconfig : 1 }    { Leonhardt : 1 }    { Jason : 2 }    { Edition : 1 }    { requirejquerynyt : 2 }    { 8pxgmodelpromohovertextdecorationnonegmodelpromo : 1 }    { mediaslideshow : 1 }    { Information : 2 }    { false : 1 }    { Pay : 1 }    { ECigarettes : 2 }    { comfortable : 1 }    { Writers : 1 }    { have : 3 }    { Becerra : 1 }    { need : 2 }    { border : 3 }    { Oil : 2 }    { notifysetAttributeplaceholderorigtext : 1 }    { videopromosmallcontainer : 1 }    { After : 4 }    { authmtr : 1 }    { 321 : 4 }    { which : 1 }    { Science : 4 }    { Moines : 1 }    { Well : 1 }    { Blogs : 1 }    { who : 1 }    { HEADER : 1 }    { Advertising : 1 }    { masthead : 1 }    { why : 1 }    { Account : 1 }    { WINES : 1 }    { url : 1 }    { Pursuits : 1 }    { rgba971361665 : 1 }    { Illustrated : 1 }    { Donald : 7 }    { nythpHideTimestamps : 1 }    { Coucou’s : 1 }    { httpsstatic01nytcomvideovhsbuildvhs2xmin : 1 }    { Goal : 1 }    { text : 2 }    { MultimediaPhotos : 1 }    { h3gcharttitle : 1 }    { Math : 2 }    { staff : 1 }    { httpsintnytcomapplicationsemailsubscriberclient : 1 }    { Officer’ : 1 }    { Legitimacy : 1 }    { definedefineamddefinenytintgeoipawindownytintgeoipafunctionuse : 1 }    { cache : 1 }    { Update : 1 }    { gbargtrumpbackgroundd75c5cgmodelpromohppromoccol : 1 }    { York : 12 }    { 5px : 7 }    { commentspanel : 1 }    { Homes : 1 }    { watching : 1 }    { 999 : 2 }    { Keep : 1 }    { 08125rem : 1 }    { Forget : 1 }    { taxes : 1 }    { Broadway : 2 }    { endTime : 4 }    { httpsstatic01nytcomjsauthgrowldefault : 1 }    { Anymore : 1 }    { nullaresponsebJSONparsearesponsedatabreakcase : 1 }    { Alterations : 1 }    { officials : 1 }    { Passion : 1 }    { 165rem : 1 }    { storythemesummary : 3 }    { borderwidth2px : 1 }    { gtoplinemarginbottom5pxcolor333gmodelpromohppromoccol : 1 }    { 21rem : 1 }    { email : 4 }    { PM : 1 }    { 2px : 12 }    { fontstyle : 2 }    { S : 1 }    { Race : 2 }    { Edgar : 1 }    { key : 1 }    { Islands : 1 }    { Greater : 2 }    { gpromofooterdisplaywebkitboxdisplaymsflexboxdisplayflexwebkitboxpackjustifymsflexpackjustifyjustifycontentspacebetweenwebkitboxalignbaselinemsflexalignbaselinealignitemsbaselinefontsize13pxmargintop5pxgmodelpromohppromoccol : 1 }    { borderbottomrightradius : 2 }    { career : 1 }    { Human : 1 }    { Playoff : 1 }    { functionPortal : 1 }    { Unlikely : 2 }    { gchartdisplaywebkitboxdisplaymsflexboxdisplayflexgmodelpromohppromoccol : 1 }    { windowNYTDGlobaldisplayBriefingspreviewTime : 1 }    { Dynamics : 1 }    { Heft : 1 }    { MANJOO : 1 }    { widgetgetElementsByTagNameform0 : 1 }    { Artificial : 1 }    { nytfranklinHelveticaArialsansserifgmodelpromohppromoccolhovertextdecorationnonegmodelpromohppromoccolhover : 1 }    { subscribe : 1 }    { Music : 2 }    { table : 1 }    { winning : 1 }    { Regrets : 1 }    { Get : 3 }    { Take’ : 1 }    { baseUrl : 1 }    { json : 1 }    { Obituaries : 2 }    { f8e9d2 : 1 }    { Center : 1 }    { backgroundrepeat : 1 }    { kickers : 1 }    { Trevor : 2 }    { Credit : 1 }    { World : 8 }    { LongSuffering : 1 }    { 375px : 1 }    { Navigation : 7 }    { Force : 1 }    { Deaths : 1 }    { Español : 1 }    { Hot : 2 }    { will : 2 }    { nytfranklinarialhelveticasansserif : 1 }    { Wait : 1 }    { requirenytintemailsubscriber : 1 }    { MORE : 1 }    { SAMANTHA : 1 }    { Coucou : 1 }    { Good’ : 1 }    { You : 2 }    { Friendly : 1 }    { Hope : 1 }    { KAUFMAN : 1 }    { borderradius : 1 }    { h2gsentencefontsize13pxgmodelpromo : 1 }    { kgeohieijoinb0classListaddkc0returnfunctiontypeof : 1 }    { NYTimescom : 2 }    { Car : 1 }    { Safer : 1 }    { tighten : 1 }    { WATCHING : 1 }    { Avoiding : 2 }    { Corzine : 1 }    { Keeps : 1 }    { Can’t : 2 }    { center : 3 }    { i : 2 }    { relativeimportant : 1 }    { Have : 1 }    { Artists : 1 }    { position : 3 }    { Using : 1 }    { RICHARD : 1 }    { increasingly : 1 }    { sources : 1 }    { Sunday : 2 }    { Alibaba : 1 }    { fd8249 : 2 }    { Be : 4 }    { EMMA : 2 }    { Company : 1 }    { Friday : 1 }    { YouTube : 1 }    { Despite : 1 }    { By : 18 }    { match : 1 }    { bordercolor : 4 }    { Abductees : 1 }    { government : 1 }    { 26px : 1 }    { SEWELL : 1 }    { know : 1 }    { Puff : 1 }    { height : 7 }    { loss : 1 }    { Fashion : 6 }    { success : 1 }    { Fear : 2 }    { works : 1 }    { 11px : 3 }    { because : 1 }    { 12px : 9 }    { Crossword : 4 }    { Editor : 2 }    { springs : 1 }    { home : 1 }    { DOWD : 1 }    { 14th : 1 }    { pthemecomments : 1 }    { Killed : 1 }    { Benches : 1 }    { Inside : 1 }    { MICHAEL : 2 }    { Up : 6 }    { Us : 3 }    { host : 1 }    { offset : 2 }    { after : 1 }    { Dahlan’s : 1 }    { about : 1 }    { hpHeader : 15 }    { column : 1 }    { US : 4 }    { that’s : 1 }    { Questions : 1 }    { political : 2 }    { Alerts : 1 }    { h6 : 26 }    { Two : 3 }    { ENGEL : 1 }    { SIFTON : 1 }    { var : 25 }    { httpsstatic01nytcomjs2buildvideo20videofactoryrequire : 1 }    { November : 1 }    { function : 14 }    { Cooks : 1 }    { NYTDAbrainitHOMEComingUp2147483648control12147483648comingup1HOMENewsEvent23865470567full1429496729control1HOMEElectionPrediction3865470567on1429496729control1ECSampleTest2147483648variantA02147483648variantB0ECDigiAbandonmentTest4294967296control1 : 1 }    { dataType : 1 }    { 700 : 5 }    { Des : 1 }    { MILLS : 1 }    { but : 2 }    { zoom1 : 1 }    { bug : 1 }    { he : 1 }    { h2gmodelpromo : 1 }    { signed : 1 }    { record : 1 }    { productionpublished : 1 }    { display : 19 }    { » : 4 }    { Portalcreatenytinthpwatching : 1 }    { Wreck : 1 }    { notifyaddEventListenermouseoverfunction : 1 }    { marginbottom : 13 }    { maxHeight : 1 }    { 0bbnullgfunctionefifbreturn1trysessionStoragesetItemaJSONstringifyecatchgifvoid : 1 }    { ifnotify : 1 }    { variety : 1 }    { Centered : 1 }    { ‘Hacksaw : 1 }    { Delivery : 1 }    { Trilobites : 1 }    { Frugal : 1 }    { William : 1 }    { HPHEADER : 1 }    { chance : 1 }    { Endure : 1 }    { multinationals : 1 }    { RASHBAUM : 1 }    { Page : 1 }    { South : 3 }    { — : 1 }    { bulwark : 1 }    { Site : 10 }    { Mr : 1 }    { formsetAttributeclassdirtyform : 1 }    { Proposition : 1 }    { Contributor : 2 }   \n"
     ]
    }
   ],
   "source": [
    "#-*- coding: utf-8 -*-\n",
    "# nytimes 홈페이지\n",
    "import string\n",
    "import urllib2\n",
    "# source 변수에 페이지 소스를 읽어온다.\n",
    "source = urllib2.urlopen(\"http://www.nytimes.com\").read()\n",
    "# 읽어온 페이지의 줄띄움, 탭, 빈 공간을 모두 없애주고 한줄로 깔끔하게 정리한다.\n",
    "source = source.replace('\\n','')\n",
    "source =  source.replace('\\t','')\n",
    "new=[]\n",
    "dic = dict()\n",
    "\n",
    "while 1:\n",
    "    # <의 위치값\n",
    "    start = source.find('<')\n",
    "    # >의 위치값은 항상 <보다 커야한다. 그래야 html 태그라고 볼 수 있다.\n",
    "    end = source.find('>',start)\n",
    "    \n",
    "    # html 태그가 아닌 순수한 문자열 중에서도 <와 >가 있을 수 있다. 그것을 구분하기 위한 코드이다.\n",
    "    # html 태그라면 <의 위치값이 >의 위치값 보다 항상 낮다. 만약 크다면 순수한 문자열이라고 볼 수 있다.\n",
    "    if (start-end) >= 1 :\n",
    "        continue     \n",
    "    \n",
    "    # html 태그가 맞다면 태그 부분을 빈 공간으로 대체한다.\n",
    "    if ( start != -1) and (end != -1):\n",
    "        source =  source.replace(source[start:end+1],\" \")       \n",
    "    \n",
    "    # html 태그를 모두 찾고 더이상 없으면 반복문을 종료\n",
    "    if ( start == -1) and (end == -1):\n",
    "        break\n",
    "        \n",
    "new = source.split() # 공백으로 단어 분리 해서 new에 리스트로 저장\n",
    "for i,s in enumerate(new):\n",
    "    for k in s:\n",
    "        if k in string.punctuation: # 글자 외의 기호들을 모두 ''로 치환.\n",
    "            s= s.replace(k,'')\n",
    "    else :\n",
    "        new[i] = s\n",
    "a=0\n",
    "while(a <5): # 한번에 다 삭제가 안되서 5번정도 반복문을 돌림...\n",
    "    a=a+1 \n",
    "    for i,n in enumerate(new):\n",
    "        if n == '': # 리스트 안에 '' 요소들은 모두 삭제 \n",
    "            del new[i]\n",
    "\n",
    "for n in new:\n",
    "    dic[n]= new.count(n) # 리스트안의 요소들을 카운트 해서 dic 사전에 저장\n",
    "\n",
    "for key in dic: # 영문페이지여도 몇몇 문자가 유니코드였는지 또 깨져서 나와서 얘도 요소 하나하나 출력..\n",
    "    print '{',key,':',dic[key],'}   ',\n",
    "\n",
    "\n",
    "\n",
    "\n",
    "\n"
   ]
  },
  {
   "cell_type": "markdown",
   "metadata": {
    "collapsed": true
   },
   "source": [
    "### 소감문\n",
    "> 임플리먼트 숙제 말입니다......파이썬 한글이 정말 너무 인코딩이 진짜 너무 안되서 사전 출력할 때 원소 하나하나 루프 돌면서 출력했습니다.  \n",
    ">그리고 요구사항 2번이 리스트 안에 '' 요소가 있으면 삭제하랬잖아요 근데 제 코드에서는 저게 루프 한번만에 삭제가 전부 안되더라구요 그래서 루프 한 다섯번? 정도 돌리니까 전부 삭제가 되긴했는데 왜그런걸까요...?"
   ]
  },
  {
   "cell_type": "code",
   "execution_count": null,
   "metadata": {
    "collapsed": true
   },
   "outputs": [],
   "source": []
  }
 ],
 "metadata": {
  "kernelspec": {
   "display_name": "Python 2",
   "language": "python",
   "name": "python2"
  },
  "language_info": {
   "codemirror_mode": {
    "name": "ipython",
    "version": 2
   },
   "file_extension": ".py",
   "mimetype": "text/x-python",
   "name": "python",
   "nbconvert_exporter": "python",
   "pygments_lexer": "ipython2",
   "version": "2.7.12"
  }
 },
 "nbformat": 4,
 "nbformat_minor": 1
}
